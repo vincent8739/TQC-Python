{
 "cells": [
  {
   "cell_type": "markdown",
   "metadata": {},
   "source": [
    "# Python 401 最小值\n",
    "請撰寫一程式 使用者輸入 n 個數字，然後輸出這n 個數字中的最小值。如果用戶輸入的數字數量與預期的 n 不符，則顯示錯誤訊息。，最後輸出最小值"
   ]
  },
  {
   "cell_type": "code",
   "execution_count": 8,
   "metadata": {},
   "outputs": [
    {
     "name": "stdout",
     "output_type": "stream",
     "text": [
      "The input min.value is 1\n"
     ]
    }
   ],
   "source": [
    "key_in=[]\n",
    "n=eval(input(\"how manay times:\"))\n",
    "for i in range (1,n+1):\n",
    "    m=eval(input(\"please input a numbers:\"))\n",
    "    key_in.append(m)\n",
    "if n==len(key_in):\n",
    "    print(f\"The input min.value is {min(key_in)}\")\n",
    "else:\n",
    "    print(\"error,the inputs are inconsistent\")\n"
   ]
  },
  {
   "cell_type": "code",
   "execution_count": 1,
   "metadata": {},
   "outputs": [
    {
     "name": "stdout",
     "output_type": "stream",
     "text": [
      "請問要計算輸入最小值,請按'y'或是離開請按'n':\n",
      "要輸入數字的次數:\n",
      "請輸入第1數字:\n",
      "請輸入第2數字:\n",
      "請輸入第3數字:\n",
      "輸入的數字中最小值是 1\n",
      "請問要計算輸入最小值,請按'y'或是離開請按'n':\n",
      "程序結束，謝謝使用！\n"
     ]
    }
   ],
   "source": [
    "import pyinputplus as pyip\n",
    "while True:\n",
    "    try:\n",
    "        selection=pyip.inputYesNo(\"請問要計算輸入最小值,請按'y'或是離開請按'n':\\n\")\n",
    "        if selection=='yes':\n",
    "            key_in=[]\n",
    "            n=pyip.inputInt(\"要輸入數字的次數:\\n\",min=0)\n",
    "            for i in range (n):\n",
    "                m=pyip.inputInt(f\"請輸入第{i+1}數字:\\n\")\n",
    "                key_in.append(m)\n",
    "            print(f\"輸入的數字中最小值是 {min(key_in)}\")\n",
    "\n",
    "        else:\n",
    "            print(\"程序結束，謝謝使用！\")\n",
    "            break\n",
    "\n",
    "    except ValueError as ve:\n",
    "        print(f\"輸入錯誤：{ve}\")\n",
    "    except KeyboardInterrupt:\n",
    "        print(\"\\n程序被用戶中斷\")\n",
    "        break\n",
    "    except Exception as e:\n",
    "        print(f\"發生未預期的錯誤：{e}\")"
   ]
  },
  {
   "cell_type": "markdown",
   "metadata": {},
   "source": [
    "##### 程式I: 函數式編程(Functional Programming, FP)"
   ]
  },
  {
   "cell_type": "code",
   "execution_count": 1,
   "metadata": {},
   "outputs": [
    {
     "name": "stdout",
     "output_type": "stream",
     "text": [
      "請問要計算輸入最小值,請按'y'或是離開請按'n':\n",
      "要輸入數字的次數:\n",
      "請輸入第1數字:\n",
      "請輸入第2數字:\n",
      "輸入的數字中最小值是 1\n",
      "請問要計算輸入最小值,請按'y'或是離開請按'n':\n",
      "程序結束，謝謝使用！\n"
     ]
    }
   ],
   "source": [
    "import pyinputplus as pyip\n",
    "\n",
    "def compute():\n",
    "    lst:list=[]\n",
    "    t=pyip.inputInt(\"要輸入數字的次數:\\n\",min=1)\n",
    "    for i in range (t):\n",
    "        num=pyip.inputInt(f\"請輸入第{i+1}數字:\\n\")\n",
    "        lst.append(num)\n",
    "        min_value=min(lst)\n",
    "    return min_value\n",
    "\n",
    "def main():\n",
    "        \n",
    "    while True:\n",
    "        try:\n",
    "            selection=pyip.inputYesNo(\"請問要計算輸入最小值,請按'y'或是離開請按'n':\\n\")\n",
    "            if selection=='yes':\n",
    "                min_value=compute()\n",
    "                print(f\"輸入的數字中最小值是 {min_value}\")\n",
    "\n",
    "            else:\n",
    "                print(\"程序結束，謝謝使用！\")\n",
    "                break\n",
    "\n",
    "        except ValueError as ve:\n",
    "            print(f\"輸入錯誤：{ve}\")\n",
    "        except KeyboardInterrupt:\n",
    "            print(\"\\n程序被用戶中斷\")\n",
    "            break\n",
    "        except Exception as e:\n",
    "            print(f\"發生未預期的錯誤：{e}\")\n",
    "\n",
    "if __name__==\"__main__\":\n",
    "    main()"
   ]
  },
  {
   "cell_type": "markdown",
   "metadata": {},
   "source": [
    "##### 程式II: 物件導向程式設計（Object-oriented programming，OOP)"
   ]
  },
  {
   "cell_type": "code",
   "execution_count": 2,
   "metadata": {},
   "outputs": [
    {
     "name": "stdout",
     "output_type": "stream",
     "text": [
      "Python401 最小值, 請問要執行程式,請按'y'或是離開請按'n':\n",
      "要輸入數字的次數:\n",
      "請輸入第1數字:\n",
      "請輸入第2數字:\n",
      "請輸入第3數字:\n",
      "輸入的數字中最小值是 1\n",
      "Python401 最小值, 請問要執行程式,請按'y'或是離開請按'n':\n",
      "程序結束，謝謝使用！\n"
     ]
    }
   ],
   "source": [
    "import pyinputplus as pyip\n",
    "\n",
    "class MinValueCalculation:\n",
    "    def __init__(self,number:list[int]) -> None:\n",
    "        self.number=number\n",
    "        self._min_number=None\n",
    "            \n",
    "    @property\n",
    "    def min_number(self):\n",
    "        return self._min_number       \n",
    "   \n",
    "    def calculation_method(self):\n",
    "        self._min_number=min(self.number)\n",
    "            \n",
    "    def display_method(self):\n",
    "        print(f\"輸入的數字中最小值是 {self._min_number}\")\n",
    "        \n",
    "def input_function():  \n",
    "    number=[]        \n",
    "    t=pyip.inputInt(\"要輸入數字的次數:\\n\",min=1)\n",
    "    for i in range (t):\n",
    "            num=pyip.inputInt(f\"請輸入第{i+1}數字:\\n\")\n",
    "            number.append(num)\n",
    "    return number\n",
    "\n",
    "def main():\n",
    "                \n",
    "    while True:       \n",
    "        try:\n",
    "            selection=pyip.inputYesNo(\"Python 401 最小值, 請問要執行程式,請按'y'或是離開請按'n':\\n\")\n",
    "            if selection=='yes':\n",
    "                number=input_function()\n",
    "                calculation=MinValueCalculation(number)       \n",
    "                calculation.calculation_method()\n",
    "                calculation.display_method()\n",
    "            \n",
    "            else:\n",
    "                print(\"程序結束，謝謝使用！\")\n",
    "                break\n",
    "\n",
    "        except ValueError as ve:\n",
    "            print(f\"輸入錯誤：{ve}\")\n",
    "            \n",
    "        except KeyboardInterrupt:\n",
    "            print(\"\\n程序被用戶中斷\")\n",
    "            break\n",
    "        except Exception as e:\n",
    "            print(f\"發生未預期的錯誤：{e}\")\n",
    "            break\n",
    "\n",
    "if __name__==\"__main__\":\n",
    "    main()"
   ]
  },
  {
   "cell_type": "markdown",
   "metadata": {},
   "source": [
    "# Python 402 不定數迴圈-最小值\n",
    "請撰寫一程式，讓使用者輸入數字，輸入的動作直到輸入值為9999才結束，然後找出其最小值，並輸出最小值。"
   ]
  },
  {
   "cell_type": "code",
   "execution_count": null,
   "metadata": {},
   "outputs": [],
   "source": [
    "import pyinputplus as pyip\n",
    "while True:\n",
    "    try:\n",
    "        selection:str=pyip.inputStr(\"請問要計算輸入最小值,繼續請按'y'或是離開請按'q':\")\n",
    "        if selection=='y':\n",
    "            lst:list=[]\n",
    "            n=pyip.inputInt(\"要輸入數字的次數:\",min=1)\n",
    "            for i in range (n):\n",
    "                m=pyip.inputInt(f\"請輸入第{i+1}個數字:\")\n",
    "                if m==9999:\n",
    "                    break\n",
    "                else:\n",
    "                    lst.append(m)\n",
    "                        \n",
    "            print(f\"輸入的數字中最小值是 {min(lst)}\")\n",
    "        elif selection=='q':\n",
    "            print(\"程序結束，謝謝使用！\")\n",
    "            break\n",
    "\n",
    "        else:\n",
    "            print(\"無效的選擇，請重新輸入:\")\n",
    "\n",
    "            \n",
    "    except ValueError as ve:\n",
    "        print(f\"輸入錯誤:{ve}\")\n",
    "    except Exception as error:\n",
    "        print(f\"發生未預期的錯誤：{error}\")\n",
    "\n"
   ]
  },
  {
   "cell_type": "markdown",
   "metadata": {},
   "source": [
    "##### 程式I: 函數式編程(Functional Programming, FP)"
   ]
  },
  {
   "cell_type": "code",
   "execution_count": 3,
   "metadata": {},
   "outputs": [
    {
     "name": "stdout",
     "output_type": "stream",
     "text": [
      "請問要計算輸入最小值,繼續請按'y'或是離開請按'q':\n",
      "要輸入數字的次數:\n",
      "請輸入第1個數字:\n",
      "請輸入第2個數字:\n",
      "請輸入第3個數字:\n",
      "輸入的數字中最小值是 1\n",
      "請問要計算輸入最小值,繼續請按'y'或是離開請按'q':\n",
      "程序結束，謝謝使用！\n"
     ]
    }
   ],
   "source": [
    "import pyinputplus as pyip\n",
    "\n",
    "def compute():\n",
    "    t=pyip.inputInt(\"要輸入數字的次數:\\n\",min=1)\n",
    "    lst:list=[]\n",
    "    for i in range (t):\n",
    "        m=pyip.inputInt(f\"請輸入第{i+1}個數字:\\n\")\n",
    "        if m==9999:\n",
    "            break\n",
    "        else:\n",
    "            lst.append(m)\n",
    "            min_value=min(lst)\n",
    "    return min_value\n",
    "\n",
    "def main():\n",
    "        \n",
    "    while True:\n",
    "        try:\n",
    "            selection:str=pyip.inputStr(\"請問要計算輸入最小值,繼續請按'y'或是離開請按'q':\\n\")\n",
    "            if selection=='y':\n",
    "                min_value=compute()                           \n",
    "                print(f\"輸入的數字中最小值是 {min_value}\")\n",
    "\n",
    "            elif selection=='q':\n",
    "                print(\"程序結束，謝謝使用！\")\n",
    "                break\n",
    "\n",
    "            else:\n",
    "                print(\"無效的選擇，請重新輸入:\")\n",
    "   \n",
    "        except ValueError as ve:\n",
    "            print(f\"輸入錯誤:{ve}\")\n",
    "        except Exception as error:\n",
    "            print(f\"發生未預期的錯誤：{error}\")\n",
    "\n",
    "if __name__==\"__main__\":\n",
    "    main()"
   ]
  },
  {
   "cell_type": "markdown",
   "metadata": {},
   "source": [
    "##### 程式II: 物件導向程式設計（Object-oriented programming，OOP)"
   ]
  },
  {
   "cell_type": "code",
   "execution_count": null,
   "metadata": {},
   "outputs": [],
   "source": [
    "import pyinputplus as pyip\n",
    "\n",
    "class MinValueCalculation:\n",
    "    def __init__(self,input_number:list[int]) -> None:\n",
    "        self.input_number=input_number\n",
    "        self._min_number=None\n",
    "    \n",
    "    @property\n",
    "    def min_number(self):\n",
    "        return self._min_number\n",
    "\n",
    "    def calculation_method(self):\n",
    "        self._min_number=min(self.input_number)\n",
    "    \n",
    "    def display_method(self):\n",
    "        print(f\"輸入的數字中最小值是 {self._min_number}\")\n",
    "        \n",
    "def input_function():\n",
    "    input_number=[]\n",
    "    print(\"若想提早結束輸入，請輸入 9999\")\n",
    "    t=pyip.inputInt(\"要輸入數字的次數:\\n\",min=1)\n",
    "    for i in range (t):\n",
    "        number=pyip.inputInt(f\"請輸入第{i+1}個數字:\\n\")\n",
    "        if number==9999:\n",
    "            print(\"提前結束輸入\")\n",
    "            break\n",
    "        else:\n",
    "            input_number.append(number)\n",
    "    return input_number \n",
    "       \n",
    "\n",
    "def main():\n",
    "    \n",
    "    while True:\n",
    "        try:\n",
    "            selection:str=pyip.inputYesNo(\"Python402 不定數迴圈-最小值,繼續請按'y'或是離開請按'q':\\n\", yesVal=\"y\",noVal=\"q\")\n",
    "            if selection=='y':\n",
    "                \n",
    "                input_number=input_function()\n",
    "                calculation=MinValueCalculation(input_number)\n",
    "                calculation.calculation_method()\n",
    "                calculation.display_method()\n",
    "\n",
    "            elif selection=='q':\n",
    "                print(\"程序結束，謝謝使用！\")\n",
    "                break\n",
    "\n",
    "            else:\n",
    "                print(\"無效的選擇，請重新輸入:\")\n",
    "   \n",
    "        except ValueError as ve:\n",
    "            print(f\"輸入錯誤:{ve}\")\n",
    "        except Exception as error:\n",
    "            print(f\"發生未預期的錯誤：{error}\")\n",
    "            break\n",
    "\n",
    "if __name__==\"__main__\":\n",
    "    main()\n",
    "        "
   ]
  },
  {
   "cell_type": "markdown",
   "metadata": {},
   "source": [
    "# Python 403 倍數總和計算\n",
    "請撰寫一程式，讓使用者輸入兩個正整數a、b（a<=b），輸出從a到b（包含a和b）之間4或9的倍數（一列輸出十個數字、欄寬為4、靠左對齊）以及倍數之個數、總和。"
   ]
  },
  {
   "cell_type": "code",
   "execution_count": 11,
   "metadata": {},
   "outputs": [
    {
     "name": "stdout",
     "output_type": "stream",
     "text": [
      "please input the first number: please input the second number: 輸出從1到10之間 4或9的倍數[4, 8, 9]\n",
      "4或9倍數之個數: 3\n",
      "4或9倍數之個數之總和:21\n"
     ]
    }
   ],
   "source": [
    "import pyinputplus as pyip\n",
    "\n",
    "while True:\n",
    "    try:\n",
    "        a:int=pyip.inputInt(\"please input the first number: \")\n",
    "        b:int=pyip.inputInt(\"please input the second number: \")\n",
    "        if a<=b:\n",
    "            lst:list=[]\n",
    "            for i in range(a,b+1):\n",
    "                if i%4==0 or i%9==0:\n",
    "                    lst.append(i)\n",
    "            print(f\"輸出從{a}到{b}之間 4或9的倍數{lst}\")\n",
    "            print(f\"4或9倍數之個數: {len(lst)}\")\n",
    "            print(f\"4或9倍數之個數之總和:{sum(lst)}\")\n",
    "            break\n",
    "        else:\n",
    "            print(\"無效的選擇，請重新輸入:\")\n",
    "    \n",
    "    except Exception as error:\n",
    "        print(f\"發生未預期的錯誤：{error}\")\n"
   ]
  },
  {
   "cell_type": "markdown",
   "metadata": {},
   "source": [
    "##### 程式I: 函數式編程(Functional Programming, FP)"
   ]
  },
  {
   "cell_type": "code",
   "execution_count": 6,
   "metadata": {},
   "outputs": [
    {
     "name": "stdout",
     "output_type": "stream",
     "text": [
      "請輸入第一個數字範圍: \n",
      "請輸入第二個數字範圍: \n",
      "從1到10之間 4或9的倍數[4, 8, 9] \n",
      "\n",
      "4或9倍數之個數: 3 \n",
      "\n",
      "4或9倍數之個數之總和:21\n"
     ]
    }
   ],
   "source": [
    "import pyinputplus as pyip\n",
    "\n",
    "def compute(a,b):\n",
    "    lst:list=[]\n",
    "    for i in range(a,b+1):\n",
    "        if i%4==0 or i%9==0:\n",
    "            lst.append(i)\n",
    "    num=len(lst)\n",
    "    total=sum(lst)\n",
    "    return lst,num,total\n",
    "    \n",
    "\n",
    "def main():\n",
    "        \n",
    "    while True:\n",
    "        try:\n",
    "            a:int=pyip.inputInt(\"請輸入第一個數字範圍: \\n\")\n",
    "            b:int=pyip.inputInt(\"請輸入第二個數字範圍: \\n\")\n",
    "            if a<=b:\n",
    "                lst,num,total=compute(a,b)\n",
    "                print(f\"從{a}到{b}之間 4或9的倍數{lst} \\n\")\n",
    "                print(f\"4或9倍數之個數: {num} \\n\")\n",
    "                print(f\"4或9倍數之個數之總和:{total}\")\n",
    "                break\n",
    "            else:\n",
    "                print(\"無效的選擇，請重新輸入:\")\n",
    "        \n",
    "        except Exception as error:\n",
    "            print(f\"發生未預期的錯誤：{error}\")\n",
    "\n",
    "if __name__==\"__main__\":\n",
    "    main()"
   ]
  },
  {
   "cell_type": "markdown",
   "metadata": {},
   "source": [
    "##### 程式II: 物件導向程式設計（Object-oriented programming，OOP)"
   ]
  },
  {
   "cell_type": "code",
   "execution_count": null,
   "metadata": {},
   "outputs": [],
   "source": [
    "import pyinputplus as pyip\n",
    "\n",
    "class SumOfMultiples():\n",
    "    def __init__(self,a:int,b:int,numbers:list[int]) -> None:\n",
    "        self.a=a\n",
    "        self.b=b\n",
    "        self.number=numbers\n",
    "        self._items=None\n",
    "        self._total=None\n",
    "    \n",
    "    @property\n",
    "    def items(self):\n",
    "        return self._items\n",
    "    \n",
    "    @property\n",
    "    def totals(self):\n",
    "        return self._total\n",
    "    \n",
    "    def calculation_method(self) ->None:\n",
    "        self._items=len(self.number)\n",
    "        self._total=sum(self.number)\n",
    "    \n",
    "    def display_method(self) ->None:\n",
    "        print(f\"從{self.a}到{self.b}之間 4或9的倍數{self.number} \\n\")\n",
    "        print(f\"4或9倍數之個數: {self._items} \\n\")\n",
    "        print(f\"4或9倍數之個數之總和:{self._total}\")\n",
    "    \n",
    "def input_function():\n",
    "    while True:\n",
    "        numbers=[]\n",
    "        a=pyip.inputInt(\"請輸入第一個數字範圍: \\n\")\n",
    "        b=pyip.inputInt(\"請輸入第二個數字範圍: \\n\")\n",
    "        if a < b:\n",
    "            for i in range (a,b+1):\n",
    "                if i%4==0 or i%9==0:\n",
    "                    numbers.append(i)\n",
    "            return a,b,numbers               \n",
    "            \n",
    "        else:\n",
    "            print(f\"無效的範圍！{a} 應小於或等於 {b}，請重新輸入:\")\n",
    "            continue\n",
    "\n",
    "def main():\n",
    "    \n",
    "    while True:\n",
    "        try:\n",
    "            selection:str=pyip.inputYesNo(\"Python 403 倍數總和計算,繼續請按'y'或是離開請按'q':\\n\", yesVal=\"y\",noVal=\"q\")\n",
    "            if selection=='y':\n",
    "                \n",
    "                a,b,numbers=input_function()\n",
    "                sum_multiples_calculation=SumOfMultiples(a,b,numbers)               \n",
    "                sum_multiples_calculation.calculation_method()\n",
    "                sum_multiples_calculation.display_method()\n",
    "\n",
    "            else:\n",
    "                print(\"程序結束，謝謝使用！\")\n",
    "                break\n",
    "\n",
    "        except Exception as error:\n",
    "            print(f\"發生未預期的錯誤：{error}\")\n",
    "            break\n",
    "\n",
    "if __name__==\"__main__\":\n",
    "    main()"
   ]
  },
  {
   "cell_type": "markdown",
   "metadata": {},
   "source": [
    "# Python 404 數字反轉判斷\n",
    "請撰寫一程式，讓使用者輸入一個正整數，將此正整數以反轉的順序輸出，並判斷如輸入0，則輸出為0。"
   ]
  },
  {
   "cell_type": "code",
   "execution_count": 8,
   "metadata": {},
   "outputs": [
    {
     "name": "stdout",
     "output_type": "stream",
     "text": [
      "please input a number:input is 123456, output is 654321\n",
      "please input a number:0\n"
     ]
    }
   ],
   "source": [
    "import pyinputplus as pyip\n",
    "while True:\n",
    "    try:\n",
    "        num:int=pyip.inputStr(\"please input a number:\")\n",
    "        if num==\"0\":\n",
    "            print(\"0\")\n",
    "            break\n",
    "        else:\n",
    "            rev_num=''.join(reversed(num))\n",
    "            print(f\"input is {num}, output is {rev_num}\",end='')\n",
    "            print()\n",
    "            \n",
    "   \n",
    "    except Exception as error:\n",
    "        print(f\"發生未預期的錯誤：{error}\")\n",
    "\n"
   ]
  },
  {
   "cell_type": "markdown",
   "metadata": {},
   "source": [
    "##### 程式I: 函數式編程(Functional Programming, FP)"
   ]
  },
  {
   "cell_type": "code",
   "execution_count": 7,
   "metadata": {},
   "outputs": [
    {
     "name": "stdout",
     "output_type": "stream",
     "text": [
      "請輸入一段數字或文字 或按'0'離開: 輸入的是abcdef, 反轉的順序輸出 fedcba\n",
      "請輸入一段數字或文字 或按'0'離開: 0\n"
     ]
    }
   ],
   "source": [
    "import pyinputplus as pyip\n",
    "\n",
    "def compute(char):\n",
    "    rev_char=\"\".join(reversed(char))\n",
    "    return rev_char\n",
    "\n",
    "def main():\n",
    "\n",
    "    while True:\n",
    "        try:\n",
    "            num:int=pyip.inputStr(\"請輸入一段數字或文字 或按'0'離開: \")\n",
    "            if num==\"0\":\n",
    "                print(\"0\")\n",
    "                break\n",
    "            else:\n",
    "                result=compute(num)\n",
    "                print(f\"輸入的是{num}, 反轉的順序輸出 {result}\",end='')\n",
    "            print()\n",
    "        except pyip.RetryLimitException:\n",
    "            print(\"達到最大重試次數，退出程式。\")\n",
    "            break            \n",
    "        except Exception as error:\n",
    "            print(f\"發生未預期的錯誤：{error}\")\n",
    "\n",
    "if __name__==\"__main__\":\n",
    "    main()"
   ]
  },
  {
   "cell_type": "markdown",
   "metadata": {},
   "source": [
    "##### 程式II: 物件導向程式設計（Object-oriented programming，OOP)"
   ]
  },
  {
   "cell_type": "code",
   "execution_count": null,
   "metadata": {},
   "outputs": [],
   "source": [
    "import pyinputplus as pyip\n",
    "\n",
    "class InputReverseOutput():\n",
    "    def __init__(self,number_chart:str) -> None:\n",
    "        self.number_chart=number_chart\n",
    "        self._output=None\n",
    "    \n",
    "    @property\n",
    "    def output(self):\n",
    "        return self._output\n",
    "    \n",
    "    def calculation_method(self) -> None: \n",
    "        self._output=''.join(reversed(self.number_chart))\n",
    "    \n",
    "    def display_method(self) -> None: \n",
    "        print(f\"輸入的是{self.number_chart}, 反轉的順序輸出 {self._output}\")\n",
    "    \n",
    "def input_function():\n",
    "    numbers_charts=pyip.inputStr(\"請輸入一段數字或文字:\\n\")\n",
    "    return numbers_charts\n",
    "\n",
    "def main():\n",
    "    \n",
    "    while True:\n",
    "        try:\n",
    "            selection:str=pyip.inputYesNo(\"Python 404 數字反轉判斷,繼續請按'y'或是離開 請按'q':\\n\", yesVal=\"y\",noVal=\"q\")\n",
    "            \n",
    "            if selection=='y':\n",
    "                number_chart=input_function()\n",
    "                reverse_number_chart=InputReverseOutput(number_chart)\n",
    "                reverse_number_chart.calculation_method()\n",
    "                reverse_number_chart.display_method()\n",
    "\n",
    "            else:\n",
    "                print(\"程序結束，謝謝使用！\")\n",
    "                break\n",
    "\n",
    "        except pyip.RetryLimitException:\n",
    "            print(\"達到最大重試次數，退出程式。\")\n",
    "            break            \n",
    "        except Exception as error:\n",
    "            print(f\"發生未預期的錯誤：{error}\")\n",
    "\n",
    "if __name__==\"__main__\":\n",
    "    main()        "
   ]
  },
  {
   "cell_type": "markdown",
   "metadata": {},
   "source": [
    "### [Key Note]:\n",
    "使用 reversed 和 join：\\\n",
    "(A) 語法: reversed(變數名稱:str):\\\n",
    "使用 reversed(變數名稱:str) 時，它會返回一個反向的迭代器(iterator)，這意味著你獲得了一個可以按相反順序遍歷(traverse) num 中每個元素的對象，但這個對象本身並不是一個字串，而是一個迭代器 然而，這個迭代器不能直接用來顯示或存儲，因為它不具有字串的特性\\\n",
    "[Example]\\\n",
    "num:str=\"12345\"，\\\n",
    "result=reversed(num)\\\n",
    "result=一個迭代器，該迭代器可以逐個訪問 '5', '4', '3', '2', '1'。\n",
    "\n",
    "(B) 語法: separator.join(iterable):\\\n",
    "1.separator：這是用來分隔每個元素的字串。若使用空字串 ''，則元素之間不會有任何分隔符。\\\n",
    "2. iterable：這是任何可迭代的對象（例如列表、元組或字串），其中包含你想要合併的元素\n",
    "[Example]\\\n",
    "words = ['Hello', 'world', '!']\\\n",
    "result = ' '.join(words) # Join with a space\\\n",
    "print(result)  # Output: \"Hello world !\"\n",
    "\n",
    "所以: \n",
    "''.join(reversed(num)) 將反向的字符合併成一個新字串。"
   ]
  },
  {
   "cell_type": "markdown",
   "metadata": {},
   "source": [
    "# Python 405 不定數迴圈-分數等級\n",
    "請撰寫一程式，以不定數迴圈的方式輸入一個正整數（代表分數），之後根據以下分數與成績平均績點 (Grade Point Average,GPA) 的對照表，印出其所對應的GPA。假設此不定數迴圈輸入-9999則會結束此迴圈。標準如下表所示：\\\n",
    "分　數 GPA \\\n",
    " 90 ~ 100 A \\\n",
    " 80 ~ 89 B \\\n",
    " 70 ~ 79 C \\\n",
    " 60 ~ 69 D \\\n",
    "  0 ~ 59 E"
   ]
  },
  {
   "cell_type": "code",
   "execution_count": 3,
   "metadata": {},
   "outputs": [
    {
     "name": "stdout",
     "output_type": "stream",
     "text": [
      "Please input the test score: The score is 98, and the GPA is A \n",
      "Please input the test score: The score is 60, and the GPA is D \n",
      "Please input the test score: The score is 88, and the GPA is B \n",
      "Please input the test score: The program has terminated. Thank you for using it.\n"
     ]
    }
   ],
   "source": [
    "import pyinputplus as pyip\n",
    "while True:\n",
    "    try:\n",
    "        num:int=pyip.inputInt(\"Please input the test score: \",max=100)\n",
    "        if num==-9999:\n",
    "            print(\"The program has terminated. Thank you for using it.\")\n",
    "            break\n",
    "        elif num>=90:\n",
    "            print (f\"The score is {num}, and the GPA is A \")\n",
    "        elif num>=80:\n",
    "            print (f\"The score is {num}, and the GPA is B \")\n",
    "        elif num>=70:\n",
    "            print (f\"The score is {num}, and the GPA is C \")\n",
    "        elif num>=60:\n",
    "            print (f\"The score is {num}, and the GPA is D \")\n",
    "        else:\n",
    "            print (f\"The score is {num}, and the GPA is E \")\n",
    "        \n",
    "\n",
    "    except Exception as error:\n",
    "        print(f\"發生未預期的錯誤：{error}\")"
   ]
  },
  {
   "cell_type": "markdown",
   "metadata": {},
   "source": [
    "##### 程式I: 函數式編程(Functional Programming, FP)"
   ]
  },
  {
   "cell_type": "code",
   "execution_count": 1,
   "metadata": {},
   "outputs": [
    {
     "name": "stdout",
     "output_type": "stream",
     "text": [
      "請輸入測試分數 (若輸入 -9999 以結束): 分數是95, 對應的 GPA 是 A\n",
      "請輸入測試分數 (若輸入 -9999 以結束): 程式已終止。感謝您的使用！\n"
     ]
    }
   ],
   "source": [
    "import pyinputplus as pyip\n",
    "def compute(score):\n",
    "\n",
    "    if score>=90:\n",
    "        GPA=\"A\"\n",
    "    elif score>=80:\n",
    "        GPA=\"B\"\n",
    "    elif score >=70:\n",
    "        GPA=\"C\"\n",
    "    elif score>=60:\n",
    "        GPA=\"D\"         \n",
    "    else:\n",
    "        GPA=\"E\"\n",
    "      \n",
    "    return GPA   \n",
    "\n",
    "def main():\n",
    "        \n",
    "    while True:\n",
    "        try:\n",
    "            num:int=pyip.inputInt(\"請輸入測試分數 (若輸入 -9999 以結束): \",max=100)\n",
    "            if num==-9999:\n",
    "                print(\"程式已終止。感謝您的使用！\")\n",
    "                break\n",
    "            else:\n",
    "                result=compute(num)\n",
    "                print (f\"分數是{num}, 對應的 GPA 是 {result}\")           \n",
    "\n",
    "        except Exception as error:\n",
    "            print(f\"發生未預期的錯誤：{error}\")\n",
    "\n",
    "\n",
    "if __name__==\"__main__\":\n",
    "    main()"
   ]
  },
  {
   "cell_type": "markdown",
   "metadata": {},
   "source": [
    "##### 程式II: 物件導向程式設計（Object-oriented programming，OOP)"
   ]
  },
  {
   "cell_type": "code",
   "execution_count": 5,
   "metadata": {},
   "outputs": [
    {
     "name": "stdout",
     "output_type": "stream",
     "text": [
      "要繼續使用分數等級程式,請按'y',或是離開請按'q': \n",
      "請輸入測試分數: 分數是88, 對應的 GPA 是 B\n",
      "要繼續使用分數等級程式,請按'y',或是離開請按'q': \n",
      "程序結束，謝謝使用！\n"
     ]
    }
   ],
   "source": [
    "import pyinputplus as pyip\n",
    "\n",
    "class GPACalculation:\n",
    "    def __init__(self,score:int) -> None:\n",
    "        self.score=score\n",
    "        self._GPA_level=None   \n",
    "    \n",
    "    @property    \n",
    "    def GPA_level(self):\n",
    "        return self._GPA_level\n",
    "\n",
    "    def calculation_method(self) -> None:\n",
    "        if self.score>=90:\n",
    "            self.GPA_level=\"A\"\n",
    "        elif self.score>=80:\n",
    "            self.GPA_level=\"B\"\n",
    "        elif self.score >=70:\n",
    "            self.GPA_level=\"C\"\n",
    "        elif self.score>=60:\n",
    "            self.GPA_level=\"D\"         \n",
    "        else:\n",
    "            self.GPA_level=\"E\"\n",
    "    \n",
    "    def display_method(self)-> None:\n",
    "        print (f\"分數是{self.score}, 對應的 GPA 是 {self.GPA_level}\")\n",
    "        \n",
    "def input_function():\n",
    "    score=pyip.inputInt(\"請輸入測試分數: \",min=0,max=100)  \n",
    "    return score\n",
    "\n",
    "def main():\n",
    "\n",
    "    while True:\n",
    "        try:\n",
    "            selection=pyip.inputYesNo(prompt=\"Python 405 不定數迴圈-分數等級,請按'y',或是離開請按'q': \\n\", yesVal=\"y\",noVal=\"q\")\n",
    "            if selection==\"y\":\n",
    "                score=input_function()\n",
    "                GPA_calculation=GPACalculation(score)\n",
    "                GPA_calculation.calculation_method()\n",
    "                GPA_calculation.display_method()\n",
    "\n",
    "            else:\n",
    "                print(\"程序結束，謝謝使用！\")\n",
    "                break\n",
    "\n",
    "        except Exception as error:\n",
    "            print(f\"發生未預期的錯誤：{error}\")\n",
    "\n",
    "if __name__==\"__main__\":\n",
    "    main()\n",
    "        \n"
   ]
  },
  {
   "cell_type": "markdown",
   "metadata": {},
   "source": [
    "# Python 406 不定數迴圈-BMI計算\n",
    "請撰寫一程式，以不定數迴圈的方式輸入身高與體重，計算出BMI之後再根據以下對照表，印出BMI及相對應的BMI代表意義（State）。假設此不定數迴圈輸入-9999則會結束此迴圈。標準如下表所示：\\\n",
    "BMI值 代表意義\\\n",
    " BMI < 18.5 under weight\\ \n",
    " 18.5 <= BMI < 25 normal \\\n",
    " 25.0 <= BMI < 30 over weight\\\n",
    " 30 <= BMI fat \\\n",
    "提示：BMI=體重(kg)/身高2(m)BMI=體重(kg)/身高2(m)，輸出浮點數到小數點後第二位。 不需考慮男性或女性標準"
   ]
  },
  {
   "cell_type": "code",
   "execution_count": null,
   "metadata": {},
   "outputs": [],
   "source": [
    "while True:\n",
    "        \n",
    "    try:\n",
    "        selection:str=input(\"請問要計算BMI,請按'y'或是離開請按'q': \")\n",
    "        if selection=='q':\n",
    "            break\n",
    "        elif selection=='y':\n",
    "\n",
    "            name: str = input(\"請輸入您的姓名: \")\n",
    "            height: float = eval(input(\"請輸入您的身高(cm): \"))\n",
    "            weight: float = eval(input(\"請輸入您的體重(kg): \"))\n",
    "            print(f\"{name}您好\\n\")\n",
    "            print(f\"身高是: {height}公分\\n\")\n",
    "            print(f\"體重是: {weight}公斤\\n\")\n",
    "            BMI: float = weight/((height/100)**2)\n",
    "            print(f\"您的BMI值為: {round(BMI, ndigits=2)}\\n\")\n",
    "\n",
    "            if BMI >= 35:\n",
    "                print(\"體位異常:重度肥胖\")\n",
    "            elif BMI >= 30:\n",
    "                print(\"體位異常:中度肥胖\")\n",
    "            elif BMI >= 27:\n",
    "                print(\"體位異常:輕度肥胖\")\n",
    "            elif BMI >= 24:\n",
    "                print(\"體位異常:過重\")\n",
    "            elif BMI >= 18.5:\n",
    "                print(\"健康體位\")\n",
    "            else:\n",
    "                print(\"體重過輕\")\n",
    "    except:\n",
    "        print(\"輸入格式有誤\")"
   ]
  },
  {
   "cell_type": "markdown",
   "metadata": {},
   "source": [
    "##### 程式I: 函數式編程(Functional Programming, FP)"
   ]
  },
  {
   "cell_type": "code",
   "execution_count": 2,
   "metadata": {},
   "outputs": [
    {
     "name": "stdout",
     "output_type": "stream",
     "text": [
      "請問要計算BMI,請按'y'或是離開請按'n': 'vincent' is not a valid y/n response.\n",
      "請問要計算BMI,請按'y'或是離開請按'n': 請輸入您的姓名: 請輸入您的身高(cm): 請輸入您的體重(kg): vincent您好\n",
      "\n",
      "身高是: 173.0公分\n",
      "\n",
      "體重是: 50.0公斤\n",
      "\n",
      "您的健康BMI值為: 16.71,結果:體重過輕\n",
      "\n",
      "請問要計算BMI,請按'y'或是離開請按'n': "
     ]
    }
   ],
   "source": [
    "import pyinputplus as pyip\n",
    "\n",
    "def compute(height,weight):\n",
    "    BMI: float = weight/((height/100)**2)\n",
    "    if BMI >= 35:\n",
    "       comment=\"體位異常:重度肥胖\"       \n",
    "    elif BMI >= 30:\n",
    "        comment=\"體位異常:中度肥胖\"\n",
    "    elif BMI >= 27:\n",
    "       comment=\"體位異常:輕度肥胖\"\n",
    "    elif BMI >= 24:\n",
    "       comment=\"體位異常:過重\"\n",
    "    elif BMI >= 18.5:\n",
    "       comment=\"健康體位\"\n",
    "    else:\n",
    "       comment=\"體重過輕\"\n",
    " \n",
    "    return BMI, comment\n",
    "\n",
    "\n",
    "def main():\n",
    "    while True:          \n",
    "        try:\n",
    "            selection:str=pyip.inputYesNo(prompt=\"請問要計算BMI,請按'y'或是離開請按'n': \",yesVal='y',noVal='n')\n",
    "            if selection=='n':\n",
    "                break\n",
    "            elif selection=='y':\n",
    "\n",
    "                name: str = pyip.inputStr(\"請輸入您的姓名: \")\n",
    "                height: float = pyip.inputFloat(\"請輸入您的身高(cm): \",min=0)\n",
    "                weight: float = pyip.inputFloat(\"請輸入您的體重(kg): \",min=0)\n",
    "                BMI,comment=compute(height,weight)\n",
    "                print(f\"{name}您好\\n\")\n",
    "                print(f\"身高是: {height}公分\\n\")\n",
    "                print(f\"體重是: {weight}公斤\\n\")\n",
    "                print(f\"您的健康BMI值為: {round(BMI, ndigits=2)},結果:{comment}\\n\")\n",
    "\n",
    "        except:\n",
    "            print(\"輸入格式有誤\")\n",
    "\n",
    "\n",
    "if __name__==\"__main__\":\n",
    "    main()\n"
   ]
  },
  {
   "cell_type": "markdown",
   "metadata": {},
   "source": [
    "##### 程式II-1: 物件導向程式設計（Object-oriented programming，OOP)"
   ]
  },
  {
   "cell_type": "code",
   "execution_count": null,
   "metadata": {},
   "outputs": [],
   "source": [
    "import pyinputplus as pyip\n",
    "\n",
    "class Bmi():\n",
    "    def __init__(self,na:str,he:int,we:int) -> None:\n",
    "        self.name=na\n",
    "        self.height=he\n",
    "        self.weight=we\n",
    "    def get_bmi(self):\n",
    "        BMI: float = self.weight/((self.height/100)**2)\n",
    "        return BMI\n",
    "    def get_status(self):\n",
    "        BMI=self.get_bmi()\n",
    "        if BMI >= 35:\n",
    "            return \"體位異常:重度肥胖\"\n",
    "        elif BMI >= 30:\n",
    "            return \"體位異常:中度肥胖\"\n",
    "        elif BMI >= 27:\n",
    "            return \"體位異常:輕度肥胖\"\n",
    "        elif BMI >= 24:\n",
    "            return \"體位異常:過重\"\n",
    "        elif BMI >= 18.5:\n",
    "            return \"健康體位\"\n",
    "        else:\n",
    "            return \"體重過輕\"\n",
    "    \n",
    "def main():\n",
    "        \n",
    "    while True:\n",
    "            \n",
    "        try:\n",
    "            selection:str=pyip.inputYesNo(prompt=\"請問要計算BMI,請按'y'或是離開請按'q':\",yesVal=\"y\",noVal=\"q\") \n",
    "\n",
    "            if selection=='y':\n",
    "                name: str = pyip.inputStr(\"請輸入您的姓名: \")\n",
    "                height: float =pyip.inputFloat(\"請輸入您的身高(cm): \",min=1)\n",
    "                weight: float =pyip.inputFloat(\"請輸入您的體重(kg):\", min=1)\n",
    "                cal_BMI=Bmi(name,height,weight)\n",
    "                BMI=cal_BMI.get_bmi()\n",
    "                result=cal_BMI.get_status()\n",
    "                print(f\"{name}您好\\n\")\n",
    "                print(f\"身高是: {height}公分\\n\")\n",
    "                print(f\"體重是: {weight}公斤\\n\")\n",
    "                print(f\"您的BMI值為: {round(BMI, ndigits=2)}, 結果為: {result} \\n\" )\n",
    "                        \n",
    "            elif selection=='q':\n",
    "                print(\"感謝使用，再見！\")\n",
    "                break\n",
    "\n",
    "        except ValueError as ve:\n",
    "            print(f\"輸入錯誤: {ve}\")\n",
    "        except Exception as e:\n",
    "            print(f\"發生未知錯誤: {e}\")\n",
    "\n",
    "if __name__ == \"__main__\":\n",
    "    main()\n",
    "\n",
    "        "
   ]
  },
  {
   "cell_type": "markdown",
   "metadata": {},
   "source": [
    "##### 程式II-2: 物件導向程式設計（Object-oriented programming，OOP)"
   ]
  },
  {
   "cell_type": "code",
   "execution_count": 6,
   "metadata": {},
   "outputs": [
    {
     "name": "stdout",
     "output_type": "stream",
     "text": [
      "請問要計算BMI,請按'y'或是離開請按'q':請輸入您的姓名: 請輸入您的身高(cm): 請輸入您的體重(kg):vincent您好\n",
      "\n",
      "身高是: 173.0公分\n",
      "\n",
      "體重是: 85.0公斤\n",
      "\n",
      "您的BMI值為: 28.4, 結果為: 體位異常:輕度肥胖 \n",
      "\n",
      "請問要計算BMI,請按'y'或是離開請按'q':感謝使用，再見！\n"
     ]
    }
   ],
   "source": [
    "import pyinputplus as pyip\n",
    "\n",
    "class BmiCalculation:\n",
    "    def __init__(self,name:str,height:float,weight:float) -> None:\n",
    "        self.name=name\n",
    "        self.height=height\n",
    "        self.weight=weight\n",
    "        self._BMI=None\n",
    "        self._BMI_level=None\n",
    "    \n",
    "    @property\n",
    "    def BMI(self):\n",
    "        return self._BMI\n",
    "    @property\n",
    "    def BMI_level(self):\n",
    "        return self._BMI_level\n",
    "\n",
    "    def calculation_method(self) -> None:\n",
    "        self._BMI = self.weight/((self.height/100)**2)\n",
    "        if self._BMI >= 35:\n",
    "            self._BMI_level=\"體位異常:重度肥胖\"\n",
    "        elif self._BMI >= 30:\n",
    "            self._BMI_level=\"體位異常:中度肥胖\"\n",
    "        elif self._BMI >= 27:\n",
    "            self._BMI_level=\"體位異常:輕度肥胖\"\n",
    "        elif self._BMI >= 24:\n",
    "            self._BMI_level=\"體位異常:過重\"\n",
    "        elif self._BMI >= 18.5:\n",
    "            self._BMI_level=\"健康體位\"\n",
    "        else:\n",
    "            self._BMI_level=\"體重過輕\"\n",
    "       \n",
    "    def display_method(self) ->None:\n",
    "        print(f\"{self.name}您好\\n\")\n",
    "        print(f\"身高是: {self.height}公分\\n\")\n",
    "        print(f\"體重是: {self.weight}公斤\\n\")\n",
    "        print(f\"您的BMI值為: {round(self._BMI, ndigits=2)}, 結果是 {self._BMI_level} \\n\" )\n",
    "\n",
    "def input_function():\n",
    "    name = pyip.inputStr(\"請輸入您的姓名: \")\n",
    "    height =pyip.inputFloat(\"請輸入您的身高(cm): \",min=1)\n",
    "    weight =pyip.inputFloat(\"請輸入您的體重(kg):\", min=1)    \n",
    "    return name,height,weight\n",
    "    \n",
    "def main():\n",
    "    \n",
    "        \n",
    "    while True:\n",
    "            \n",
    "        try:\n",
    "            selection:str=pyip.inputYesNo(prompt=\"Python 406 不定數迴圈-BMI計算,請按'y'或是離開請按'q':\",yesVal=\"y\",noVal=\"q\") \n",
    "\n",
    "            if selection=='y':\n",
    "                \n",
    "                name,height,weight=input_function()\n",
    "                BMI=BmiCalculation(name,height,weight)\n",
    "                BMI.calculation_method()\n",
    "                BMI.display_method()                \n",
    "            else:\n",
    "                print(\"感謝使用，再見！\")\n",
    "                break\n",
    "\n",
    "        except pyip.RetryLimitException:\n",
    "            print(\"已達到重試次數上限。程序結束。\")\n",
    "            break\n",
    "\n",
    "        except Exception as e:\n",
    "            print(f\"發生未知錯誤: {e}\")\n",
    " \n",
    "\n",
    "if __name__ == \"__main__\":\n",
    "    main()\n",
    "  "
   ]
  },
  {
   "cell_type": "markdown",
   "metadata": {},
   "source": [
    "### [Key Note]\n",
    "方法一：\\\n",
    "優點：\\\n",
    "將所有相關的數據和操作封裝在一個class中。使用了更多的封裝原則，將數據的輸入、計算和顯示分離。更容易擴展，如果需要添加新的功能或修改現有功能。\\\n",
    "缺點：\\\n",
    "可能對於簡單的應用來說有點過度設計。\n",
    "\n",
    "方法二：\n",
    "優點：\\\n",
    "更簡潔，代碼量更少。對於這個特定的應用來說可能更直接、更易理解。將輸入邏輯放在 main 函數中，使類的職責更加單一。\\\n",
    "缺點：\\\n",
    "較少使用封裝，數據輸入和顯示邏輯在 main 函數中。如果需要在多個地方使用或擴展功能，可能需要更多的重構。\n"
   ]
  },
  {
   "cell_type": "markdown",
   "metadata": {},
   "source": [
    "# Python 407 不定數迴圈-閏年判斷\n",
    "(1) 請撰寫一程式，以不定數迴圈的方式讓使用者輸入西元年份，然後判斷它是否為閏年（leap year）或平年。其判斷規則如下:\n",
    "1. 能被400整除的年份是閏年。\n",
    "2. 能被100整除但不能被400整除的年份是平年。\n",
    "3. 能被4整除但不能被100整除的年份是閏年。\n",
    "4. 其他年份是平年。\n",
    "\n",
    "(2) 假設此不定數迴圈輸入-9999則會結束此迴圈。"
   ]
  },
  {
   "cell_type": "code",
   "execution_count": 8,
   "metadata": {},
   "outputs": [
    {
     "name": "stdout",
     "output_type": "stream",
     "text": [
      "請輸入西元年份 :西元55688是閏年\n",
      "程式結束, 謝謝使用!\n"
     ]
    }
   ],
   "source": [
    "import pyinputplus as pyip\n",
    "\n",
    "while True:\n",
    "    try:\n",
    "        selection:str=(input(\"閏年判斷程式,繼續請輸入'y',離開請按'-9999'\"))\n",
    "        if selection ==\"-9999\":\n",
    "            print(\"程式結束, 謝謝使用!\")\n",
    "            break\n",
    "\n",
    "        elif selection=='y':\n",
    "            year:int=pyip.inputInt(\"請輸入西元年份 :\", greaterThan=0 )\n",
    "            if year%400==0:\n",
    "                print(f\"西元{year}是閏年\")\n",
    "            elif year%100==0:\n",
    "                print(f\"西元{year}是平年\")\n",
    "            elif year%4==0:\n",
    "                print(f\"西元{year}是閏年\")\n",
    "            else: \n",
    "                print(f\"西元{year}是平年\")\n",
    "                \n",
    "        else:\n",
    "            print(\"輸入格式有誤,請從新輸入\")\n",
    "\n",
    "\n",
    "        \n",
    "    except Exception as error:\n",
    "        print(f\"發生未預期的錯誤：{error}\")"
   ]
  },
  {
   "cell_type": "markdown",
   "metadata": {},
   "source": [
    "##### 程式I: 函數式編程(Functional Programming, FP)"
   ]
  },
  {
   "cell_type": "code",
   "execution_count": 2,
   "metadata": {},
   "outputs": [
    {
     "name": "stdout",
     "output_type": "stream",
     "text": [
      "閏年判斷程式,繼續請輸入'y',離開請按'-9999'請輸入西元年份 :西元5486是平年\n",
      "閏年判斷程式,繼續請輸入'y',離開請按'-9999'程式結束, 謝謝使用!\n"
     ]
    }
   ],
   "source": [
    "import pyinputplus as pyip\n",
    "\n",
    "def compute(year):\n",
    "\n",
    "    if year%400==0:\n",
    "        result=\"閏年\"\n",
    "    elif year%100==0:\n",
    "        result=\"平年\"\n",
    "    elif year%4==0:\n",
    "        result=\"閏年\"\n",
    "    else: \n",
    "        result=\"平年\"\n",
    "    return result\n",
    "\n",
    "def main():\n",
    "\n",
    "    while True:\n",
    "        try:\n",
    "            selection=pyip.inputYesNo(prompt=\"Python 407 不定數迴圈-閏年判斷,繼續請輸入'y',離開請按'-9999'\",yesVal=\"y\",noVal=\"-9999\")\n",
    "            if selection ==\"-9999\":\n",
    "                print(\"程式結束, 謝謝使用!\")\n",
    "                break\n",
    "            elif selection=='y':\n",
    "                year:int=pyip.inputInt(\"請輸入西元年份 :\", min=1)\n",
    "                result=compute(year)\n",
    "                print(f\"西元{year}是{result}\")\n",
    "            \n",
    "            else:\n",
    "                print(\"輸入格式有誤,請從新輸入\")\n",
    "            \n",
    "        except Exception as error:\n",
    "            print(f\"發生未預期的錯誤：{error}\")\n",
    "\n",
    "if __name__==\"__main__\":\n",
    "    main()\n"
   ]
  },
  {
   "cell_type": "markdown",
   "metadata": {},
   "source": [
    "##### 程式II: 物件導向程式設計（Object-oriented programming，OOP)"
   ]
  },
  {
   "cell_type": "code",
   "execution_count": 7,
   "metadata": {},
   "outputs": [
    {
     "name": "stdout",
     "output_type": "stream",
     "text": [
      "閏年判斷程式,繼續請輸入'y',離開請按'q': 請輸入西元年份 :西元55688是閏年\n",
      "閏年判斷程式,繼續請輸入'y',離開請按'q': 程式結束, 謝謝使用!\n"
     ]
    }
   ],
   "source": [
    "import pyinputplus as pyip\n",
    "\n",
    "class LeapOrNormalYear:\n",
    "    def __init__(self,year:int) -> None:\n",
    "        self.year=year\n",
    "        self._calculation_result=None   \n",
    "    \n",
    "    @property\n",
    "    def calculation_result(self):\n",
    "        return self._calculation_result\n",
    "    \n",
    "    def calculation_method(self) -> None:      \n",
    "        if self.year%400==0:\n",
    "            self._calculation_result=\"閏年\"\n",
    "        elif self.year%100==0:\n",
    "            self._calculation_result=\"平年\"\n",
    "        elif self.year%4==0:\n",
    "            self._calculation_result=\"閏年\"\n",
    "        else: \n",
    "            self._calculation_result=\"平年\"\n",
    "    \n",
    "    def display_method(self)-> None:\n",
    "        print(f\"西元{self.year}是{self._calculation_result}\")\n",
    "\n",
    "def input_function():\n",
    "    year=pyip.inputInt(\"請輸入西元年份 :\", min=1)\n",
    "    return year\n",
    "\n",
    "def main():\n",
    "    \n",
    "    while True:\n",
    "        try:\n",
    "            selection=pyip.inputYesNo(prompt=\"Python 407 不定數迴圈-閏年判斷,繼續請輸入'y',離開請按'q': \",yesVal=\"y\",noVal=\"q\")\n",
    "\n",
    "            if selection=='y':\n",
    "                year=input_function()\n",
    "                leapyearcalculation=LeapOrNormalYear(year)\n",
    "                leapyearcalculation.calculation_method()\n",
    "                leapyearcalculation.display_method()\n",
    "            \n",
    "            else:\n",
    "                print(\"程式結束, 謝謝使用!\")\n",
    "                break\n",
    "             \n",
    "        except Exception as error:\n",
    "            print(f\"發生未預期的錯誤：{error}\")\n",
    "\n",
    "if __name__==\"__main__\":\n",
    "    main()\n"
   ]
  },
  {
   "cell_type": "markdown",
   "metadata": {},
   "source": [
    "# Python 408 奇偶數個數計算\n",
    "請撰寫一程式，讓使用者輸入十個整數，計算並輸出偶數和奇數的個數。"
   ]
  },
  {
   "cell_type": "code",
   "execution_count": 1,
   "metadata": {},
   "outputs": [
    {
     "name": "stdout",
     "output_type": "stream",
     "text": [
      "請輸入計算的次數:請輸入第1個數字:請輸入第2個數字:請輸入第3個數字:奇數個數2,偶數個數1\n",
      "程式結束,謝謝使用!\n"
     ]
    }
   ],
   "source": [
    "import pyinputplus as pyip\n",
    "while True:\n",
    "    try:\n",
    "        selection:str=pyip.inputYesNo(prompt=\"奇偶數個數計算程式, 繼續請按'y',離開程式請按'q':\",yesVal=\"y\", noVal=\"q\")\n",
    "\n",
    "        if selection=='y':\n",
    "            even=0\n",
    "            odd=0\n",
    "            n:int=pyip.inputInt(\"請輸入計算的次數:\",min=1)\n",
    "            for i in range (n):\n",
    "                num:int=pyip.inputInt(f\"請輸入第{i+1}個數字:\")\n",
    "                if num%2==0:\n",
    "                    even+=1\n",
    "                else:\n",
    "                    odd+=1\n",
    "            print(f\"奇數個數{odd},偶數個數{even}\")\n",
    "        \n",
    "        elif selection=='q':\n",
    "            print(\"程式結束,謝謝使用!\")\n",
    "            break\n",
    "        else:\n",
    "            print(\"輸入格式有誤,請從新輸入\")\n",
    "    \n",
    "    except Exception as error:\n",
    "        print(f'發生未預期的錯誤:{error}')"
   ]
  },
  {
   "cell_type": "markdown",
   "metadata": {},
   "source": [
    "##### 程式I-1: 函數式編程(Functional Programming, FP)"
   ]
  },
  {
   "cell_type": "code",
   "execution_count": 5,
   "metadata": {},
   "outputs": [
    {
     "name": "stdout",
     "output_type": "stream",
     "text": [
      "奇偶數個數計算程式, 繼續請按'y',離開程式請按'q':\n",
      "請輸入計算的次數:\n",
      "請輸入第1個數字:\n",
      "請輸入第2個數字:\n",
      "請輸入第3個數字:\n",
      "奇數個數2,偶數個數1\n",
      "奇偶數個數計算程式, 繼續請按'y',離開程式請按'q':\n",
      "程式結束,謝謝使用!\n"
     ]
    }
   ],
   "source": [
    "import pyinputplus as pyip\n",
    "def compute():\n",
    "    n:int=pyip.inputInt(\"請輸入計算的次數:\\n\",min=1)\n",
    "    odd=0\n",
    "    even=0\n",
    "    for i in range(n):\n",
    "        num:int=pyip.inputInt(f\"請輸入第{i+1}個數字:\\n\")\n",
    "        quotient, remainder =divmod(num,2)\n",
    "        if remainder==0:\n",
    "             even+=1\n",
    "        else:\n",
    "             odd+=1\n",
    "    return odd, even\n",
    "\n",
    "\n",
    "\n",
    "def main():\n",
    "\n",
    "    while True:\n",
    "        try:\n",
    "            selection:str=pyip.inputYesNo(prompt=\"奇偶數個數計算程式, 繼續請按'y',離開程式請按'q':\\n\",yesVal=\"y\", noVal=\"q\")\n",
    "            \n",
    "            if selection=='y':\n",
    "                odd,even=compute()\n",
    "                print(f\"奇數個數{odd},偶數個數{even}\")\n",
    "            \n",
    "            elif selection=='q':\n",
    "                print(\"程式結束,謝謝使用!\")\n",
    "                break\n",
    "            else:\n",
    "                print(\"輸入格式有誤,請從新輸入\")\n",
    "\n",
    "                  \n",
    "        except Exception as error:\n",
    "            print(f'發生未預期的錯誤:{error}')\n",
    "\n",
    "if __name__==\"__main__\":\n",
    "    main()\n"
   ]
  },
  {
   "cell_type": "markdown",
   "metadata": {},
   "source": [
    "##### 程式II-1: 物件導向程式設計（Object-oriented programming，OOP)"
   ]
  },
  {
   "cell_type": "code",
   "execution_count": 6,
   "metadata": {},
   "outputs": [
    {
     "name": "stdout",
     "output_type": "stream",
     "text": [
      "奇偶數個數計算程式, 繼續請按'y', 離開程式請按'q':\n",
      "請輸入計算的次數:\n",
      "請輸入第1個數字:\n",
      "請輸入第2個數字:\n",
      "請輸入第3個數字:\n",
      "奇數個數: 2, 偶數個數: 1\n",
      "奇偶數個數計算程式, 繼續請按'y', 離開程式請按'q':\n",
      "程式結束, 謝謝使用!\n"
     ]
    }
   ],
   "source": [
    "import pyinputplus as pyip\n",
    "\n",
    "class CalculationEvenOdd:\n",
    "    def __init__(self):\n",
    "        self.odd_count:int = 0\n",
    "        self.even_count:int = 0\n",
    "\n",
    "    def calculation_method(self):\n",
    "        n: int = pyip.inputInt(\"請輸入計算的次數:\\n\", min=1)\n",
    "        self.odd_count = 0\n",
    "        self.even_count = 0\n",
    "        for i in range(n):\n",
    "            num: int = pyip.inputInt(f\"請輸入第{i+1}個數字:\\n\")\n",
    "            quotient, remainder = divmod(num, 2)\n",
    "            if remainder == 0:\n",
    "                self.even_count += 1\n",
    "            else:\n",
    "                self.odd_count += 1\n",
    "\n",
    "    def display_method(self):\n",
    "        print(f\"奇數個數: {self.odd_count}, 偶數個數: {self.even_count}\")\n",
    "\n",
    "def main():\n",
    "    odd_even=CalculationEvenOdd()\n",
    "    while True:\n",
    "        try:\n",
    "            selection: str = pyip.inputYesNo(prompt=\"奇偶數個數計算程式, 繼續請按'y', 離開程式請按'q':\\n\", yesVal=\"y\", noVal=\"q\")\n",
    "\n",
    "            if selection == 'y':\n",
    "                 odd_even.calculation_method()\n",
    "                 odd_even.display_method()\n",
    "            \n",
    "            else:\n",
    "                print(\"程式結束, 謝謝使用!\")\n",
    "                break\n",
    "\n",
    "        except Exception as error:\n",
    "                print(f'發生未預期的錯誤: {error}')\n",
    "\n",
    "\n",
    "if __name__ == \"__main__\":\n",
    "    main()\n"
   ]
  },
  {
   "cell_type": "markdown",
   "metadata": {},
   "source": [
    "##### 程式II-2: 物件導向程式設計（Object-oriented programming，OOP)"
   ]
  },
  {
   "cell_type": "code",
   "execution_count": null,
   "metadata": {},
   "outputs": [],
   "source": [
    "import pyinputplus as pyip\n",
    "\n",
    "class CalculationEvenOdd:\n",
    "    def __init__(self,numbers:list[int]) -> None:\n",
    "        self.number=numbers\n",
    "        self._even_count=0\n",
    "        self._odd_count=0\n",
    "    \n",
    "    @property\n",
    "    def even_count(self):\n",
    "        return self._even_count\n",
    "    @property\n",
    "    def odd_count(self):\n",
    "        return self._odd_count\n",
    "\n",
    "    def calculation_method(self) ->None:\n",
    "        self._odd_count=0\n",
    "        self._even_count=0\n",
    "        for i in self.number:\n",
    "            if i%2!=0:\n",
    "                self.odd_count+=1\n",
    "            else:\n",
    "                self.even_count+=1\n",
    "            \n",
    "    def display_method(self) ->None:\n",
    "        print(f\"奇數個數{self._odd_count},偶數個數{self._even_count}\")\n",
    "\n",
    "def input_function():\n",
    "    numbers=[]\n",
    "    n=pyip.inputInt(\"請輸入計算的次數:\\n\",min=1)\n",
    "    numbers=[pyip.inputInt(f\"請輸入第{i+1}個數字:\\n\") for i in range(n)]\n",
    "    return numbers\n",
    "\n",
    "def main():\n",
    "        \n",
    "    while True:\n",
    "        try:\n",
    "            selection:str=pyip.inputYesNo(prompt=\"Python 408 奇偶數個數計算, 繼續請按'y',離開程式請按'q':\\n\",yesVal=\"y\", noVal=\"q\")\n",
    "            \n",
    "            if selection=='y':\n",
    "                numbers=input_function()\n",
    "                odd_even_calculation=CalculationEvenOdd(numbers)\n",
    "                odd_even_calculation.calculation_method()\n",
    "                odd_even_calculation.display_method()\n",
    "\n",
    "            else:\n",
    "                print(\"程式結束,謝謝使用!\")\n",
    "                break\n",
    "                  \n",
    "        except Exception as error:\n",
    "            print(f'發生未預期的錯誤:{error}')\n",
    "\n",
    "if __name__==\"__main__\":\n",
    "    main()\n"
   ]
  },
  {
   "attachments": {
    "image.png": {
     "image/png": "[encoded data removed]"
    }
   },
   "cell_type": "markdown",
   "metadata": {},
   "source": [
    "### [Key Note]:\n",
    "divmod 函數可以同時返回兩個整數相除的商和餘數。在判斷奇偶數時，我們只需要關心餘數，因此可以用 divmod 來簡化邏輯。當數字是偶數時，餘數為 0；若是奇數，餘數為 1。\n",
    "\n",
    "![image.png](attachment:image.png)"
   ]
  },
  {
   "cell_type": "markdown",
   "metadata": {},
   "source": [
    "# Python 409 得票數計算\n",
    "某次選舉有兩位候選人，分別是No.1: Nami、No.2: Chopper。請撰寫一程式，輸入五張選票，輸入值如為1即表示針對1號候選人投票；輸入值如為2即表示針對2號候選人投票，如輸入其他值則視為廢票。每次投完後需印出目前每位候選人的得票數，最後印出最高票者為當選人；如最終計算有相同的最高票數者或無法選出最高票者，顯示【=> No one won the election.】。"
   ]
  },
  {
   "cell_type": "code",
   "execution_count": 3,
   "metadata": {},
   "outputs": [
    {
     "name": "stdout",
     "output_type": "stream",
     "text": [
      "有多少張選票要計算?('1':No.1,Nami 或 '2':No.2,Chopper) 請選擇: ('1':No.1,Nami 或 '2':No.2,Chopper) 請選擇: ('1':No.1,Nami 或 '2':No.2,Chopper) 請選擇: 投票結果:\n",
      " No.1 Nami:2, No.2, Chopper:1\n",
      "No.1 Nami 高票當選\n",
      "程式結束,謝謝使用! \n"
     ]
    }
   ],
   "source": [
    "import pyinputplus as pyip\n",
    "while True:\n",
    "    try:\n",
    "        selection:str=input(\"得票數計算程式, 繼續計算請按'y'; 離開程式請按'q' \")\n",
    "        if selection=='y':\n",
    "            tickets:int=pyip.inputInt(\"有多少張選票要計算?\")\n",
    "            nami=0\n",
    "            chopper=0\n",
    "            for i in range (tickets):\n",
    "                num:str=pyip.inputChoice(choices=['1','2'], prompt=\"('1':No.1,Nami 或 '2':No.2,Chopper) 請選擇: \")\n",
    "                if num=='1':\n",
    "                    nami+=1\n",
    "                else:\n",
    "                    chopper+=1\n",
    "            print(f\"投票結果:\\n No.1 Nami:{nami}, No.2, Chopper:{chopper}\") \n",
    "\n",
    "            if nami>chopper:\n",
    "                print(\"No.1 Nami 高票當選\")\n",
    "            elif nami<chopper:\n",
    "                print(\"No.2 Chopper 高票當選\")\n",
    "            else:\n",
    "                print(\"沒有人贏得此次選舉\")\n",
    "                    \n",
    "            \n",
    "        elif selection=='q':\n",
    "            print(\"程式結束,謝謝使用! \")\n",
    "            break\n",
    "        else:\n",
    "            print(\"輸入有誤! 請從新輸入\")\n",
    "        \n",
    "    except Exception as error:\n",
    "        print(f\"發生無法預期的錯誤: {error}\")\n"
   ]
  },
  {
   "cell_type": "markdown",
   "metadata": {},
   "source": [
    "##### 程式I: 函數式編程(Functional Programming, FP)"
   ]
  },
  {
   "cell_type": "code",
   "execution_count": 7,
   "metadata": {},
   "outputs": [
    {
     "name": "stdout",
     "output_type": "stream",
     "text": [
      "得票數計算程式, 繼續計算請按'y'; 離開程式請按'q' 有多少張選票要計算?('1':No.1,Nami 或 '2':No.2,Chopper) 請選擇: ('1':No.1,Nami 或 '2':No.2,Chopper) 請選擇: ('1':No.1,Nami 或 '2':No.2,Chopper) 請選擇: 投票結果:\n",
      " No.1 Nami:2票, No.2, Chopper:1票, 投票結果是 No.1 Nami 高票當選\n",
      "得票數計算程式, 繼續計算請按'y'; 離開程式請按'q' 程式結束,謝謝使用! \n"
     ]
    }
   ],
   "source": [
    "import pyinputplus as pyip\n",
    "def compute(tickets):\n",
    "    nami=0\n",
    "    chopper=0\n",
    "    for i in range (tickets):\n",
    "        num:str=pyip.inputChoice(choices=['1','2'], prompt=\"('1':No.1,Nami 或 '2':No.2,Chopper) 請選擇: \")\n",
    "        if num=='1':\n",
    "            nami+=1\n",
    "        else:\n",
    "            chopper+=1\n",
    "    return nami, chopper\n",
    "\n",
    "def judgement(nami,chopper):\n",
    "    if nami>chopper:\n",
    "        result=\"No.1 Nami 高票當選\"\n",
    "    elif nami<chopper:\n",
    "        result=\"No.2 Chopper 高票當選\"\n",
    "    else:\n",
    "        result=\"沒有人贏得此次選舉\"\n",
    "    return result\n",
    "\n",
    "def main():\n",
    "\n",
    "    while True:\n",
    "        try:\n",
    "            selection:str=pyip.inputYesNo(prompt=\"Python 409 得票數計算, 繼續計算請按'y'; 離開程式請按'q' \",yesVal=\"y\",noVal=\"q\")\n",
    "\n",
    "            if selection=='y':\n",
    "                tickets:int=pyip.inputInt(\"有多少張選票要計算?\")\n",
    "                nami, chopper=compute(tickets)\n",
    "                result=judgement(nami,chopper)\n",
    "                print(f\"投票結果:\\n No.1 Nami:{nami}票, No.2, Chopper:{chopper}票, 投票結果是 {result}\") \n",
    "            else:\n",
    "                print(\"程式結束,謝謝使用! \")\n",
    "                break\n",
    "\n",
    "            \n",
    "        except Exception as error:\n",
    "            print(f\"發生無法預期的錯誤: {error}\")\n",
    "\n",
    "if __name__==\"__main__\":\n",
    "    main()\n"
   ]
  },
  {
   "cell_type": "markdown",
   "metadata": {},
   "source": [
    "##### 程式II: 物件導向程式設計（Object-oriented programming，OOP)"
   ]
  },
  {
   "cell_type": "code",
   "execution_count": 12,
   "metadata": {},
   "outputs": [
    {
     "name": "stdout",
     "output_type": "stream",
     "text": [
      "得票數計算程式, 繼續計算請按'y'; 離開程式請按'q' 有多少張選票要計算?('1':No.1,Nami 或 '2':No.2,Chopper) 請選擇: ('1':No.1,Nami 或 '2':No.2,Chopper) 請選擇: ('1':No.1,Nami 或 '2':No.2,Chopper) 請選擇: 投票結果:\n",
      " No.1 Nami:2票, No.2, Chopper:1票, 投票結果是 No.1 Nami 高票當選\n",
      "得票數計算程式, 繼續計算請按'y'; 離開程式請按'q' 程式結束,謝謝使用! \n"
     ]
    }
   ],
   "source": [
    "import pyinputplus as pyip\n",
    "\n",
    "class ElectionVoting:\n",
    "    def __init__(self,tickets:int) -> None:\n",
    "        self.ticket=tickets\n",
    "        self._nami=None\n",
    "        self._chopper=None\n",
    "        self._voting_result=None\n",
    "    \n",
    "    @property\n",
    "    def nami(self):\n",
    "        return self._nami\n",
    "    @property\n",
    "    def chopper(self):\n",
    "        return self._chopper\n",
    "    @property       \n",
    "    def voting_result(self):\n",
    "        return self._voting_result\n",
    "   \n",
    "    def calculation_method(self) ->None:\n",
    "        self._nami=0\n",
    "        self._chopper=0\n",
    "        for i in range (self.ticket):\n",
    "            voting:str=pyip.inputChoice(choices=['1','2'], prompt=\"('1':No.1,Nami 或 '2':No.2,Chopper) 請選擇: \")\n",
    "            if voting=='1':\n",
    "                self._nami+=1\n",
    "            else:\n",
    "                self._chopper+=1\n",
    "    \n",
    "    def display_method(self) -> None:\n",
    "        if self._nami>self._chopper:\n",
    "           self._voting_result=\"No.1 Nami 高票當選\"\n",
    "        elif self._nami<self._chopper:\n",
    "            self._voting_result=\"No.2 Chopper 高票當選\"\n",
    "        else:\n",
    "            self._voting_result=\"沒有人贏得此次選舉\"\n",
    "\n",
    "        print(f\"投票結果:\\n No.1 Nami:{self._nami}票, No.2, Chopper:{self._chopper}票, 投票結果是 {self._voting_result}\")    \n",
    "\n",
    "def input_function():\n",
    "    tickets=pyip.inputInt(\"有多少張選票要計算?\")\n",
    "    return tickets   \n",
    "\n",
    "def main():\n",
    "    \n",
    "    while True:\n",
    "        try:\n",
    "            selection:str=pyip.inputYesNo(prompt=\"Python 409 得票數計算, 繼續計算請按'y'; 離開程式請按'q' \",yesVal=\"y\",noVal=\"q\")\n",
    "\n",
    "            if selection=='y':\n",
    "                tickets=input_function()\n",
    "                election_calculation=ElectionVoting(tickets)\n",
    "                election_calculation.calculation_method()\n",
    "                election_calculation.display_method()\n",
    "\n",
    "            else:\n",
    "                print(\"程式結束,謝謝使用! \")\n",
    "                break\n",
    "\n",
    "            \n",
    "        except pyip.RetryLimitException as error:\n",
    "            print(f\"輸入超過限制次數: {error}\")\n",
    "            break\n",
    "        except ValueError as error:\n",
    "            print(f\"輸入值錯誤: {error}\")\n",
    "            break\n",
    "        except Exception as error:\n",
    "            print(f\"發生無法預期的錯誤: {error}\")\n",
    "            break\n",
    "\n",
    "if __name__==\"__main__\":\n",
    "    main()\n"
   ]
  }
 ],
 "metadata": {
  "kernelspec": {
   "display_name": ".venv",
   "language": "python",
   "name": "python3"
  },
  "language_info": {
   "codemirror_mode": {
    "name": "ipython",
    "version": 3
   },
   "file_extension": ".py",
   "mimetype": "text/x-python",
   "name": "python",
   "nbconvert_exporter": "python",
   "pygments_lexer": "ipython3",
   "version": "3.12.3"
  }
 },
 "nbformat": 4,
 "nbformat_minor": 2
}
