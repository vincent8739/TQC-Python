{
 "cells": [
  {
   "cell_type": "markdown",
   "metadata": {},
   "source": [
    "# Python 201 偶數判斷\n",
    "請使用選擇敘述撰寫一程式，讓使用者輸入一個正整數，然後判斷它是否為偶數（even）。"
   ]
  },
  {
   "cell_type": "code",
   "execution_count": 2,
   "metadata": {},
   "outputs": [
    {
     "name": "stdout",
     "output_type": "stream",
     "text": [
      "The input format is incorrect. Please try again\n",
      "the input number 50 is even\n"
     ]
    }
   ],
   "source": [
    "try:\n",
    "    num:int=int(input(\"please input a number: \"))\n",
    "except ValueError:\n",
    "    print(\"The input format is incorrect. Please try again\")\n",
    "else:\n",
    "    if num%2==0:\n",
    "        print(f\"the input number {num} is even\")\n",
    "    else:\n",
    "        print(f\"the input number {num} is not even\")\n"
   ]
  },
  {
   "cell_type": "markdown",
   "metadata": {},
   "source": [
    "##### 程式I: 函數式編程(Functional Programming, FP)"
   ]
  },
  {
   "cell_type": "code",
   "execution_count": 3,
   "metadata": {},
   "outputs": [
    {
     "name": "stdout",
     "output_type": "stream",
     "text": [
      "please input a number: the input number 1 is not even\n"
     ]
    }
   ],
   "source": [
    "import pyinputplus as pyip\n",
    "\n",
    "def compute(num):\n",
    "    if num%2==0:\n",
    "        print(f\"the input number {num} is even\")\n",
    "    else:\n",
    "        print(f\"the input number {num} is not even\")\n",
    "\n",
    "def main():\n",
    "    try:\n",
    "        number:int=pyip.inputInt(\"please input a number: \")\n",
    "        compute(number)\n",
    "    except Exception as error:\n",
    "        print(f\"an unexpected error has occurred: {error}\")\n",
    "\n",
    "if __name__==\"__main__\":\n",
    "    main()\n"
   ]
  },
  {
   "cell_type": "markdown",
   "metadata": {},
   "source": [
    "### [Key Note]:\n",
    "1. 初始化 num：在 try 區塊之前將 num 設定為 None，確保變數有預設值。num=None\n",
    "2. 捕獲具體異常：except ValueError 用於捕獲無法將輸入轉換為整數的情況，提供更清晰的錯誤信息。\n",
    "3. 使用 else：else 區塊僅在 try 區塊沒有異常時執行，這樣可以確保只有在成功轉換為整數時才進行後續的判斷。"
   ]
  },
  {
   "cell_type": "markdown",
   "metadata": {},
   "source": [
    "# Python 202 倍數判斷\n",
    "\n",
    "請使用選擇敘述撰寫一程式，讓使用者輸入一個正整數，然後判斷它是3或5的倍數，顯示【x is a multiple of 3.】或【x is a multiple of 5.】；若此數值同時為3與5的倍數，顯示【x is a multiple of 3 and 5.】；如此數值皆不屬於3或5的倍數，顯示【x is not a multiple of 3 or 5.】，將使用者輸入的數值代入x。"
   ]
  },
  {
   "cell_type": "code",
   "execution_count": 5,
   "metadata": {},
   "outputs": [
    {
     "name": "stdout",
     "output_type": "stream",
     "text": [
      "8 is not a multiple of 3 or 5 \n"
     ]
    }
   ],
   "source": [
    "try:\n",
    "    x=int(input(\"please input a number:\"))\n",
    "except ValueError:\n",
    "    print(\"The input format is incorrect. Please try again\")\n",
    "else:\n",
    "    if x%3==0 and x%5==0:\n",
    "        print(f\"{x} is a multiple of both 3 and 5 \")\n",
    "    elif x%3==0:\n",
    "        print(f\"{x} is a multiple of 3 \")\n",
    "    elif x%5==0:\n",
    "        print(f\"{x} is a multiple of 5 \")\n",
    "    else:\n",
    "        print(f\"{x} is not a multiple of 3 or 5 \")\n"
   ]
  },
  {
   "cell_type": "markdown",
   "metadata": {},
   "source": [
    "##### 程式I: 函數式編程(Functional Programming, FP)"
   ]
  },
  {
   "cell_type": "code",
   "execution_count": 5,
   "metadata": {},
   "outputs": [
    {
     "name": "stdout",
     "output_type": "stream",
     "text": [
      "Please input a number: 8 is not a multiple of 3 or 5 \n"
     ]
    }
   ],
   "source": [
    "import pyinputplus as pyip\n",
    "\n",
    "def compute(x:int):\n",
    "    if x%3==0 and x%5==0:\n",
    "        print(f\"{x} is a multiple of both 3 and 5 \")\n",
    "    elif x%3==0:\n",
    "        print(f\"{x} is a multiple of 3 \")\n",
    "    elif x%5==0:\n",
    "        print(f\"{x} is a multiple of 5 \")\n",
    "    else:\n",
    "        print(f\"{x} is not a multiple of 3 or 5 \")\n",
    "\n",
    "def main():\n",
    "    try:\n",
    "        number:int=pyip.inputInt(\"Please input a number: \", greaterThan=0)\n",
    "        compute(number)\n",
    "    \n",
    "    except ValueError:\n",
    "        print(\"The input format is incorrect. Please try again\")\n",
    "    except Exception as error:\n",
    "        print(f\" An unexpected error has occurred: {error} \")\n",
    "\n",
    "if __name__==\"__main__\":\n",
    "    main()\n",
    "\n"
   ]
  },
  {
   "cell_type": "markdown",
   "metadata": {},
   "source": [
    "# Python 203 閏年判斷\n",
    "請使用選擇敘述撰寫一程式，讓使用者輸入一個西元年份，然後判斷它是否為閏年（leap year）其條件為：\n",
    "1. 能被400整除的年份是閏年。\n",
    "2. 能被100整除但不能被400整除的年份是平年。\n",
    "3. 能被4整除但不能被100整除的年份是閏年。\n",
    "4. 其他年份是平年。"
   ]
  },
  {
   "cell_type": "code",
   "execution_count": 8,
   "metadata": {},
   "outputs": [
    {
     "name": "stdout",
     "output_type": "stream",
     "text": [
      "輸入一個西元年份:Number must be at maximum 9999.\n",
      "輸入一個西元年份:1456 年是閏年\n"
     ]
    }
   ],
   "source": [
    "import pyinputplus as pyip\n",
    "try:\n",
    "    year:int=pyip.inputInt(\"輸入一個西元年份:\", min=1,max=9999)\n",
    "except Exception as e:\n",
    "    print(\"輸入格式錯誤, 請重新輸入\")\n",
    "else:\n",
    "    if year%400==0:\n",
    "        print(f\"{year} 年是閏年\")\n",
    "    elif year%100==0:\n",
    "        print(f\"{year} 年是平年\")\n",
    "    elif year%4==0:\n",
    "        print(f\"{year} 年是閏年\")\n",
    "    else:\n",
    "        print(f\"{year} 年是平年\")\n"
   ]
  },
  {
   "cell_type": "markdown",
   "metadata": {},
   "source": [
    "##### 程式I: 函數式編程(Functional Programming, FP)"
   ]
  },
  {
   "cell_type": "code",
   "execution_count": 1,
   "metadata": {},
   "outputs": [
    {
     "name": "stdout",
     "output_type": "stream",
     "text": [
      "輸入一個西元年份:1456 年是閏年\n"
     ]
    }
   ],
   "source": [
    "import pyinputplus as pyip\n",
    "\n",
    "def compute(year:int):\n",
    "\n",
    "    if year%400==0:\n",
    "        print(f\"{year} 年是閏年\")\n",
    "    elif year%100==0:\n",
    "        print(f\"{year} 年是平年\")\n",
    "    elif year%4==0:\n",
    "        print(f\"{year} 年是閏年\")\n",
    "    else:\n",
    "        print(f\"{year} 年是平年\")\n",
    "\n",
    "def main():\n",
    "    try: \n",
    "        year=pyip.inputInt(\"輸入一個西元年份:\", min=1,max=9999)\n",
    "        compute(year)\n",
    "    \n",
    "    except Exception as error:\n",
    "        print(f\"發生未預期的錯誤: {error}\")\n",
    "\n",
    "if __name__==\"__main__\":\n",
    "    main()        \n"
   ]
  },
  {
   "cell_type": "markdown",
   "metadata": {},
   "source": [
    "### [Key Note]:\n",
    "處理錯誤：pyinputplus 的 inputInt 函數會處理大部分輸入錯誤，只需要在最外層捕獲所有可能的異常以應對極少數的異常情況。"
   ]
  },
  {
   "cell_type": "markdown",
   "metadata": {},
   "source": [
    "# Python 204 算術運算\n",
    "請使用選擇敘述撰寫一程式，讓使用者輸入兩個整數a、b，然後再輸入一算術運算子 (+、-、*、/、//、%） ，輸出經過運算後的結果。"
   ]
  },
  {
   "cell_type": "code",
   "execution_count": 12,
   "metadata": {},
   "outputs": [
    {
     "name": "stdout",
     "output_type": "stream",
     "text": [
      "The operational expression: 1 + 1 = 2\n"
     ]
    }
   ],
   "source": [
    "a:int=int(input(\"please input the first number: \"))\n",
    "b:int=int(input(\"please input the second number: \"))\n",
    "o:str=str(input(\"please input the operand (+,-,*,/,//,%): \"))\n",
    "try: \n",
    "    if o==\"+\":\n",
    "        result=a+b\n",
    "    elif o==\"-\":\n",
    "        result=a-b\n",
    "    elif o==\"*\":\n",
    "        result=a*b\n",
    "    elif o==\"/\":\n",
    "        if b==0:\n",
    "            print(\"Error: Division by zero is not allowed.\")\n",
    "            result = None\n",
    "        else:\n",
    "            result=a/b\n",
    "\n",
    "    elif o==\"//\":\n",
    "        if b==0:\n",
    "           print(\"Error: Division by zero is not allowed.\")\n",
    "           result = None\n",
    "        else:\n",
    "            result=a//b\n",
    "\n",
    "    elif o==\"%\":\n",
    "        if b==0:\n",
    "            print(\"Error: Division by zero is not allowed.\")\n",
    "            result = None\n",
    "        else:\n",
    "            result=a%b\n",
    "    else:\n",
    "        print(\"Invalid operand. Please use one of +, -, *, /, //, %.\")\n",
    "        result = None    \n",
    "\n",
    "    if result is not None:        \n",
    "        print(f\"The operational expression: {a} {o} {b} = {result}\")\n",
    "\n",
    "except ValueError:\n",
    "    print(\"The input format is incorrect. Please try again.\")\n",
    "except Exception as e:\n",
    "        print(f\"An unexpected error has occurred: {e}\")"
   ]
  },
  {
   "cell_type": "markdown",
   "metadata": {},
   "source": [
    "##### 程式I: 函數式編程(Functional Programming, FP)"
   ]
  },
  {
   "cell_type": "code",
   "execution_count": 9,
   "metadata": {},
   "outputs": [
    {
     "name": "stdout",
     "output_type": "stream",
     "text": [
      "please input the first number: please input the second number: please select the operand:\n",
      "1. +\n",
      "2. -\n",
      "3. *\n",
      "4. /\n",
      "5. //\n",
      "6. %\n",
      "1+1 result is 2\n"
     ]
    }
   ],
   "source": [
    "import pyinputplus as pyip\n",
    "\n",
    "def compute(a:int,b:int, oper: str):\n",
    "    if oper==\"+\":\n",
    "        return a+b\n",
    "    elif oper==\"-\":\n",
    "        return a-b\n",
    "    elif oper==\"*\":\n",
    "        return a*b\n",
    "    elif oper==\"/\":\n",
    "        if b==0:\n",
    "            print(\"Error: Division by zero is not allowed.\")\n",
    "        else:\n",
    "            return a/b\n",
    "    elif oper==\"//\": \n",
    "        if b==0:\n",
    "            print(\"Error: Division by zero is not allowed.\")\n",
    "        else:\n",
    "            return a//b\n",
    "    elif oper==\"%\":\n",
    "        if b==0:\n",
    "            print(\"Error: Division by zero is not allowed.\")\n",
    "        else:\n",
    "            return a%b\n",
    "\n",
    "    \n",
    "def main():\n",
    "    try:\n",
    "        a:int=pyip.inputInt(\"please input the first number: \")\n",
    "        b:int=pyip.inputInt(\"please input the second number: \")\n",
    "        o:str=pyip.inputMenu( [\"+\",\"-\",\"*\",\"/\",\"//\",\"%\" ], prompt=\"please select the operand:\\n\", numbered=True  )\n",
    "  \n",
    "        result=compute(a,b,o)\n",
    "        print(f\"{a}{o}{b} result is {result}\")\n",
    "\n",
    "    except Exception as error:\n",
    "        print(f\"An unexpected error has occurred: {error}\")\n",
    "\n",
    "if __name__==\"__main__\":\n",
    "    main()\n",
    "\n",
    "\n",
    "\n"
   ]
  },
  {
   "cell_type": "markdown",
   "metadata": {},
   "source": [
    "### [Key Note]:\n",
    "1. 除數為零的情況：當使用者選擇除法 (/, //, %) 時，應該檢查除數是否為零，以避免運算錯誤。\n",
    "2. 為什麼需要 else 區塊\\\n",
    "(A) 檢查無效操作符：\\\n",
    "else 區塊的目的是處理所有不符合預期的運算符。當用戶輸入的運算符不在預定的操作符（+, -, *, /, //, %）之中時，程式會執行這個 else 區塊。\\\n",
    "(B) 輸出錯誤信息：\\\n",
    "如果運算符無效，程式需要告知用戶。這樣用戶可以知道他們的輸入是錯誤的，並且可以再次嘗試正確的運算符。print(\"Invalid operand. Please use one of +, -, *, /, //, %.\") 提供了明確的反饋，告知用戶什麼是有效的運算符。\\\n",
    "(C) 防止後續錯誤：\n",
    "設置 result = None 確保了在運算符無效的情況下不會嘗試進行計算。這樣可以避免在後續的 print 語句中使用未定義的 result 變數，從而防止潛在的錯誤。\n",
    "3. 錯誤原因分析\\\n",
    "(A) try 區塊的位置：\\\n",
    "try 區塊應該在 main 函數內部，否則 a 和 b 這兩個變數不會被識別，因為它們只在 main 函數的作用域內可用。\\\n",
    "(B)作用域問題：\n",
    "變數 a 和 b 在 main 函數中定義，因此在 main 函數外的 try 區塊中無法訪問它們，導致名稱錯誤。"
   ]
  },
  {
   "cell_type": "markdown",
   "metadata": {},
   "source": [
    "# Python 205 字元判斷\n",
    "請使用選擇敘述撰寫一程式，讓使用者輸入一個字元，判斷它是包括大、小寫的英文字母（alphabet）、數字（number）、或者其它字元（symbol）。例如：a為英文字母、9為數字、$為其它字元。\n",
    "\n",
    "1. isalpha() 方法檢查字元是否為字母（包括大寫和小寫）\n",
    "2. isdigit() 方法檢查字元是否為數字"
   ]
  },
  {
   "cell_type": "code",
   "execution_count": 19,
   "metadata": {},
   "outputs": [
    {
     "name": "stdout",
     "output_type": "stream",
     "text": [
      "1 是數字(number)\n"
     ]
    }
   ],
   "source": [
    "char = input(\"請輸入: 英文字母(alphabet),數字(number),或字元(symbol)  : \")\n",
    "\n",
    "if char.isalpha():\n",
    "    print(f\"{char} 是英文字母(alphabet)\")\n",
    "elif char.isdigit():\n",
    "    print(f\"{char} 是數字(number)\")\n",
    "else:\n",
    "    print(f\"{char} 是字元(symbol)\")"
   ]
  },
  {
   "cell_type": "markdown",
   "metadata": {},
   "source": [
    "##### 程式I: 函數式編程(Functional Programming, FP)"
   ]
  },
  {
   "cell_type": "code",
   "execution_count": 10,
   "metadata": {},
   "outputs": [
    {
     "name": "stdout",
     "output_type": "stream",
     "text": [
      "請選擇輸入:[英文字母(alphabet),數字(number),或字元(symbol)] 1 是數字(number)\n"
     ]
    }
   ],
   "source": [
    "import pyinputplus as pyip\n",
    "\n",
    "def determine(char: str):\n",
    "    if char.isalpha():\n",
    "        print(f\"{char} 是英文字母(alphabet)\")\n",
    "    elif char.isdigit():\n",
    "        print(f\"{char} 是數字(number)\")\n",
    "    else:\n",
    "        print(f\"{char} 是字元(symbol)\")\n",
    "\n",
    "def main():\n",
    "    try:\n",
    "        char:str=pyip.inputStr(\"請選擇輸入:[英文字母(alphabet),數字(number),或字元(symbol)] \")\n",
    "        determine(char)\n",
    "    \n",
    "    except Exception as error:\n",
    "        print(f\"發生未預期的錯誤: {error}\")\n",
    "\n",
    "if __name__==\"__main__\":\n",
    "    main()\n"
   ]
  },
  {
   "cell_type": "markdown",
   "metadata": {},
   "source": [
    "# Python 206 等級判斷\n",
    "請使用選擇敘述撰寫一程式，根據使用者輸入的分數顯示對應的等級。標準如下表所示：\n",
    "分數        等級\\\n",
    "80 ~100 \tA\\\n",
    "70 ~ 79\t    B\\\n",
    "60 ~ 69\t    C\\\n",
    "<= 59\t    F\n"
   ]
  },
  {
   "cell_type": "code",
   "execution_count": 24,
   "metadata": {},
   "outputs": [
    {
     "name": "stdout",
     "output_type": "stream",
     "text": [
      "Please input your test scores: Number must be at maximum 100.\n",
      "Please input your test scores: Number must be at minimum 0.\n",
      "Please input your test scores: 'a' is not a number.\n",
      "Please input your test scores: For the test result, it's an A degree\n"
     ]
    }
   ],
   "source": [
    "import pyinputplus as pyip\n",
    "\n",
    "score:int=pyip.inputNum(\"Please input your test scores: \",min=0, max=100)\n",
    "\n",
    "if score>=80 and score<=100:\n",
    "   print(f\"For the test result, it's an A degree\")\n",
    "elif score>=70:\n",
    "   print(f\"For the test result, it's a B degree\")\n",
    "elif score>=60:\n",
    "   print(f\"For the test result, it's a C degree\")\n",
    "else:\n",
    "   print(f\"For the test result, it's an F degree\")\n"
   ]
  },
  {
   "cell_type": "code",
   "execution_count": 11,
   "metadata": {},
   "outputs": [
    {
     "name": "stdout",
     "output_type": "stream",
     "text": [
      "Please input your test scores: For the test result, it's an A degree\n"
     ]
    }
   ],
   "source": [
    "import pyinputplus as pyip\n",
    "\n",
    "def compute(score):\n",
    "\n",
    "    if score>=80:\n",
    "        print(f\"For the test result, it's an A degree\")\n",
    "    elif score>=70:\n",
    "        print(f\"For the test result, it's a B degree\")\n",
    "    elif score>=60:\n",
    "        print(f\"For the test result, it's a C degree\")\n",
    "    else:\n",
    "        print(f\"For the test result, it's an F degree\")\n",
    "\n",
    "def main():\n",
    "\n",
    "    try:\n",
    "        result:int=pyip.inputNum(\"Please input your test scores: \",min=0, max=100)\n",
    "        compute(result)\n",
    "    \n",
    "    except Exception as error:\n",
    "        print(f\"An unexpected error has occurred: {error}\")\n",
    "\n",
    "if __name__==\"__main__\":\n",
    "    main()"
   ]
  },
  {
   "cell_type": "markdown",
   "metadata": {},
   "source": [
    "##### 程式I: 函數式編程(Functional Programming, FP)"
   ]
  },
  {
   "cell_type": "markdown",
   "metadata": {},
   "source": [
    "### [Key Note]\n",
    "pyip.inputNum：\\\n",
    "A. 這個方法要求使用者輸入一個數字，並且你可以通過 min 和 max 參數設置允許的數值範圍。此處允許的範圍是 0 到 100。\\\n",
    "B. inputNum 方法會自動處理格式不正確的輸入，因此一般來說不需要額外的 try-except 來捕獲格式錯誤。由於 pyinputplus 已經做了嚴格的輸入控制，實際上很少會進入 except 區塊"
   ]
  },
  {
   "cell_type": "markdown",
   "metadata": {},
   "source": [
    "# Python 207 折扣方案\n",
    "\n",
    "請使用選擇敘述撰寫一程式，要求使用者輸入購物金額，購物金額需大於8,000（含）以上，並顯示折扣優惠後的實付金額。購物金額折扣方案如下表所示：\\\n",
    "金額             折扣\\\n",
    "8,000（含）以上\t  9.5折\\\n",
    "18,000（含）以上\t9折\\\n",
    "28,000（含）以上\t8折\\\n",
    "38,000（含）以上\t7折\\\n",
    "計算過程：\n"
   ]
  },
  {
   "cell_type": "markdown",
   "metadata": {},
   "source": [
    "##### 程式I: 函數式編程(Functional Programming, FP)"
   ]
  },
  {
   "cell_type": "code",
   "execution_count": 19,
   "metadata": {},
   "outputs": [
    {
     "name": "stdout",
     "output_type": "stream",
     "text": [
      "please input the total amount: the total payment 33000.0\n"
     ]
    }
   ],
   "source": [
    "import pyinputplus as pyip\n",
    "\n",
    "def compute(amount):\n",
    "\n",
    "    if amount >= 38000:\n",
    "        return amount * 0.7\n",
    "    elif amount >= 28000:\n",
    "        return amount * 0.8\n",
    "    elif amount >= 18000:\n",
    "        return amount * 0.9\n",
    "    elif amount >= 8000:\n",
    "        return amount * 0.95\n",
    "    else:\n",
    "        return amount\n",
    "\n",
    "def main():\n",
    "    try:\n",
    "        money:int=pyip.inputInt(\"please input the total amount: \",greaterThan=0)\n",
    "        payment=compute(money)\n",
    "        print(f\"the total payment {payment}\")\n",
    "    \n",
    "    except Exception as error:\n",
    "        print(f\"An unexpected error has occurred: {error}\")\n",
    "\n",
    "if __name__==\"__main__\":\n",
    "    main()"
   ]
  },
  {
   "cell_type": "markdown",
   "metadata": {},
   "source": [
    "# Python 208 十進位換算\n",
    "\n",
    "請使用選擇敘述撰寫一程式，讓使用者輸入一個十進位整數num(0 ≤ num ≤ 15)，將num轉換成十六進位值。\\\n",
    "提示：轉換規則 = 十進位0~9的十六進位值為其本身，十進位10~15的十六進位值為A~F。"
   ]
  },
  {
   "cell_type": "code",
   "execution_count": 9,
   "metadata": {},
   "outputs": [
    {
     "name": "stdout",
     "output_type": "stream",
     "text": [
      "輸入一個十進位整數: 13\n",
      "0x8\n"
     ]
    }
   ],
   "source": [
    "import pyinputplus as pyip\n",
    "num=pyip.inputInt(prompt=\"請輸入一個 0 到 15 之間的十進位整數: \", min=0,max=15)\n",
    "print(hex(num))"
   ]
  },
  {
   "cell_type": "markdown",
   "metadata": {},
   "source": [
    "##### 程式I: 函數式編程(Functional Programming, FP)"
   ]
  },
  {
   "cell_type": "code",
   "execution_count": 11,
   "metadata": {},
   "outputs": [
    {
     "name": "stdout",
     "output_type": "stream",
     "text": [
      "請輸入一個十進位整數: \n",
      "請選擇要轉換的進制\n",
      "1. Binary\n",
      "2. Octal\n",
      "3. Decimal\n",
      "4. Hexadecimal\n",
      "進制轉換: Decimal(89543) = Hexadecimal(15DC7)\n"
     ]
    }
   ],
   "source": [
    "import pyinputplus as pyip\n",
    "\n",
    "def compute(numeral,transfer):\n",
    "    if transfer == \"Binary\":\n",
    "        return bin(numeral)[2:]\n",
    "    elif transfer==\"Octal\":\n",
    "        return oct(numeral)[2:]\n",
    "    elif transfer ==\"Decimal\":\n",
    "        return str(numeral)\n",
    "    elif transfer==\"Hexadecimal\":\n",
    "        return hex(numeral)[2:].upper()\n",
    "\n",
    "def main():\n",
    "    try: \n",
    "        num=pyip.inputInt(\"請輸入一個十進位整數: \\n\")\n",
    "        transfer=pyip.inputMenu([\"Binary\",\"Octal\",\"Decimal\",\"Hexadecimal\"], prompt=\"請選擇要轉換的進制\\n\", numbered=True)\n",
    "        result=compute(num,transfer)\n",
    "        print(f\"進制轉換: Decimal({num}) = {transfer}({result})\")\n",
    "    except Exception as e:\n",
    "        print(f\"發生未預期的錯誤: {e}\")\n",
    "\n",
    "if __name__==\"__main__\":\n",
    "    main()\n"
   ]
  },
  {
   "cell_type": "markdown",
   "metadata": {},
   "source": [
    "### [Key Note]:\n",
    "    if transfer == \"Binary\":\n",
    "        return bin(numeral)[2:]  # 去除 '0b' 前綴\n",
    "    elif transfer == \"Octal\":\n",
    "        return oct(numeral)[2:]   # 去除 '0o' 前綴\n",
    "    elif transfer == \"Decimal\":\n",
    "        return str(numeral)        # 返回作為字串\n",
    "    elif transfer == \"Hexadecimal\":\n",
    "        return hex(numeral)[2:].upper()  # 去除 '0x' 前綴並轉為大寫"
   ]
  },
  {
   "cell_type": "markdown",
   "metadata": {},
   "source": [
    "# Python 209 距離判斷\n",
    "\n",
    "請使用選擇敘述撰寫一程式，讓使用者輸入一個點的平面座標x和y值，判斷此點是否與點(5, 6)的距離小於或等於15，如距離小於或等於15顯示【Inside】，反之顯示【Outside】。\\\n",
    "提示：計算平面上兩點距離的公式： √(x1−x2)2+(y1−y2)2\n"
   ]
  },
  {
   "cell_type": "code",
   "execution_count": 25,
   "metadata": {},
   "outputs": [
    {
     "name": "stdout",
     "output_type": "stream",
     "text": [
      "請輸入第一個點的平面座標 x1:請輸入第一個點的平面座標 y1:Outside\n"
     ]
    }
   ],
   "source": [
    "import pyinputplus as pyip\n",
    "x1=pyip.inputNum(prompt=\"請輸入第一個點的平面座標 x1:\")\n",
    "y1=pyip.inputNum(prompt=\"請輸入第一個點的平面座標 y1:\")\n",
    "x2=5\n",
    "y2=6\n",
    "d=((x1-x2)**2+(y1-y2)**2)**(0.5)\n",
    "if d<=15:\n",
    "    print(\"Inside\")\n",
    "else:\n",
    "    print(\"Outside\")"
   ]
  },
  {
   "cell_type": "markdown",
   "metadata": {},
   "source": [
    "##### 程式I: 函數式編程(Functional Programming, FP)"
   ]
  },
  {
   "cell_type": "code",
   "execution_count": 15,
   "metadata": {},
   "outputs": [
    {
     "name": "stdout",
     "output_type": "stream",
     "text": [
      "請輸入第一個點的平面座標 x:請輸入第一個點的平面座標 y:距離為86.954,結果為: Outside \n"
     ]
    }
   ],
   "source": [
    "import pyinputplus as pyip\n",
    "\n",
    "def compute(x1:float,y1:float):\n",
    "    x2=5\n",
    "    y2=6\n",
    "    return ((x1-x2)**2+(y1-y2)**2)**(0.5)\n",
    "\n",
    "def main():\n",
    "    try:    \n",
    "        x:float=pyip.inputFloat(prompt=\"請輸入第一個點的平面座標 x:\")\n",
    "        y:float=pyip.inputFloat(prompt=\"請輸入第一個點的平面座標 y:\")\n",
    "        d=compute (x,y)\n",
    "        if d<=15:\n",
    "            print(f\"距離為{round(d,ndigits=3)},結果為: Inside \")\n",
    "        else:\n",
    "            print(f\"距離為{round(d,ndigits=3)},結果為: Outside \")\n",
    "    \n",
    "    except Exception as e:\n",
    "        print(f\"發生未預期的錯誤: {e}\")\n",
    "\n",
    "if __name__==\"__main__\":\n",
    "    main()"
   ]
  },
  {
   "cell_type": "markdown",
   "metadata": {},
   "source": [
    "# Python 210 三角形判斷\n",
    "請使用選擇敘述撰寫一程式，讓使用者輸入三個邊長，檢查這三個邊長是否可以組成一個三角形。若可以，則輸出該三角形之周長；否則顯示【Invalid】。\\\n",
    "提示：檢查方法 = 任意兩個邊長之總和大於第三邊長。"
   ]
  },
  {
   "cell_type": "code",
   "execution_count": 24,
   "metadata": {},
   "outputs": [
    {
     "name": "stdout",
     "output_type": "stream",
     "text": [
      "請輸入三角形的邊長:\n",
      "請輸入三角形的邊長:\n",
      "請輸入三角形的邊長:\n",
      "permeter=3\n"
     ]
    }
   ],
   "source": [
    "import pyinputplus as pyip\n",
    "l1=pyip.inputNum(f\"請輸入三角形的邊長:\\n\",greaterThan=0)\n",
    "l2=pyip.inputNum(f\"請輸入三角形的邊長:\\n\",greaterThan=0)\n",
    "l3=pyip.inputNum(f\"請輸入三角形的邊長:\\n\",greaterThan=0)\n",
    "if l1+l2>l3 and l1+l3>l2 and l2+l3>l1:\n",
    "    p=l1+l2+l3\n",
    "    print(f\"permeter={p}\")\n",
    "else:\n",
    "    print(\"Invalid\")\n",
    "\n"
   ]
  },
  {
   "cell_type": "markdown",
   "metadata": {},
   "source": [
    "##### 程式I: 函數式編程(Functional Programming, FP)"
   ]
  },
  {
   "cell_type": "code",
   "execution_count": 17,
   "metadata": {},
   "outputs": [
    {
     "name": "stdout",
     "output_type": "stream",
     "text": [
      "請輸入三角形的第1邊長:\n",
      "請輸入三角形的第2邊長:\n",
      "請輸入三角形的第3邊長:\n",
      "周長 =3.0\n"
     ]
    }
   ],
   "source": [
    "import pyinputplus as pyip\n",
    "\n",
    "def compute(l1:float,l2:float,l3:float):\n",
    "    if l1+l2>l3 and l1+l3>l2 and l2+l3>l1:\n",
    "        p=l1+l2+l3\n",
    "        print(f\"周長 ={p}\")\n",
    "    else:\n",
    "        print(\"Invalid\")\n",
    "\n",
    "def main():\n",
    "    try:\n",
    "        lst=[]\n",
    "        for i in range (3):\n",
    "            length=pyip.inputFloat(f\"請輸入三角形的第{i+1}邊長:\\n\",greaterThan=0)\n",
    "            lst.append(length)\n",
    "                 \n",
    "        compute(*lst)\n",
    "    \n",
    "    except Exception as e:\n",
    "        print(f\"發生未預期的錯誤: {e}\")\n",
    "\n",
    "if __name__==\"__main__\":\n",
    "    main()\n"
   ]
  },
  {
   "cell_type": "markdown",
   "metadata": {},
   "source": [
    "### [Key Note]:\n",
    "解包(unpacking)\n",
    "\n",
    "number=[1,2,3]\\\n",
    "print(*number)\\\n",
    "輸出 1 2 3\\\n",
    "所以 compute(*lst) = compute(l1,l2,l3)  使用解包運算符傳遞三個邊長"
   ]
  }
 ],
 "metadata": {
  "kernelspec": {
   "display_name": ".venv",
   "language": "python",
   "name": "python3"
  },
  "language_info": {
   "codemirror_mode": {
    "name": "ipython",
    "version": 3
   },
   "file_extension": ".py",
   "mimetype": "text/x-python",
   "name": "python",
   "nbconvert_exporter": "python",
   "pygments_lexer": "ipython3",
   "version": "3.12.3"
  }
 },
 "nbformat": 4,
 "nbformat_minor": 2
}
