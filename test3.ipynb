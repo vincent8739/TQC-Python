{
 "cells": [
  {
   "cell_type": "markdown",
   "metadata": {},
   "source": [
    "# Python 301 迴圈整數連加\n",
    "請使用迴圈敘述撰寫一程式，讓使用者輸入兩個正整數a、b（a < b），利用迴圈計算從a開始連加到b的總和。例如：輸入a=1、b=100，則輸出結果為5050（1 + 2 + … + 100 = 5050）。"
   ]
  },
  {
   "cell_type": "code",
   "execution_count": null,
   "metadata": {},
   "outputs": [],
   "source": [
    "import pyinputplus as pyip\n",
    "a:int=pyip.inputInt(\"Please input the first number:\\n\")\n",
    "b:int=pyip.inputInt(\"Please input the second number:\\n\")\n",
    "total=0\n",
    "if a>b:\n",
    "    print(\"Please re-keyin again, the 1st input number > 2nd number\" )\n",
    "else:\n",
    "    for i in range(a,b+1,1):\n",
    "        total+=i\n",
    "    print(f\"從 {a} 到 {b} 的總和是 {total}。\")"
   ]
  },
  {
   "cell_type": "markdown",
   "metadata": {},
   "source": [
    "##### 程式I: 函數式編程(Functional Programming, FP)"
   ]
  },
  {
   "cell_type": "code",
   "execution_count": null,
   "metadata": {},
   "outputs": [],
   "source": [
    "import pyinputplus as pyip\n",
    "\n",
    "def compute(a:int,b:int):\n",
    "    total=0\n",
    "    for i in range(a,b+1,1):\n",
    "        total+=i\n",
    "    return total\n",
    "\n",
    "def main():\n",
    "    try:\n",
    "\n",
    "        num1:int=pyip.inputInt(\"Please input the first number:\\n\",min=1)\n",
    "        num2:int=pyip.inputInt(\"Please input the second number:\\n\",min=1)\n",
    "        if num1<num2:\n",
    "            total=compute(num1,num2)\n",
    "            print(f\"From {num1} to {num2}, the sum is {total}\")\n",
    "        elif num1>=num2:\n",
    "            print(\"Please re-keyin again, the 1st input number > 2nd number\" )\n",
    "    \n",
    "    except Exception as e:\n",
    "        print(f\"An unexpected error has occurred: {e} \")\n",
    "\n",
    "if __name__==\"__main__\":\n",
    "    main()    \n",
    "    \n"
   ]
  },
  {
   "cell_type": "markdown",
   "metadata": {},
   "source": [
    "##### 程式II-1: 物件導向程式設計（Object-oriented programming，OOP)"
   ]
  },
  {
   "cell_type": "code",
   "execution_count": 3,
   "metadata": {},
   "outputs": [
    {
     "name": "stdout",
     "output_type": "stream",
     "text": [
      "要繼續使用連加程式,請按'y'或按'q'離開:請輸入第一個數字:\n",
      "請輸入第二個數字:\n",
      "數字範圍從1到100之間,總和是5050\n",
      "要繼續使用連加程式,請按'y'或按'q'離開:程式結束!謝謝使用\n"
     ]
    }
   ],
   "source": [
    "import pyinputplus as pyip\n",
    "\n",
    "class LoopingIntegerAddition:\n",
    "    def __init__(self,number1:int,number2:int) -> None:\n",
    "        self.number1=number1\n",
    "        self.number2=number2\n",
    "        self._total=None\n",
    "    \n",
    "    @property\n",
    "    def total(self):\n",
    "        return self._total\n",
    "\n",
    "    def calculation_method(self) ->None:\n",
    "        self._total=sum(range(self.number1,self.number2+1,1))  \n",
    "                                         \n",
    "\n",
    "    def display_method(self) ->None:\n",
    "        print(f\"數字範圍從{self.number1}到{self.number2}之間,總和是{self._total}\")\n",
    "\n",
    "def input_function():\n",
    "    while True:\n",
    "        number1=pyip.inputInt(\"請輸入第一個數字:\\n\",min=1)\n",
    "        number2=pyip.inputInt(\"請輸入第二個數字:\\n\",min=1)\n",
    "        if number1<number2:\n",
    "            return number1,number2\n",
    "        else:\n",
    "            print(\"規則是第二個輸入的數字應大於第一個數字,請重新輸入\")\n",
    "            continue\n",
    "\n",
    "def main() -> None:\n",
    "\n",
    "    while True:\n",
    "        try:\n",
    "            selection=pyip.inputYesNo(prompt=\"Python 301 迴圈整數連加, 要繼續使用連加程式,請按'y'或按'q'離開:\", yesVal=\"y\", noVal=\"q\")\n",
    "\n",
    "            if selection==\"y\":\n",
    "                number1,number2=input_function()\n",
    "                addition_calculation=LoopingIntegerAddition(number1,number2)\n",
    "                addition_calculation.calculation_method()\n",
    "                addition_calculation.display_method()\n",
    "            \n",
    "            else:\n",
    "                print(\"程式結束!謝謝使用\")\n",
    "                break\n",
    "        \n",
    "        except Exception as e:\n",
    "            print(f\"發生了不可預期的錯誤: {e} \")\n",
    "            break\n",
    "\n",
    "if __name__==\"__main__\":\n",
    "    main()    "
   ]
  },
  {
   "cell_type": "markdown",
   "metadata": {},
   "source": [
    "##### 程式II-2: 物件導向程式設計（Object-oriented programming，OOP)\n",
    "\n",
    "Class Input: 負責處理輸入邏輯。\\\n",
    "Class Calculation: 負責計算邏輯。\\\n",
    "Class Display: 負責結果的展示。"
   ]
  },
  {
   "cell_type": "code",
   "execution_count": 3,
   "metadata": {},
   "outputs": [
    {
     "name": "stdout",
     "output_type": "stream",
     "text": [
      "Python 301 迴圈整數連加, 要繼續使用連加程式,請按'y'或按'q'離開:請輸入第一個數字:\n",
      "請輸入第二個數字:\n",
      "數字範圍從 1 到 100 之間, 總和是 5050\n",
      "Python 301 迴圈整數連加, 要繼續使用連加程式,請按'y'或按'q'離開:程式結束!謝謝使用\n"
     ]
    }
   ],
   "source": [
    "import pyinputplus as pyip\n",
    "\n",
    "class Input:\n",
    "    \"\"\"處理用戶的輸入\"\"\"\n",
    "    def get_numbers_method(self):\n",
    "        while True:\n",
    "            number1 = pyip.inputInt(\"請輸入第一個數字:\\n\", min=1)\n",
    "            number2 = pyip.inputInt(\"請輸入第二個數字:\\n\", min=1)\n",
    "            if number1 < number2:\n",
    "                return number1, number2\n",
    "            else:\n",
    "                print(\"規則是第二個輸入的數字應大於第一個數字, 請重新輸入\")\n",
    "\n",
    "\n",
    "class Calculation:\n",
    "    \"\"\"負責進行計算\"\"\"\n",
    "    def __init__(self, number1: int, number2: int) -> None:\n",
    "        self.number1 = number1\n",
    "        self.number2 = number2\n",
    "        self._total = None\n",
    "\n",
    "    def calculate_sum_method(self) -> None:\n",
    "        self._total = sum(range(self.number1, self.number2 + 1))\n",
    "\n",
    "    @property\n",
    "    def total(self) -> int:\n",
    "        return self._total\n",
    "\n",
    "\n",
    "class Display:\n",
    "    \"\"\"顯示輸出結果\"\"\"\n",
    "    def show_result_method(self, number1: int, number2: int, total: int) -> None:\n",
    "        print(f\"數字範圍從 {number1} 到 {number2} 之間, 總和是 {total}\")\n",
    "\n",
    "\n",
    "def main() -> None:\n",
    "    \"\"\"主程式\"\"\"\n",
    "    \"\"\"建立class的實體\"\"\"\n",
    "    input_handler = Input()\n",
    "    display_handler = Display()\n",
    "\n",
    "    while True:\n",
    "        try:\n",
    "            selection = pyip.inputYesNo(\n",
    "                prompt=\"Python 301 迴圈整數連加, 要繼續使用連加程式,請按'y'或按'q'離開:\", \n",
    "                yesVal=\"y\", \n",
    "                noVal=\"q\"\n",
    "            )\n",
    "\n",
    "            if selection == \"y\":\n",
    "                number1, number2 = input_handler.get_numbers_method()\n",
    "                calculation_handler = Calculation(number1, number2)\n",
    "                calculation_handler.calculate_sum_method()\n",
    "                display_handler.show_result_method(number1, number2, calculation_handler.total)\n",
    "            else:\n",
    "                print(\"程式結束!謝謝使用\")\n",
    "                break\n",
    "\n",
    "        except Exception as e:\n",
    "            print(f\"發生了不可預期的錯誤: {e}\")\n",
    "            break\n",
    "\n",
    "\n",
    "if __name__ == \"__main__\":\n",
    "    main()\n"
   ]
  },
  {
   "cell_type": "markdown",
   "metadata": {},
   "source": [
    "### [Key Note]:\n",
    "這兩種方法在功能上是等價的，但使用 sum() 和 range() 的方法更加簡潔\n",
    "\n",
    "1. 使用循環\n",
    "self.total = 0\\\n",
    "for i in range(self.num1, self.num2 + 1):\\\n",
    "    self.total += i\n",
    "\n",
    "2. 使用 sum() 和 range()\\\n",
    "self.total = sum(range(self.num1, self.num2 + 1))\n"
   ]
  },
  {
   "cell_type": "markdown",
   "metadata": {},
   "source": [
    "# Python 302 迴圈偶數連加\n",
    "迴圈請使用迴圈敘述撰寫一程式，讓使用者輸入兩個正整數a、b（a < b），利用迴圈計算從a開始的偶數連加到b的總和。例如：輸入a=1、b=100，則輸出結果為2550（2 + 4 + … + 100 = 2550）。偶數連加\n"
   ]
  },
  {
   "cell_type": "code",
   "execution_count": 1,
   "metadata": {},
   "outputs": [
    {
     "name": "stdout",
     "output_type": "stream",
     "text": [
      "Please input the first number:\n",
      "Please input the second number:\n",
      "從 1 到 100 的偶數連加總和是 2550。\n"
     ]
    }
   ],
   "source": [
    "import pyinputplus as pyip\n",
    "a:int=pyip.inputInt(\"Please input the first number:\\n\")\n",
    "b:int=pyip.inputInt(\"Please input the second number:\\n\")\n",
    "total=0\n",
    "if a>b:\n",
    "    print(\"Please re-keyin again, the rule is that: the 1st input number > 2nd number\" )\n",
    "else:\n",
    "    if a%2==0:\n",
    "        aeven=a\n",
    "    else:\n",
    "        aeven=a+1\n",
    "    if b%2==0:\n",
    "        beven=b\n",
    "    else:\n",
    "        beven=b-1\n",
    "for i in range(aeven,beven+1,2):\n",
    "    total+=i\n",
    "print(f\"從 {a} 到 {b} 的偶數連加總和是 {total}。\")\n"
   ]
  },
  {
   "cell_type": "markdown",
   "metadata": {},
   "source": [
    "##### 程式I: 函數式編程(Functional Programming, FP)"
   ]
  },
  {
   "cell_type": "code",
   "execution_count": 3,
   "metadata": {},
   "outputs": [
    {
     "name": "stdout",
     "output_type": "stream",
     "text": [
      "請輸入第一個數字:\n",
      "請輸入第二個數字:\n",
      "從 2 到 100 的偶數連加總和是 2550。\n"
     ]
    }
   ],
   "source": [
    "import pyinputplus as pyip\n",
    "\n",
    "def compute(n,m):\n",
    "     total=0\n",
    "     for i in range(n,m+1,2):\n",
    "          total=total+i\n",
    "     return total\n",
    "   \n",
    "def main():\n",
    "    try:\n",
    "            a:int=pyip.inputInt(\"請輸入第一個數字:\\n\",greaterThan=0)\n",
    "            b:int=pyip.inputInt(\"請輸入第二個數字:\\n\",greaterThan=0)\n",
    "            \n",
    "            if a<=b:\n",
    "                if a%2!=0:\n",
    "                    a+=1\n",
    "                    total=compute(a,b)\n",
    "                \n",
    "                elif a%2==0:\n",
    "                     total=compute(a,b)\n",
    "\n",
    "                print(f\"從 {a} 到 {b} 的偶數連加總和是 {total}。\")\n",
    "            \n",
    "            else:\n",
    "                print(\"錯誤：規則是:第一個數字必須小於第二個數字\" )\n",
    "\n",
    "    except Exception as e:\n",
    "             print(f\"發生一個無預期的錯誤:{e}\")\n",
    "\n",
    "if __name__ == \"__main__\":\n",
    "    main()"
   ]
  },
  {
   "cell_type": "markdown",
   "metadata": {},
   "source": [
    "##### 程式II: 物件導向程式設計（Object-oriented programming，OOP)"
   ]
  },
  {
   "cell_type": "code",
   "execution_count": 4,
   "metadata": {},
   "outputs": [
    {
     "name": "stdout",
     "output_type": "stream",
     "text": [
      "要繼續使用偶數連加程式,請按'y'或按'q'離開:請輸入第一個數字:\n",
      "請輸入第二個數字:\n",
      "從 2 到 100 的偶數連加總和是 2550。\n",
      "要繼續使用偶數連加程式,請按'y'或按'q'離開:程式結束!謝謝使用\n"
     ]
    }
   ],
   "source": [
    "import pyinputplus as pyip\n",
    "\n",
    "class TotalofEvenNumber:\n",
    "    def __init__(self,number1:int,number2:int) -> None:\n",
    "          self.number1=number1\n",
    "          self.number2=number2\n",
    "          self._total=None\n",
    "          \n",
    "    @property\n",
    "    def total(self):\n",
    "        return self._total         \n",
    "    \n",
    "    def calculation_method(self) ->None:            \n",
    "            if self.number1%2!=0:\n",
    "                self.number1=self.number1+1\n",
    "                self._total=sum(range(self.number1,self.number2+1,2))\n",
    "\n",
    "            elif self.number1%2==0:\n",
    "                self._total=sum(range(self.number1,self.number2+1,2))\n",
    "     \n",
    "    def output_method(self) -> None:\n",
    "        if self._total>0:\n",
    "            print(f\"從 {self.number1} 到 {self.number2} 的偶數連加總和是 {self._total} \")   \n",
    "\n",
    "def input_function():\n",
    "    while True:\n",
    "        number1=pyip.inputInt(\"請輸入第一個數字:\\n\",min=1)\n",
    "        number2=pyip.inputInt(\"請輸入第二個數字:\\n\",min=1)\n",
    "        if number1<number2:\n",
    "            return number1,number2\n",
    "            \n",
    "        else:\n",
    "            print(\"錯誤! 規則是:第一個數字必須小於第二個數字,請重新輸入\" )\n",
    "            continue\n",
    "\n",
    "def main():\n",
    "    \n",
    "    while True:\n",
    "        try:\n",
    "            selection=pyip.inputYesNo(prompt=\"Python 302 迴圈偶數連加,繼續請按'y'或按'q'離開:\", yesVal=\"y\", noVal=\"q\")\n",
    "\n",
    "            if selection==\"y\":\n",
    "                number1,number2=input_function()\n",
    "                even_addition=TotalofEvenNumber(number1,number2)\n",
    "                even_addition.calculation_method()\n",
    "                even_addition.output_method()\n",
    "            \n",
    "            else:\n",
    "                print(\"程式結束!謝謝使用\")\n",
    "                break                      \n",
    "\n",
    "        except Exception as e:\n",
    "            print(f\"發生一個無預期的錯誤:{e}\")\n",
    "            break\n",
    "\n",
    "if __name__ == \"__main__\":\n",
    "    main()"
   ]
  },
  {
   "cell_type": "markdown",
   "metadata": {},
   "source": [
    "### [Key Note]:\n",
    "1. beven 設定: 修正了 beven 的設定，使其不會超過 b，若 b 是偶數則 beven 仍為 b，若 b 是奇數則 beven 為 b - 1。\n",
    "\n",
    "2. 使用\" != 0 \" 檢查奇數 (if a % 2 != 0), 使用\" == 0 \" 檢查偶數(if a % 2== 0)\n"
   ]
  },
  {
   "cell_type": "markdown",
   "metadata": {},
   "source": [
    "# Python 303 迴圈數值相乘\n",
    "請使用迴圈敘述撰寫一程式，讓使用者輸入一個正整數（<100），然後以三角形的方式依序輸出此數的相乘結果。\n",
    "提示：輸出欄寬為4，且需靠右對齊。"
   ]
  },
  {
   "cell_type": "code",
   "execution_count": 10,
   "metadata": {},
   "outputs": [
    {
     "name": "stdout",
     "output_type": "stream",
     "text": [
      "Please input a number:\n",
      "   1 \n",
      "   2    4 \n",
      "   3    6    9 \n",
      "   4    8   12   16 \n",
      "   5   10   15   20   25 \n"
     ]
    }
   ],
   "source": [
    "import pyinputplus as pyip\n",
    "num:int=pyip.inputInt(\"Please input a number:\\n\",max=100)\n",
    "for i in range(1,num+1):\n",
    "    for j in range(1,i+1):\n",
    "        count=i*j\n",
    "        print(f\"{count:4d}\", end=' ')\n",
    "    print()\n"
   ]
  },
  {
   "cell_type": "markdown",
   "metadata": {},
   "source": [
    "# Python 304 迴圈倍數總和\n",
    "請使用迴圈敘述撰寫一程式，讓使用者輸入一個正整數a，利用迴圈計算從1到a之間，所有5之倍數數字總和。\n"
   ]
  },
  {
   "cell_type": "code",
   "execution_count": 2,
   "metadata": {},
   "outputs": [
    {
     "name": "stdout",
     "output_type": "stream",
     "text": [
      "Please input a number:\n",
      "從 1 到 100 所有5之倍數數字總和是 1050\n"
     ]
    }
   ],
   "source": [
    "import pyinputplus as pyip\n",
    "a:int=pyip.inputInt(\"Please input a number:\\n\")\n",
    "total=0\n",
    "for i in range(1,a+1):\n",
    "    if i%5==0:\n",
    "        total+=i\n",
    "print(f\"從 1 到 {a} 所有5之倍數數字總和是 {total}\")\n"
   ]
  },
  {
   "cell_type": "markdown",
   "metadata": {},
   "source": [
    "##### 程式I: 函數式編程(Functional Programming, FP)"
   ]
  },
  {
   "cell_type": "code",
   "execution_count": 3,
   "metadata": {},
   "outputs": [
    {
     "name": "stdout",
     "output_type": "stream",
     "text": [
      "Please input a number:\n",
      "從 1 到 100 所有5之倍數數字總和是 1050\n"
     ]
    }
   ],
   "source": [
    "import pyinputplus as pyip\n",
    "\n",
    "def compute(num):\n",
    "    total=0\n",
    "    for i in range (1,num+1):\n",
    "        if i%5==0:\n",
    "            total+=i\n",
    "    return total\n",
    "        \n",
    "def main():\n",
    "    a:int=pyip.inputInt(\"Please input a number:\\n\",min=1)\n",
    "    try: \n",
    "        calculation=compute(a)\n",
    "        print(f\"從 1 到 {a} 所有5之倍數數字總和是 {calculation}\")\n",
    "    except Exception as e:\n",
    "             print(f\"發生一個無預期的錯誤:{e}\")\n",
    "\n",
    "if __name__ == \"__main__\":\n",
    "    main()"
   ]
  },
  {
   "cell_type": "markdown",
   "metadata": {},
   "source": [
    "##### 程式II: 物件導向程式設計（Object-oriented programming，OOP)"
   ]
  },
  {
   "cell_type": "code",
   "execution_count": 6,
   "metadata": {},
   "outputs": [
    {
     "name": "stdout",
     "output_type": "stream",
     "text": [
      "要繼續使用5的倍數連加程式,請按'y'或按'q'離開:請輸入一個數字(其最小值為5的數):\n",
      "Number must be at minimum 5.\n",
      "請輸入一個數字(其最小值為5的數):\n",
      "從 1 到 100 所有5之倍數數字總和是 1050\n",
      "要繼續使用5的倍數連加程式,請按'y'或按'q'離開:程式結束!謝謝使用\n"
     ]
    }
   ],
   "source": [
    "import pyinputplus as pyip\n",
    "\n",
    "class TotalOfMultiples:\n",
    "    \n",
    "    def __init__(self,number:int) -> None:\n",
    "         self.number=number\n",
    "         self._total=None\n",
    "    \n",
    "    @property\n",
    "    def total(self):\n",
    "        return self._total\n",
    "    \n",
    "    def calculation_method(self) -> None:\n",
    "        self._total= sum( range(5,self.number+1,5))\n",
    "        \n",
    "    def output_method(self) -> None:\n",
    "        print(f\"從 1 到 {self.number} 所有5之倍數數字總和是 {self._total}\")\n",
    "\n",
    "\n",
    "def input_function():\n",
    "    number=pyip.inputInt(\"請輸入一個數字(其最小值為5):\\n\",min=5)\n",
    "    return number\n",
    "        \n",
    "def main():\n",
    "    \n",
    "    while True:\n",
    "        try: \n",
    "            selection=pyip.inputYesNo(prompt=\"Python 304 迴圈倍數總和,繼續執行請按'y'或按'q'離開:\", yesVal=\"y\", noVal=\"q\")\n",
    "\n",
    "            if selection==\"y\":\n",
    "                 number=input_function()\n",
    "                 sum_multiples=TotalOfMultiples(number)\n",
    "                 sum_multiples.calculation_method()\n",
    "                 sum_multiples.output_method()\n",
    "            else:\n",
    "                print(\"程式結束!謝謝使用\")\n",
    "                break                      \n",
    "              \n",
    "        except Exception as e:\n",
    "                print(f\"發生一個無預期的錯誤:{e}\")\n",
    "                break\n",
    "\n",
    "if __name__ == \"__main__\":\n",
    "    main()\n",
    "\n"
   ]
  },
  {
   "cell_type": "markdown",
   "metadata": {},
   "source": [
    "### [Key Note]:\n",
    "range(num) 和 range(1, num + 1) 的不同在於：\n",
    "\n",
    "range(num)：這會產生從 0 到 num-1 的數字序列（即包含 0，不包含 num）例如，range(5) 會產生 [0, 1, 2, 3, 4]。\n",
    "\n",
    "range(1, num + 1)：這會產生從 1 到 num 的數字序列（即不包含 1 的前一個數字 0，而包含 num）。例如，range(1, 6) 會產生 [1, 2, 3, 4, 5]。"
   ]
  },
  {
   "cell_type": "markdown",
   "metadata": {},
   "source": [
    "# Python 305 數字反轉\n",
    "請撰寫一程式，讓使用者輸入一個正整數，將此數值以反轉的順序輸出。"
   ]
  },
  {
   "cell_type": "code",
   "execution_count": 8,
   "metadata": {},
   "outputs": [
    {
     "name": "stdout",
     "output_type": "stream",
     "text": [
      "9 8 7 6 5 4 3 2 1 "
     ]
    }
   ],
   "source": [
    "key_in:str=input(\"Please input a number:\\n\")\n",
    "for i in range(len(key_in),0,-1):\n",
    "    print(i, end=\" \")\n"
   ]
  },
  {
   "cell_type": "markdown",
   "metadata": {},
   "source": [
    "##### 程式I: 函數式編程(Functional Programming, FP)"
   ]
  },
  {
   "cell_type": "code",
   "execution_count": 2,
   "metadata": {},
   "outputs": [
    {
     "name": "stdout",
     "output_type": "stream",
     "text": [
      "Please input characters:\n",
      "987654321 "
     ]
    }
   ],
   "source": [
    "import pyinputplus as pyip\n",
    "\n",
    "def reverse_input(key_in):\n",
    "    return ''.join(reversed(key_in))\n",
    "\n",
    "def main():\n",
    "    data:str=pyip.inputStr(\"Please input characters:\\n\")\n",
    "    output=reverse_input(data)\n",
    "    print(output,end=\" \")\n",
    "\n",
    "if __name__ == \"__main__\":\n",
    "    main()\n",
    "    "
   ]
  },
  {
   "cell_type": "markdown",
   "metadata": {},
   "source": [
    "##### 程式II: 物件導向程式設計（Object-oriented programming，OOP)"
   ]
  },
  {
   "cell_type": "code",
   "execution_count": 4,
   "metadata": {},
   "outputs": [
    {
     "name": "stdout",
     "output_type": "stream",
     "text": [
      "要繼續進行字串反轉,請按'y'或按'q'離開:請輸入內容:\n",
      "輸入abcdefg 反轉為gfedcba\n",
      "要繼續進行字串反轉,請按'y'或按'q'離開:程式結束!謝謝使用\n"
     ]
    }
   ],
   "source": [
    "import pyinputplus as pyip\n",
    "\n",
    "class InputReversed:\n",
    "    def __init__(self,data:str) -> None:\n",
    "        self.data=data\n",
    "        self._reversed_data=None\n",
    "    @property\n",
    "    def reversed_data(self):\n",
    "        return self._reversed_data    \n",
    "\n",
    "    def calculation_method(self) -> None:\n",
    "        self._reversed_data= ''.join(reversed(self.data))\n",
    "        \n",
    "    def output_method(self) -> None:\n",
    "        print(f\"輸入{self.data} 反轉為{self._reversed_data}\")\n",
    "\n",
    "def input_function():\n",
    "    data=pyip.inputStr(\"請輸入內容:\\n\")\n",
    "    return data\n",
    "\n",
    "def main():\n",
    "    \n",
    "    while True:\n",
    "        try: \n",
    "            selection=pyip.inputYesNo(prompt=\"Python 305 數字反轉,執行請按'y'或按'q'離開:\", yesVal=\"y\", noVal=\"q\")\n",
    "\n",
    "            if selection==\"y\":\n",
    "                  data=input_function()\n",
    "                  in_out_reversed=InputReversed(data)\n",
    "                  in_out_reversed.calculation_method()\n",
    "                  in_out_reversed.output_method()\n",
    "            else:\n",
    "                print(\"程式結束!謝謝使用\")\n",
    "                break                      \n",
    "              \n",
    "        except Exception as e:\n",
    "                print(f\"發生一個無預期的錯誤:{e}\")\n",
    "                break\n",
    "\n",
    "if __name__ == \"__main__\":\n",
    "    main()       "
   ]
  },
  {
   "cell_type": "markdown",
   "metadata": {},
   "source": [
    "### [Key Note]:\n",
    "1. 使用 range(start, stop, step) 的 step 參數設為\"負數\"來反向迭代。 \\\n",
    "即: range(stop, start-1,-1)\n",
    "2. return ''.join(reversed(key_in))\\\n",
    "(A) reversed() 函數可以簡單地反向迭代列表或字串。但是 reversed() 函數，返回的是一個迭代器，而不是一個字符串。因此，在輸出時需要將其轉換為字符串。可以使用:\\\n",
    "(B) ''.join() 用於將可迭代對象中的元素連接成一個字符串\\\n",
    "3. return key_in[::-1]\\\n",
    "(A) 切片（slicing）是一種在 Python 中提取序列（如字符串、列表、元組）的一部分的技術。\n",
    "sequence[start:stop:step] \\\n",
    "start：切片的開始索引（包含這個索引）\\\n",
    "stop：切片的結束索引（不包含這個索引）\\\n",
    "step：步長，表示每次跳過多少元素。\\\n",
    "而 [::-1] 是一種特殊的切片語法，用來反轉序列\n",
    "\n",
    "(B) s = \"hello\"\\\n",
    "s[0:2] 會得到 \"he\"，因為它從索引 0 開始，到索引 2（不包含 2）結束\\\n",
    "s[1:4] 會得到 \"ell\"\\\n",
    "s[::2] 會得到 \"hlo\"，因為它從開始到結束，每隔一個字符取一次\\\n",
    "s[::-1] 會得到 \"olleh\" start 和 stop 沒有指定，意味著從序列的兩端都開始, step 為 -1，表示從右到左的反向遍歷\n"
   ]
  },
  {
   "cell_type": "markdown",
   "metadata": {},
   "source": [
    "# Python 306 迴圈階乘計算\n",
    "請使用迴圈敘述撰寫一程式，讓使用者輸入一個正整數n，利用迴圈計算並輸出n!的值。"
   ]
  },
  {
   "cell_type": "code",
   "execution_count": 1,
   "metadata": {},
   "outputs": [
    {
     "name": "stdout",
     "output_type": "stream",
     "text": [
      "Please input a number:\n",
      "5!= 120\n"
     ]
    }
   ],
   "source": [
    "import pyinputplus as pyip\n",
    "num:int=pyip.inputInt(\"Please input a number:\\n\",greaterThan=0)\n",
    "factorial=1\n",
    "for i in range(1,num+1,1):\n",
    "        factorial*=i\n",
    "print(f\"{num}!= {factorial}\")"
   ]
  },
  {
   "cell_type": "markdown",
   "metadata": {},
   "source": [
    "##### 程式I: 函數式編程(Functional Programming, FP)"
   ]
  },
  {
   "cell_type": "code",
   "execution_count": 2,
   "metadata": {},
   "outputs": [
    {
     "name": "stdout",
     "output_type": "stream",
     "text": [
      "Please input a number:\n",
      "5!= 120\n"
     ]
    }
   ],
   "source": [
    "import pyinputplus as pyip\n",
    "\n",
    "def compute(n:int):\n",
    "        factorial=1\n",
    "        for i in range(1,n+1):\n",
    "                factorial*=i\n",
    "        return factorial\n",
    "\n",
    "def main():\n",
    "        num:int=pyip.inputInt(\"Please input a number:\\n\",min=1)\n",
    "        try:\n",
    "            factorial=compute(num)\n",
    "            print(f\"{num}!= {factorial}\")\n",
    "        except Exception as e:\n",
    "               print(f\"An unexpected error has occurred: {e} \")\n",
    "\n",
    "if __name__==\"__main__\":\n",
    "        main()"
   ]
  },
  {
   "cell_type": "markdown",
   "metadata": {},
   "source": [
    "##### 程式II: 物件導向程式設計（Object-oriented programming，OOP)"
   ]
  },
  {
   "cell_type": "code",
   "execution_count": 1,
   "metadata": {},
   "outputs": [
    {
     "name": "stdout",
     "output_type": "stream",
     "text": [
      "要繼續計算階乘,請按'y'或按'q'離開:請輸入一個正整數 :\n",
      "5!= 120\n",
      "要繼續計算階乘,請按'y'或按'q'離開:程式結束!謝謝使用\n"
     ]
    }
   ],
   "source": [
    "import pyinputplus as pyip\n",
    "import math\n",
    "\n",
    "class FactorialCalculation:\n",
    "    def __init__(self,number:int) -> None:\n",
    "            self.number=number\n",
    "            self._factorial_calculation=None\n",
    "    @property\n",
    "    def factorial_calculation(self):\n",
    "        return self._factorial_calculation\n",
    "\n",
    "    def calculation_method(self) ->None:\n",
    "        self._factorial_calculation=math.factorial(self.number)\n",
    "        \n",
    "    def output_method(self) ->None:\n",
    "            print(f\"{self.number}!= {self._factorial_calculation}\")\n",
    "\n",
    "\n",
    "def input_function():\n",
    "    number=pyip.inputInt(\"請輸入一個正整數 :\\n\",min=1)\n",
    "    return number\n",
    "\n",
    "def main():\n",
    "    \n",
    "    while True:\n",
    "        try: \n",
    "            selection=pyip.inputYesNo(prompt=\"Python 306 迴圈階乘計算,繼續請按'y'或按'q'離開:\", yesVal=\"y\", noVal=\"q\")\n",
    "\n",
    "            if selection==\"y\":\n",
    "                  number=input_function()\n",
    "                  factorial_calculation=FactorialCalculation(number)\n",
    "                  factorial_calculation.calculation_method()\n",
    "                  factorial_calculation.output_method()\n",
    "            else:\n",
    "                print(\"程式結束!謝謝使用\")\n",
    "                break                      \n",
    "              \n",
    "        except Exception as e:\n",
    "                print(f\"發生一個無預期的錯誤:{e}\")\n",
    "                break\n",
    "\n",
    "if __name__ == \"__main__\":\n",
    "    main()       \n"
   ]
  },
  {
   "cell_type": "markdown",
   "metadata": {},
   "source": [
    "# Python 307 乘法表\n",
    "(1) 請使用迴圈敘述撰寫一程式，要求使用者輸入一個正整數n（n<10），顯示n*n乘法表。\\\n",
    "(2) 每項運算式需進行格式化排列整齊，每個運算子及運算元輸出的欄寬為2，而每項乘積輸出的欄寬為4，皆靠左對齊不跳行。"
   ]
  },
  {
   "cell_type": "code",
   "execution_count": 7,
   "metadata": {},
   "outputs": [
    {
     "name": "stdout",
     "output_type": "stream",
     "text": [
      "Please input a number:\n",
      "1x1=1\t1x2=2\t1x3=3\t1x4=4\t1x5=5\t1x6=6\t1x7=7\t1x8=8\t1x9=9\t\n",
      "2x1=2\t2x2=4\t2x3=6\t2x4=8\t2x5=10\t2x6=12\t2x7=14\t2x8=16\t2x9=18\t\n",
      "3x1=3\t3x2=6\t3x3=9\t3x4=12\t3x5=15\t3x6=18\t3x7=21\t3x8=24\t3x9=27\t\n",
      "4x1=4\t4x2=8\t4x3=12\t4x4=16\t4x5=20\t4x6=24\t4x7=28\t4x8=32\t4x9=36\t\n",
      "5x1=5\t5x2=10\t5x3=15\t5x4=20\t5x5=25\t5x6=30\t5x7=35\t5x8=40\t5x9=45\t\n",
      "6x1=6\t6x2=12\t6x3=18\t6x4=24\t6x5=30\t6x6=36\t6x7=42\t6x8=48\t6x9=54\t\n",
      "7x1=7\t7x2=14\t7x3=21\t7x4=28\t7x5=35\t7x6=42\t7x7=49\t7x8=56\t7x9=63\t\n",
      "8x1=8\t8x2=16\t8x3=24\t8x4=32\t8x5=40\t8x6=48\t8x7=56\t8x8=64\t8x9=72\t\n",
      "9x1=9\t9x2=18\t9x3=27\t9x4=36\t9x5=45\t9x6=54\t9x7=63\t9x8=72\t9x9=81\t\n"
     ]
    }
   ],
   "source": [
    "import pyinputplus as pyip\n",
    "num:int=pyip.inputInt(\"Please input a number:\\n\",lessThan=10)\n",
    "for i in range(1,num+1):\n",
    "    for j in range(1,num+1):\n",
    "        print(f\"{i}x{j}={i*j}\", end=\"\\t\")\n",
    "    print()"
   ]
  },
  {
   "cell_type": "markdown",
   "metadata": {},
   "source": [
    "##### 程式I: 函數式編程(Functional Programming, FP)"
   ]
  },
  {
   "cell_type": "code",
   "execution_count": 8,
   "metadata": {},
   "outputs": [
    {
     "name": "stdout",
     "output_type": "stream",
     "text": [
      "Please input a number:\n",
      "1x1=1\t1x2=2\t1x3=3\t1x4=4\t1x5=5\t1x6=6\t1x7=7\t1x8=8\t1x9=9\t\n",
      "2x1=2\t2x2=4\t2x3=6\t2x4=8\t2x5=10\t2x6=12\t2x7=14\t2x8=16\t2x9=18\t\n",
      "3x1=3\t3x2=6\t3x3=9\t3x4=12\t3x5=15\t3x6=18\t3x7=21\t3x8=24\t3x9=27\t\n",
      "4x1=4\t4x2=8\t4x3=12\t4x4=16\t4x5=20\t4x6=24\t4x7=28\t4x8=32\t4x9=36\t\n",
      "5x1=5\t5x2=10\t5x3=15\t5x4=20\t5x5=25\t5x6=30\t5x7=35\t5x8=40\t5x9=45\t\n",
      "6x1=6\t6x2=12\t6x3=18\t6x4=24\t6x5=30\t6x6=36\t6x7=42\t6x8=48\t6x9=54\t\n",
      "7x1=7\t7x2=14\t7x3=21\t7x4=28\t7x5=35\t7x6=42\t7x7=49\t7x8=56\t7x9=63\t\n",
      "8x1=8\t8x2=16\t8x3=24\t8x4=32\t8x5=40\t8x6=48\t8x7=56\t8x8=64\t8x9=72\t\n",
      "9x1=9\t9x2=18\t9x3=27\t9x4=36\t9x5=45\t9x6=54\t9x7=63\t9x8=72\t9x9=81\t\n"
     ]
    }
   ],
   "source": [
    "import pyinputplus as pyip\n",
    "\n",
    "def compute(n:int):\n",
    "    for i in range (1,n+1):\n",
    "        for j in range(1,n+1):\n",
    "                print(f\"{i}x{j}={i*j}\", end=\"\\t\")\n",
    "        print()\n",
    "\n",
    "def main():\n",
    "    num:int=pyip.inputInt(\"Please input a number:\\n\",min=1,max=10)\n",
    "    try: \n",
    "        compute(num)\n",
    "\n",
    "    except Exception as error:\n",
    "        print(f\"An unexpected error has occurred:{error}\")\n",
    "\n",
    "if __name__==\"__main__\":\n",
    "     main()"
   ]
  },
  {
   "cell_type": "markdown",
   "metadata": {},
   "source": [
    "##### 程式II: 物件導向程式設計（Object-oriented programming，OOP)"
   ]
  },
  {
   "cell_type": "code",
   "execution_count": 4,
   "metadata": {},
   "outputs": [
    {
     "name": "stdout",
     "output_type": "stream",
     "text": [
      "Python 307 乘法表,繼續請按'y'或按'q'離開:請輸入一個正整數:\n",
      "1x1=1\t1x2=2\t1x3=3\t1x4=4\t1x5=5\t1x6=6\t1x7=7\t1x8=8\t1x9=9\t\n",
      "2x1=2\t2x2=4\t2x3=6\t2x4=8\t2x5=10\t2x6=12\t2x7=14\t2x8=16\t2x9=18\t\n",
      "3x1=3\t3x2=6\t3x3=9\t3x4=12\t3x5=15\t3x6=18\t3x7=21\t3x8=24\t3x9=27\t\n",
      "4x1=4\t4x2=8\t4x3=12\t4x4=16\t4x5=20\t4x6=24\t4x7=28\t4x8=32\t4x9=36\t\n",
      "5x1=5\t5x2=10\t5x3=15\t5x4=20\t5x5=25\t5x6=30\t5x7=35\t5x8=40\t5x9=45\t\n",
      "6x1=6\t6x2=12\t6x3=18\t6x4=24\t6x5=30\t6x6=36\t6x7=42\t6x8=48\t6x9=54\t\n",
      "7x1=7\t7x2=14\t7x3=21\t7x4=28\t7x5=35\t7x6=42\t7x7=49\t7x8=56\t7x9=63\t\n",
      "8x1=8\t8x2=16\t8x3=24\t8x4=32\t8x5=40\t8x6=48\t8x7=56\t8x8=64\t8x9=72\t\n",
      "9x1=9\t9x2=18\t9x3=27\t9x4=36\t9x5=45\t9x6=54\t9x7=63\t9x8=72\t9x9=81\t\n"
     ]
    }
   ],
   "source": [
    "import pyinputplus as pyip\n",
    "\n",
    "class MultiplicationTable():\n",
    "    def __init__(self,n:int) -> None:\n",
    "        self.n=n\n",
    "     \n",
    "    def calculation_display_method(self):\n",
    "        for i in range (1,self.n+1):\n",
    "            for j in range(1,self.n+1):\n",
    "                print(f\"{i}x{j}={i*j}\", end=\"\\t\")\n",
    "            print()\n",
    "      \n",
    "def input_function():\n",
    "    n:int=pyip.inputInt(\"請輸入一個正整數:\\n\",min=1,max=10)\n",
    "    return n\n",
    "\n",
    "def main():\n",
    "    \n",
    "        try: \n",
    "            selection=pyip.inputYesNo(prompt=\"Python 307 乘法表,繼續請按'y'或按'q'離開:\", yesVal=\"y\", noVal=\"q\")\n",
    "\n",
    "            if selection==\"y\":\n",
    "                  n=input_function()\n",
    "                  products_two_factors=MultiplicationTable(n)\n",
    "                  products_two_factors.calculation_display_method()\n",
    "\n",
    "            else:\n",
    "                print(\"程式結束!謝謝使用\")\n",
    "                return                      \n",
    "              \n",
    "        except pyip.RetryLimitException:\n",
    "                print(\"輸入錯誤次數過多，請重新啟動程式。\")\n",
    "                return\n",
    "        except Exception as e:\n",
    "                print(f\"發生一個無預期的錯誤:{e}\")\n",
    "                return\n",
    "\n",
    "if __name__ == \"__main__\":\n",
    "    main()       "
   ]
  },
  {
   "cell_type": "markdown",
   "metadata": {},
   "source": [
    "# Python 308 迴圈位數加總\n",
    "請使用迴圈敘述撰寫一程式，要求使用者輸入一個數字，此數字代表後面測試資料的數量。每一筆測試資料是一個正整數（由使用者輸入），將此正整數的每位數全部加總起來。"
   ]
  },
  {
   "cell_type": "markdown",
   "metadata": {},
   "source": [
    "##### 程式I-1: 函數式編程(Functional Programming, FP)\n",
    "\n",
    "[Hint] Total=0 在for迴圈之內, 每次會被reset 重新計算\\\n",
    "[Result_Display]\\\n",
    "請輸入第1個數字: 12345\\\n",
    "輸入的正整數, 每位數全部加總起來為:15\\\n",
    "請輸入第2個數字: 6789\\\n",
    "輸入的正整數, 每位數全部加總起來為:30"
   ]
  },
  {
   "cell_type": "code",
   "execution_count": 10,
   "metadata": {},
   "outputs": [
    {
     "name": "stdout",
     "output_type": "stream",
     "text": [
      "迴圈位數加總計算,繼續使用請按[y], 離開程式請按[n]: \n",
      "請問要計算幾次?\n",
      "請輸入第1個數字: \n",
      "輸入的正整數, 每位數全部加總起來為:15\n",
      "請輸入第2個數字: \n",
      "輸入的正整數, 每位數全部加總起來為:30\n",
      "迴圈位數加總計算,繼續使用請按[y], 離開程式請按[n]: \n",
      "程式結束!謝謝使用\n"
     ]
    }
   ],
   "source": [
    "import pyinputplus as pyip\n",
    "\n",
    "def compute():\n",
    "        num_t:int=pyip.inputInt(\"請問要計算幾次?\\n\",min=1)\n",
    "        \n",
    "        for i in range (num_t):\n",
    "            numbers: int = pyip.inputInt(f\"請輸入第{i+1}個數字: \\n\",min=0)\n",
    "            total=0\n",
    "            num_digit:int= len( str(numbers) ) \n",
    "            for j in range( num_digit ):\n",
    "                j_digit=int( str(numbers)[j] )\n",
    "                total+= j_digit\n",
    "            print(f\"輸入的正整數, 每位數全部加總起來為:{total}\")\n",
    "        \n",
    "            \n",
    "def main():\n",
    "      \n",
    "    while True:\n",
    "        try:\n",
    "            selection:str=pyip.inputYesNo( prompt=\"迴圈位數加總計算,繼續使用請按[y], 離開程式請按[n]: \\n\", yesVal=\"y\",noVal=\"n\" )\n",
    "            if selection==\"y\":\n",
    "                total=compute()\n",
    "                            \n",
    "            else:\n",
    "                print(\"程式結束!謝謝使用\")\n",
    "                break\n",
    "\n",
    "        except ValueError as e:\n",
    "            print(f\"輸入錯誤: {e}\")\n",
    "        except Exception as e:\n",
    "            print(f\"發生無法預期的錯誤: {e}\")\n",
    "\n",
    "if __name__==\"__main__\":\n",
    "    main()\n"
   ]
  },
  {
   "cell_type": "markdown",
   "metadata": {},
   "source": [
    "##### 程式I-2: 函數式編程(Functional Programming, FP)\n",
    "\n",
    "[Hint] Total=0 在for迴圈之外, 這樣可以在每次輸入後持續累加, 而不會在每次計算後重置\\\n",
    "[Result_Display]\\\n",
    "請輸入第1個數字: 12345\\\n",
    "請輸入第2個數字: 6789\\\n",
    "輸入的正整數, 每位數全部加總起來為:45"
   ]
  },
  {
   "cell_type": "code",
   "execution_count": 12,
   "metadata": {},
   "outputs": [
    {
     "name": "stdout",
     "output_type": "stream",
     "text": [
      "迴圈位數加總計算,繼續使用請按[y], 離開程式請按[n]: \n",
      "請問要計算幾次?\n",
      "請輸入第1個數字: \n",
      "請輸入第2個數字: \n",
      "輸入的正整數, 每位數全部加總起來為:45\n",
      "迴圈位數加總計算,繼續使用請按[y], 離開程式請按[n]: \n",
      "程式結束!謝謝使用\n"
     ]
    }
   ],
   "source": [
    "import pyinputplus as pyip\n",
    "\n",
    "def compute():\n",
    "        num_t:int=pyip.inputInt(\"請問要計算幾次?\\n\",min=1)\n",
    "        total=0\n",
    "        for i in range (num_t):\n",
    "            numbers: int = pyip.inputInt(f\"請輸入第{i+1}個數字: \\n\",min=0)\n",
    "\n",
    "            num_digit:int= len( str(numbers) ) \n",
    "            for j in range( num_digit ):\n",
    "                j_digit=int( str(numbers)[j] )\n",
    "                total+= j_digit\n",
    "        print(f\"輸入的正整數, 每位數全部加總起來為:{total}\")\n",
    "            \n",
    "def main():\n",
    "      \n",
    "    while True:\n",
    "        try:\n",
    "            selection:str=pyip.inputYesNo( prompt=\"迴圈位數加總計算,繼續使用請按[y], 離開程式請按[n]: \\n\", yesVal=\"y\",noVal=\"n\" )\n",
    "            if selection==\"y\":\n",
    "                total=compute()\n",
    "                            \n",
    "            else:\n",
    "                print(\"程式結束!謝謝使用\")\n",
    "                break\n",
    "\n",
    "        except ValueError as e:\n",
    "            print(f\"輸入錯誤: {e}\")\n",
    "        except Exception as e:\n",
    "            print(f\"發生無法預期的錯誤: {e}\")\n",
    "\n",
    "if __name__==\"__main__\":\n",
    "    main()\n"
   ]
  },
  {
   "cell_type": "markdown",
   "metadata": {},
   "source": [
    "### [Key Note]:\n",
    "\n",
    "1. 已知 \"numbers:str\" 所以 numbers 式字串 則用 numbers[j] 的方法:\\\n",
    "    (A). numbers 是用戶輸入的一個字符串，這個字符串代表了一個數字。例如，如果用戶輸入 \"123\", 那麼 numbers 就是 \"123\"。\\\n",
    "    (B). numbers[j] 會取出這個字符串中的第 j 個字符。例如，當 j=0 時，numbers[j] 是 '1'；當 j=1 時，numbers[j] 是 '2'。\n",
    "\n",
    "2. int(numbers[j]):\n",
    "    (A). int() 函數將字符轉換為整數。例如，int('1') 會轉換為數字 1。\n",
    "\n",
    "3. total += int(numbers[j]):\n",
    "\n",
    "    (A). total 是用來儲存數字各位數字之和的變數。\n",
    "    (B). total += int(numbers[j]) 會將 total 的當前值加上 int(numbers[j])，即將字符轉換為整數後加到總和中。\n",
    "\n",
    "例子\n",
    "假設用戶輸入的數字是 \"456\"：\n",
    "\n",
    "numbers 變量會被賦值為 \"456\"。\\\n",
    "程式會遍歷這個字符串的每個字符：\\\n",
    "當 j=0 時，numbers[j] 是 '4'，所以 int(numbers[j]) 是 4。此時 total 的值會加上 4。\\\n",
    "當 j=1 時，numbers[j] 是 '5'，所以 int(numbers[j]) 是 5。此時 total 的值會再加上 5。\\\n",
    "當 j=2 時，numbers[j] 是 '6'，所以 int(numbers[j]) 是 6。此時 total 的值會再加上 6。\\\n",
    "最後，total 的值就是 4 + 5 + 6 = 15。"
   ]
  },
  {
   "cell_type": "markdown",
   "metadata": {},
   "source": [
    "##### 程式II-1: 物件導向程式設計（Object-oriented programming，OOP)\n",
    "[Display_Result]\\\n",
    "請輸入第1個數字: 12345\\\n",
    "輸入的所有正整數, 每位數全部加總起來為:15\\\n",
    "請輸入第2個數字: 6789\\\n",
    "輸入的所有正整數, 每位數全部加總起來為:30\n"
   ]
  },
  {
   "cell_type": "code",
   "execution_count": 17,
   "metadata": {},
   "outputs": [
    {
     "name": "stdout",
     "output_type": "stream",
     "text": [
      "迴圈位數加總計算,繼續使用請按'y', 離開程式請按'q': \n",
      "請問要計算幾次?\n",
      "請輸入第1個數字: \n",
      "輸入的所有正整數, 每位數全部加總起來為:15\n",
      "請輸入第2個數字: \n",
      "輸入的所有正整數, 每位數全部加總起來為:30\n",
      "迴圈位數加總計算,繼續使用請按'y', 離開程式請按'q': \n",
      "程式結束!謝謝使用\n"
     ]
    }
   ],
   "source": [
    "import pyinputplus as pyip\n",
    "\n",
    "class SumOfLoopDigits:\n",
    "    def __init__(self) -> None:\n",
    "        self.count:int=0\n",
    "        self.total:int=0\n",
    "\n",
    "    def input_method(self) ->None:\n",
    "        self.count=pyip.inputInt(\"請問要計算幾次?\\n\",min=1)        \n",
    "\n",
    "    def calculation_method(self) ->None:\n",
    "          \n",
    "        for i in range (self.count):\n",
    "            self.total=0\n",
    "            character = pyip.inputStr(f\"請輸入第{i+1}個數字: \\n\")\n",
    "            digit_character=len(character)\n",
    "            for j in range (digit_character):\n",
    "                number=int(character[j])\n",
    "                self.total+=number\n",
    "            print(f\"輸入的所有正整數, 每位數全部加總起來為:{self.total}\")\n",
    "           \n",
    "\n",
    "def main():\n",
    "    sum_digits=SumOfLoopDigits()  \n",
    "    while True:\n",
    "        try:\n",
    "            selection:str=pyip.inputYesNo( prompt=\"Python 308 迴圈位數加總,繼續使用請按'y', 離開程式請按'q': \\n\", yesVal=\"y\",noVal=\"q\" )\n",
    "\n",
    "            if selection==\"y\":\n",
    "               sum_digits.input_method()\n",
    "               sum_digits.calculation_method()\n",
    "\n",
    "            else:\n",
    "                print(\"程式結束!謝謝使用\")\n",
    "                break\n",
    "\n",
    "        except ValueError as e:\n",
    "            print(f\"輸入錯誤: {e}\")\n",
    "            break\n",
    "        except Exception as e:\n",
    "            print(f\"發生無法預期的錯誤: {e}\")\n",
    "            break\n",
    "\n",
    "if __name__==\"__main__\":\n",
    "    main()\n",
    "\n"
   ]
  },
  {
   "cell_type": "markdown",
   "metadata": {},
   "source": [
    "##### 程式II-2: 物件導向程式設計（Object-oriented programming，OOP)\n",
    "[Result_Display]\\\n",
    "請輸入第1個數字: 12345\\\n",
    "請輸入第2個數字: 6789\\\n",
    "輸入的正整數, 每位數全部加總起來為:45"
   ]
  },
  {
   "cell_type": "code",
   "execution_count": 2,
   "metadata": {},
   "outputs": [
    {
     "name": "stdout",
     "output_type": "stream",
     "text": [
      "Python 308 迴圈位數加總,繼續使用請按'y', 離開程式請按'q': \n",
      "請問要計算幾次?\n",
      "請輸入第1個數字: \n",
      "請輸入第2個數字: \n",
      "輸入的所有正整數, 每位數全部加總起來為:45\n",
      "Python 308 迴圈位數加總,繼續使用請按'y', 離開程式請按'q': \n",
      "程式結束!謝謝使用\n"
     ]
    }
   ],
   "source": [
    "import pyinputplus as pyip\n",
    "\n",
    "class SumOfLoopDigits:\n",
    "    def __init__(self,n:int) -> None:\n",
    "        self.n=n\n",
    "        self._total=0\n",
    "        \n",
    "    @property\n",
    "    def total(self):\n",
    "        return self._total\n",
    "\n",
    "    def calculation_method(self) ->None:\n",
    "         \n",
    "        for i in range (self.n):\n",
    "            character = pyip.inputStr(f\"請輸入第{i+1}個數字: \\n\")\n",
    "            digit_character=len(character)\n",
    "            for j in range (digit_character):\n",
    "                number=int(character[j])\n",
    "                self._total+=number\n",
    "    \n",
    "    def display_method(self):\n",
    "        print(f\"輸入的所有正整數, 每位數全部加總起來為:{self._total}\")\n",
    "\n",
    "def input_function():\n",
    "    n=pyip.inputInt(\"請問要計算幾次?\\n\",min=1)\n",
    "    return n       \n",
    "         \n",
    "def main():\n",
    "\n",
    "    while True:\n",
    "        try:\n",
    "            selection:str=pyip.inputYesNo( prompt=\"Python 308 迴圈位數加總,繼續使用請按'y', 離開程式請按'q': \\n\", yesVal=\"y\",noVal=\"q\" )\n",
    "\n",
    "            if selection==\"y\":\n",
    "                n=input_function()\n",
    "                sum_digits=SumOfLoopDigits(n)  \n",
    "                sum_digits.calculation_method()\n",
    "                sum_digits.display_method()\n",
    "\n",
    "            else:\n",
    "                print(\"程式結束!謝謝使用\")\n",
    "                break\n",
    "\n",
    "        except ValueError as e:\n",
    "            print(f\"輸入錯誤: {e}\")\n",
    "            break\n",
    "        except Exception as e:\n",
    "            print(f\"發生無法預期的錯誤: {e}\")\n",
    "            break\n",
    "\n",
    "if __name__==\"__main__\":\n",
    "    main()\n",
    "\n"
   ]
  },
  {
   "cell_type": "markdown",
   "metadata": {},
   "source": [
    "##### 程式II-3: 物件導向程式設計（Object-oriented programming，OOP)\n",
    "[Result_Display]\\\n",
    "輸入的正整數是 12345, 每位數全部加總起來為: 15\\\n",
    "輸入的正整數是 6789, 每位數全部加總起來為: 30"
   ]
  },
  {
   "cell_type": "code",
   "execution_count": 4,
   "metadata": {},
   "outputs": [
    {
     "name": "stdout",
     "output_type": "stream",
     "text": [
      "迴圈位數加總計算,繼續使用請按'y', 離開程式請按'q': \n",
      "請問要計算幾次?\n",
      "請輸入第1個數字:\n",
      "請輸入第2個數字:\n",
      "輸入的正整數是 12345, 每位數全部加總起來為: 15\n",
      "輸入的正整數是 6789, 每位數全部加總起來為: 30\n",
      "迴圈位數加總計算,繼續使用請按'y', 離開程式請按'q': \n",
      "程式結束!謝謝使用\n"
     ]
    }
   ],
   "source": [
    "import pyinputplus as pyip\n",
    "\n",
    "class SumOfLoopDigits:\n",
    "    def __init__(self) -> None:\n",
    "        self.count:int=0\n",
    "        self.total:int=0\n",
    "        self.characters:list[str]=[]\n",
    "        self.totals:list[int]=[]\n",
    "\n",
    "    def input_method(self) ->None:\n",
    "        self.count=pyip.inputInt(\"請問要計算幾次?\\n\",min=1)\n",
    "        self.characters=[pyip.inputStr(f\"請輸入第{i+1}個數字:\\n\") for i in range(self.count)]\n",
    "\n",
    "    def calculation_method(self) -> None:\n",
    "        self.totals = []\n",
    "        total = 0\n",
    "        for character in self.characters:\n",
    "            if character.isdigit():\n",
    "                total= sum( int(digits) for digits in character ) \n",
    "                self.totals.append(total)\n",
    "            else:\n",
    "                print(f\"無效輸入: {character} (必須是數字)\")\n",
    "\n",
    "    def display_method(self) ->None:\n",
    "        for i in range (len(self.totals)):\n",
    "            print(f\"輸入的正整數是 {self.characters[i]}, 每位數全部加總起來為: {self.totals[i]}\")\n",
    "           \n",
    "\n",
    "def main():\n",
    "    sum_digits=SumOfLoopDigits()  \n",
    "    while True:\n",
    "        try:\n",
    "            selection:str=pyip.inputYesNo( prompt=\"迴圈位數加總計算,繼續使用請按'y', 離開程式請按'q': \\n\", yesVal=\"y\",noVal=\"q\" )\n",
    "\n",
    "            if selection==\"y\":\n",
    "               sum_digits.input_method()\n",
    "               sum_digits.calculation_method()\n",
    "               sum_digits.display_method()\n",
    "\n",
    "            else:\n",
    "                print(\"程式結束!謝謝使用\")\n",
    "                break\n",
    "\n",
    "        except Exception as e:\n",
    "            print(f\"發生無法預期的錯誤: {e}\")\n",
    "            break\n",
    "\n",
    "if __name__==\"__main__\":\n",
    "    main()"
   ]
  },
  {
   "cell_type": "markdown",
   "metadata": {},
   "source": [
    "##### 程式II-4: 物件導向程式設計（Object-oriented programming，OOP)\n",
    "[Result_Display]\\\n",
    "輸入的正整數是 12345, 每位數全部加總起來為: 15\\\n",
    "輸入的正整數是 6789, 每位數全部加總起來為: 30"
   ]
  },
  {
   "cell_type": "code",
   "execution_count": 1,
   "metadata": {},
   "outputs": [
    {
     "name": "stdout",
     "output_type": "stream",
     "text": [
      "迴圈位數加總計算,繼續使用請按'y', 離開程式請按'q': \n",
      "請問要計算幾次?\n",
      "請輸入第1個數字:\n",
      "請輸入第2個數字:\n",
      "輸入的正整數是 12345, 每位數全部加總起來為: 15\n",
      "輸入的正整數是 6789, 每位數全部加總起來為: 30\n",
      "迴圈位數加總計算,繼續使用請按'y', 離開程式請按'q': \n",
      "程式結束!謝謝使用\n"
     ]
    }
   ],
   "source": [
    "import pyinputplus as pyip\n",
    "\n",
    "class SumOfLoopDigits:\n",
    "    def __init__(self,numbers:list[int]) -> None:\n",
    "        self.number=numbers\n",
    "        self._total=[]\n",
    "  \n",
    "    @property    \n",
    "    def total(self):\n",
    "        return self._total\n",
    "\n",
    "    def calculation_method(self) ->None:\n",
    "        \n",
    "        for i in self.number:\n",
    "            count=sum(int(digits) for digits in str(i) )\n",
    "            self._total.append(count)\n",
    "\n",
    "    def display_method(self) ->None:\n",
    "        for i in range (len(self._total)):\n",
    "            print(f\"輸入的正整數是 {self.number[i]}, 每位數全部加總起來為: {self._total[i]}\")\n",
    "\n",
    "def input_function():\n",
    "    numbers=[]\n",
    "    count=pyip.inputInt(\"請問要計算幾次?\\n\",min=1)\n",
    "    numbers=[pyip.inputInt(f\"請輸入第{i+1}個數字:\\n\",min=1) for i in range(count)]\n",
    "    return numbers\n",
    "           \n",
    "\n",
    "def main():\n",
    "    \n",
    "    while True:\n",
    "        try:\n",
    "            selection:str=pyip.inputYesNo( prompt=\"迴圈位數加總計算,繼續使用請按'y', 離開程式請按'q': \\n\", yesVal=\"y\",noVal=\"q\" )\n",
    "\n",
    "            if selection==\"y\":\n",
    "               numbers=input_function()\n",
    "               sum_digits=SumOfLoopDigits(numbers)  \n",
    "               sum_digits.calculation_method()\n",
    "               sum_digits.display_method()\n",
    "\n",
    "            else:\n",
    "                print(\"程式結束!謝謝使用\")\n",
    "                break\n",
    "\n",
    "        except Exception as e:\n",
    "            print(f\"發生無法預期的錯誤: {e}\")\n",
    "            break\n",
    "\n",
    "if __name__==\"__main__\":\n",
    "    main()\n",
    "\n"
   ]
  },
  {
   "cell_type": "markdown",
   "metadata": {},
   "source": [
    "### [Key Note]:\n",
    "\n",
    "    def input_method(self)\n",
    "        self.characters=[pyip.inputStr(f\"請輸入第{i+1}個數字:\") for i in range(self.count)]\n",
    "\n",
    "問題描述：\\\n",
    "在 calculation_method 中，character 是使用者\"輸入的字串\"，直接對其進行 int() 轉換的操作會在非數字字串（如含有字母或符號）時拋出 ValueError。\\\n",
    "###\n",
    "    total= sum( int(digits) for digits in character )\n",
    "\n",
    "所以\\\n",
    "(1) 在輸入階段或計算階段增加對 character 的檢查，確保 character 僅包含數字字元，可以使用 .isdigit() 方法進行檢查。\\\n",
    "###\n",
    "    if character.isdigit():\n",
    "\n",
    "(2) 程式II-4, \n",
    "###\n",
    "    def input_method(self) ->None:\n",
    "        self.numbers=[pyip.inputNum(f\"請輸入第{i+1}個數字:\\n\") for i in range(self.count)]\n",
    "在 calculation_method 中，number 是使用者\"輸入整數\"\n",
    "###\n",
    "    total= sum( int(digits) for digits in str(number) )"
   ]
  },
  {
   "cell_type": "markdown",
   "metadata": {},
   "source": [
    "### [Key Note] \n",
    "For digits in character\\\n",
    "For digits in str(number)\\\n",
    " \"strings are iterable.\" 這意味著字符串(string)可以被逐個字符地遍歷(traversed) \n",
    "\n",
    "1. 整數的可迭代性：\n",
    "在 Python 中，整數（int）不是可迭代的對象。這意味著我們不能直接對整數進行迭代\n",
    "\n",
    "2. 字符串的可迭代性：\n",
    "相對地，字符串（str）是可迭代的。當我們迭代一個字符串時，我們得到的是每個單獨的字符\n",
    "\n",
    "\n",
    "\n",
    "\n"
   ]
  },
  {
   "cell_type": "markdown",
   "metadata": {},
   "source": [
    "# Python 309 存款總額\n",
    "請使用迴圈敘述撰寫一程式，提示使用者輸入金額（如10,000）、年收益率（如5.75），以及經過的月份數（如5），接著顯示每個月的存款總額。\\\n",
    "提示：四捨五入，輸出浮點數到小數點後第二位。\\\n",
    "舉例：\\\n",
    "假設您存款$10,000，年收益為5.75%。\\\n",
    "過了一個月，存款會是：10000 + 10000 * 5.75 / 1200 = 10047.92\\\n",
    "過了兩個月，存款會是：10047.92 + 10047.92 * 5.75 / 1200 = 10096.06\\\n",
    "過了三個月，存款將是：10096.06 + 10096.06 * 5.75 / 1200 = 10144.44\n",
    "以此類推。"
   ]
  },
  {
   "cell_type": "markdown",
   "metadata": {},
   "source": [
    "複利公式計算總金額: A = P * (1 + r/n)^(n*t)\n",
    "其中 A 是最終金額, P 是本金, r 是年利率, n 是每年複利次數 (這裡是 12), t 是年數 (這裡用月數除以 12)。"
   ]
  },
  {
   "cell_type": "code",
   "execution_count": 1,
   "metadata": {},
   "outputs": [
    {
     "name": "stdout",
     "output_type": "stream",
     "text": [
      "Please input a deposit amount:\n",
      "Please input the annual interest:\n",
      "How many months will be deposited:\n",
      "存款10000元,年利率5.75%,存3個月, 本金加利息為10144.44\n"
     ]
    }
   ],
   "source": [
    "import pyinputplus as pyip\n",
    "amount:int=pyip.inputInt(\"Please input a deposit amount:\\n\",greaterThan=0)\n",
    "interest:float=pyip.inputFloat(\"Please input the annual interest:\\n\",greaterThan=0)\n",
    "month:int=pyip.inputInt(\"How many months will be deposited:\\n\",greaterThan=0)\n",
    "total=amount\n",
    "for i in range (month):\n",
    "    total+=total*(interest/1200)\n",
    "print(f\"存款{amount}元,年利率{interest}%,存{month}個月, 本金加利息為{round(total,ndigits=2)}\")"
   ]
  },
  {
   "cell_type": "markdown",
   "metadata": {},
   "source": [
    "##### 程式I: 函數式編程(Functional Programming, FP)"
   ]
  },
  {
   "cell_type": "code",
   "execution_count": 5,
   "metadata": {},
   "outputs": [
    {
     "name": "stdout",
     "output_type": "stream",
     "text": [
      "請輸入存款金額:\n",
      "請輸入年利率 (%):\n",
      "定存幾個月?\n",
      "存款10000元,年利率5.75%,存2個月, 本金加利息為10096.06\n"
     ]
    }
   ],
   "source": [
    "import pyinputplus as pyip\n",
    "\n",
    "def compute(amount,interest,month):\n",
    "    for i in range (month):\n",
    "        amount+=amount*(interest/1200)\n",
    "    return amount\n",
    "\n",
    "def main():\n",
    "    try:       \n",
    "        money:int=pyip.inputInt(\"請輸入存款金額:\\n\",min=1)\n",
    "        interest:float=pyip.inputFloat(\"請輸入年利率 (%):\\n\",min=0)\n",
    "        month:int=pyip.inputInt(\"定存幾個月?\\n\",min=1)\n",
    "        total=compute(money,interest,month)\n",
    "        print(f\"存款{money}元,年利率{interest}%,存{month}個月, 本金加利息為{round(total,ndigits=2)}\")    \n",
    "    except pyip.RetryLimitException:\n",
    "        print(\"輸入錯誤次數過多，請重新啟動程式。\")\n",
    "    except ValueError as e:\n",
    "        print(f\"輸入錯誤: {e}\")\n",
    "    except Exception as e:\n",
    "        print(f\"發生無法預期的錯誤: {e}\")\n",
    "\n",
    "if __name__==\"__main__\":\n",
    "    main()\n",
    "\n"
   ]
  },
  {
   "cell_type": "markdown",
   "metadata": {},
   "source": [
    "##### 程式II: 物件導向程式設計（Object-oriented programming，OOP)"
   ]
  },
  {
   "cell_type": "code",
   "execution_count": 1,
   "metadata": {},
   "outputs": [
    {
     "name": "stdout",
     "output_type": "stream",
     "text": [
      "存款本金和利息的計算,繼續使用請按'y', 離開程式請按'q': \n",
      "請輸入存款金額:\n",
      "請輸入年利率 (%):\n",
      "定存幾個月?\n",
      "存款10000元,年利率5.75%,存2個月, 本金加利息為10096.06\n",
      "存款本金和利息的計算,繼續使用請按'y', 離開程式請按'q': \n",
      "程式結束!謝謝使用\n"
     ]
    }
   ],
   "source": [
    "import pyinputplus as pyip\n",
    "\n",
    "class TotalDeposit:\n",
    "    def __init__(self,money:int,interest:float,month:int) -> None:\n",
    "        self.money=money\n",
    "        self.interest=interest\n",
    "        self.month=month\n",
    "        self._amount=0\n",
    "    @property\n",
    "    def amount(self):\n",
    "        return self._amount\n",
    "       \n",
    "    def calculation_method(self) -> None:\n",
    "        \n",
    "        monthly_rate = self.interest / 1200\n",
    "        self._amount = self.money * (1 + monthly_rate) ** self.month\n",
    "\n",
    "    def output_method(self) -> None:\n",
    "        print(f\"存款{self.money}元,年利率{self.interest}%,存{self.month}個月, 本金加利息為{round(self._amount,ndigits=2)}\") \n",
    "\n",
    "def input_function():\n",
    "    money=pyip.inputInt(\"請輸入存款金額:\\n\",min=1)\n",
    "    interest=pyip.inputFloat(\"請輸入年利率 (%):\\n\",min=0)\n",
    "    month=pyip.inputInt(\"定存幾個月?\\n\",min=1)\n",
    "    return money,interest,month\n",
    "\n",
    "\n",
    "def main():\n",
    "       \n",
    "    while True:\n",
    "        try:\n",
    "            selection:str=pyip.inputYesNo( prompt=\"Python 309 存款總額,繼續使用請按'y', 離開程式請按'q': \\n\", yesVal=\"y\",noVal=\"q\" )\n",
    "\n",
    "            if selection==\"y\":\n",
    "                money,interest,month=input_function()\n",
    "                deposit=TotalDeposit(money,interest,month)    \n",
    "                deposit.calculation_method()\n",
    "                deposit.output_method()\n",
    "            \n",
    "            else: \n",
    "                print(\"程式結束!謝謝使用\")\n",
    "                break\n",
    "\n",
    "        except Exception as e:\n",
    "                print(f\"發生無法預期的錯誤: {e}\")\n",
    "\n",
    "if __name__==\"__main__\":\n",
    "    main()\n",
    "\n"
   ]
  },
  {
   "attachments": {
    "image-2.png": {
     "image/png": "[encoded data removed]"
    },
    "image-3.png": {
     "image/png": "[encoded data removed]"
    },
    "image.png": {
     "image/png": "[encoded data removed]"
    }
   },
   "cell_type": "markdown",
   "metadata": {},
   "source": [
    "# Python 310 迴圈公式計算\n",
    "請使用迴圈敘述撰寫一程式，讓使用者輸入正整數n (1 < n)，計算以下公式的總和並顯示結果：\n",
    "提示：輸出結果至小數點後四位。\n",
    "\n",
    " ![image.png](attachment:image.png)\n",
    "\n",
    "for i in range(n)  ![image-3.png](attachment:image-3.png)"
   ]
  },
  {
   "cell_type": "code",
   "execution_count": 5,
   "metadata": {},
   "outputs": [
    {
     "name": "stdout",
     "output_type": "stream",
     "text": [
      "Please input a number:\n",
      "the total result is 0.4142\n"
     ]
    }
   ],
   "source": [
    "import pyinputplus as pyip\n",
    "num:int=pyip.inputInt(\"Please input a number:\\n\",greaterThan=1)\n",
    "total=0\n",
    "for i in range (2,num+1):\n",
    "    total+=1/(((i-1)**0.5)+(i)**0.5)\n",
    "print(f\"the total result is {round(total,ndigits=4)}\")\n"
   ]
  },
  {
   "cell_type": "code",
   "execution_count": 4,
   "metadata": {},
   "outputs": [
    {
     "name": "stdout",
     "output_type": "stream",
     "text": [
      "Please input a number:\n",
      "the total result is 0.4142\n"
     ]
    }
   ],
   "source": [
    "import pyinputplus as pyip\n",
    "import math\n",
    "num:int=pyip.inputInt(\"Please input a number:\\n\",greaterThan=1)\n",
    "total=0\n",
    "for i in range (1,num):\n",
    "    total+=1/(math.sqrt(i)+math.sqrt(i+1)               )\n",
    "print(f\"the total result is {round(total,ndigits=4)}\")"
   ]
  },
  {
   "cell_type": "markdown",
   "metadata": {},
   "source": [
    "##### 程式I: 函數式編程(Functional Programming, FP)"
   ]
  },
  {
   "cell_type": "code",
   "execution_count": 3,
   "metadata": {},
   "outputs": [
    {
     "name": "stdout",
     "output_type": "stream",
     "text": [
      "Please input a bumber:\n",
      "the calculation result is 0.4142\n"
     ]
    }
   ],
   "source": [
    "import pyinputplus as pyip\n",
    "import math\n",
    "\n",
    "def compute(num):\n",
    "    total=0\n",
    "    for i in range (1,num):\n",
    "        total+=1/(math.sqrt(i)+math.sqrt(i+1))\n",
    "    return total\n",
    "\n",
    "def main():\n",
    "    try: \n",
    "        digits:int=pyip.inputInt(\"Please input a bumber:\\n\",min=1)\n",
    "        total=compute(digits)\n",
    "        print(f\"the calculation result is {round(total,ndigits=4)}\")\n",
    "\n",
    "    except pyip.RetryLimitException:\n",
    "        print(\"輸入錯誤次數過多，請重新啟動程式。\")\n",
    "    except ValueError as e:\n",
    "        print(f\"輸入錯誤: {e}\")\n",
    "    except Exception as e:\n",
    "        print(f\"發生無法預期的錯誤: {e}\")\n",
    "\n",
    "if __name__==\"__main__\":\n",
    "    main()\n",
    "\n"
   ]
  },
  {
   "cell_type": "markdown",
   "metadata": {},
   "source": [
    "##### 程式II: 物件導向程式設計（Object-oriented programming，OOP)"
   ]
  },
  {
   "cell_type": "code",
   "execution_count": 2,
   "metadata": {},
   "outputs": [
    {
     "name": "stdout",
     "output_type": "stream",
     "text": [
      "請輸入一個正整數:\n",
      "the calculation result is 0.4142\n"
     ]
    }
   ],
   "source": [
    "import pyinputplus as pyip\n",
    "import math\n",
    "\n",
    "class InfiniteSeries:\n",
    "\n",
    "    def __init__(self,number:int) -> None:\n",
    "        self.number=number\n",
    "        self._total=0\n",
    "    @property\n",
    "    def total(self):\n",
    "        return self._total\n",
    "\n",
    "    def calculation_method(self) -> None:\n",
    "        self._total=sum( 1/(math.sqrt(i)+math.sqrt(i+1)) for i in range (1,self.number))\n",
    "    \n",
    "    def output_method(self) -> None:\n",
    "        print(f\"計算結果是{round(self._total,ndigits=4)}\")\n",
    "\n",
    "def input_function():\n",
    "    number=pyip.inputInt(\"請輸入一個正整數:\\n\",greaterThan=1)\n",
    "    return number\n",
    "\n",
    "def main():      \n",
    "    \n",
    "    try:\n",
    "        selection:str=pyip.inputYesNo( prompt=\"Python 310 迴圈公式計算,繼續使用請按'y', 離開程式請按'q': \\n\", yesVal=\"y\",noVal=\"q\" )\n",
    "\n",
    "        if selection==\"y\":\n",
    "            number=input_function()\n",
    "            calculation=InfiniteSeries(number)\n",
    "            calculation.calculation_method()\n",
    "            calculation.output_method()\n",
    "        else:\n",
    "            print(\"程式結束!謝謝使用\")\n",
    "            return   \n",
    "            \n",
    "\n",
    "    except pyip.RetryLimitException:\n",
    "        print(\"輸入錯誤次數過多，請重新啟動程式。\")\n",
    "        return\n",
    "    except ValueError as e:\n",
    "        print(f\"輸入錯誤: {e}\")\n",
    "        return\n",
    "    except Exception as e:\n",
    "        print(f\"發生無法預期的錯誤: {e}\")\n",
    "        return\n",
    "\n",
    "if __name__==\"__main__\":\n",
    "    main()\n",
    "\n"
   ]
  }
 ],
 "metadata": {
  "kernelspec": {
   "display_name": ".venv",
   "language": "python",
   "name": "python3"
  },
  "language_info": {
   "codemirror_mode": {
    "name": "ipython",
    "version": 3
   },
   "file_extension": ".py",
   "mimetype": "text/x-python",
   "name": "python",
   "nbconvert_exporter": "python",
   "pygments_lexer": "ipython3",
   "version": "3.12.3"
  }
 },
 "nbformat": 4,
 "nbformat_minor": 2
}
