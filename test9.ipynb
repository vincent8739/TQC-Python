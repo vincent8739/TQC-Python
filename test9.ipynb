{
 "cells": [
  {
   "cell_type": "markdown",
   "metadata": {},
   "source": [
    "# 901 成績資料\n",
    "請撰寫一程式，將使用者輸入的五筆資料寫入到write.txt（若不存在，則讓程式建立它），每一筆資料為一行，包含學生名字和期末總分，以空白隔開。檔案寫入完成後要關閉。"
   ]
  },
  {
   "cell_type": "code",
   "execution_count": null,
   "metadata": {},
   "outputs": [
    {
     "name": "stdout",
     "output_type": "stream",
     "text": [
      "請輸入有多少筆學生資料要寫入檔案? 請輸入學生名字和期末總分, 例如: 姓名 分數：請輸入學生名字和期末總分, 例如: 姓名 分數：請輸入學生名字和期末總分, 例如: 姓名 分數：請輸入學生名字和期末總分, 例如: 姓名 分數：請輸入學生名字和期末總分, 例如: 姓名 分數：資料已成功寫入到 write.txt !\n"
     ]
    }
   ],
   "source": [
    "import pyinputplus as pyip\n",
    "\n",
    "with open(\"D:/Python Learning/Python learning/Python-learning/Python_Test_1/datafiles/write.txt\", \"a\") as file:\n",
    "    n=pyip.inputInt(\"請輸入有多少筆學生資料要寫入檔案? \")    \n",
    "    for _ in range(n):\n",
    "        data=pyip.inputStr(\"請輸入學生名字和期末總分, 例如: 姓名 分數：\")\n",
    "        file.write( data + \"\\n\" )\n",
    "\n",
    "print(\"資料已成功寫入到 write.txt !\")"
   ]
  },
  {
   "cell_type": "markdown",
   "metadata": {},
   "source": [
    "### [Key Note]:\n",
    "> file.write( data + \"\\n\" )\n",
    "\n",
    "1. \"\\n\" 表示換行。即下一次寫入的內容從新的一行開始。\n",
    "2. 例如，假設 data 是 \"小明 85\"，那麼 data + '\\n' 會變成 \"小明 85\\n\"。這樣在檔案中就會有一個換行，確保每筆資料各自獨立一行"
   ]
  },
  {
   "cell_type": "markdown",
   "metadata": {},
   "source": [
    "檔案模式: \"w\" or \"a\"\n",
    ">  with open( 檔案路徑, \"w\" or \"a\") as file:\n",
    "1. \"a\"：附加模式，讓您可以在檔案的末尾添加資料，而不會刪除原有的內容。\n",
    "2. \"w\"：寫入模式，會清空檔案內容後再寫入，這就是為什麼之前的資料會消失。"
   ]
  },
  {
   "cell_type": "markdown",
   "metadata": {},
   "source": [
    "# 902 資料加總\n",
    "請撰寫一程式，讀取read.txt的內容（內容為數字，以空白分隔）並將這些數字加總後輸出。檔案讀取完成後要關閉。"
   ]
  },
  {
   "cell_type": "code",
   "execution_count": null,
   "metadata": {},
   "outputs": [
    {
     "name": "stdout",
     "output_type": "stream",
     "text": [
      "請選擇: a: 附加模式，在檔案的末尾添加資料; w:寫入模式，會清空檔案內容後再寫入\n",
      "請選擇: a: 附加模式，在檔案的末尾添加資料; w:寫入模式，會清空檔案內容後再寫入Blank values are not allowed.\n",
      "請選擇: a: 附加模式，在檔案的末尾添加資料; w:寫入模式，會清空檔案內容後再寫入請輸入有多少筆數字要寫入檔案? 請輸入第1筆數字: 資料已成功寫入到 read.txt !\n"
     ]
    }
   ],
   "source": [
    "import pyinputplus as pyip\n",
    "\n",
    "selection=pyip.inputChoice(['a', 'w'], prompt=\"請選擇: a: 附加模式，在檔案的末尾添加資料; w:寫入模式，會清空檔案內容後再寫入\" )\n",
    "with open(\"D:/Python Learning/Python learning/Python-learning/Python_Test_1/datafiles/read.txt\", selection ) as file:\n",
    "    n=pyip.inputInt(\"請輸入有多少筆數字要寫入檔案? \")\n",
    "    for i in range(n):\n",
    "        number=pyip.inputStr(f\"請輸入第{i+1}筆數字: \")\n",
    "        data=file.write(number + \"\\n\")\n",
    "\n",
    "print(\"資料已成功寫入到 read.txt !\")"
   ]
  },
  {
   "cell_type": "code",
   "execution_count": null,
   "metadata": {},
   "outputs": [
    {
     "name": "stdout",
     "output_type": "stream",
     "text": [
      "總和為: 300\n"
     ]
    }
   ],
   "source": [
    "import pyinputplus as pyip\n",
    "\n",
    "with open(\"D:/Python Learning/Python learning/Python-learning/Python_Test_1/datafiles/read.txt\") as file:\n",
    "    data:list[str]=file.read().splitlines()\n",
    "    total=sum( int(number) for number in data)\n",
    "\n",
    "print(\"總和為:\", total)"
   ]
  },
  {
   "cell_type": "markdown",
   "metadata": {},
   "source": [
    "# 903 成績資料\n",
    "請撰寫一程式，要求使用者輸入五個人的名字並加入到data.txt的尾端。之後再顯示此檔案的內容。"
   ]
  },
  {
   "cell_type": "code",
   "execution_count": 12,
   "metadata": {},
   "outputs": [
    {
     "name": "stdout",
     "output_type": "stream",
     "text": [
      "請選擇: a: 附加模式，在檔案的末尾添加資料; w:寫入模式，會清空檔案內容後再寫入請輸入有多少筆姓名資料要寫入檔案? 請輸入第1筆姓名資料:資料已成功寫入到 data.txt !\n"
     ]
    }
   ],
   "source": [
    "import pyinputplus as pyip\n",
    "\n",
    "selection=pyip.inputChoice([\"a\", \"w\"],prompt=\"請選擇: a: 附加模式，在檔案的末尾添加資料; w:寫入模式，會清空檔案內容後再寫入\" )\n",
    "with open(\"D:/Python Learning/Python learning/Python-learning/Python_Test_1/datafiles/data.txt\", selection ) as file:\n",
    "    n=pyip.inputInt(\"請輸入有多少筆姓名資料要寫入檔案? \")\n",
    "    for i in range(n):\n",
    "        name=pyip.inputStr(f\"請輸入第{i+1}筆姓名資料:\")\n",
    "        data=file.write( name + \"\\n\")\n",
    "\n",
    "print(\"資料已成功寫入到 data.txt !\")"
   ]
  },
  {
   "cell_type": "code",
   "execution_count": 14,
   "metadata": {},
   "outputs": [
    {
     "name": "stdout",
     "output_type": "stream",
     "text": [
      "Jenny\n",
      "Tom\n",
      "Vincent\n",
      "David\n",
      "Mary\n",
      "John\n",
      "Morris\n",
      "Tracy\n",
      "Alice\n",
      "\n"
     ]
    }
   ],
   "source": [
    "import pyinputplus as pyip\n",
    "\n",
    "with open(\"D:/Python Learning/Python learning/Python-learning/Python_Test_1/datafiles/data.txt\") as file:\n",
    "    output_data=file.read()\n",
    "print( output_data )\n"
   ]
  },
  {
   "cell_type": "markdown",
   "metadata": {},
   "source": [
    "# 904 資料計算\n",
    "請撰寫一程式，讀取read.txt（每一列的格式為名字和身高、體重，以空白分隔）並顯示檔案內容、所有人的平均身高、平均體重以及最高者、最重者。\\\n",
    "提示：輸出浮點數到小數點後第二位。"
   ]
  },
  {
   "cell_type": "markdown",
   "metadata": {},
   "source": [
    "##### 程式II-1: 物件導向程式設計（Object-oriented programming，OOP)"
   ]
  },
  {
   "cell_type": "code",
   "execution_count": 22,
   "metadata": {},
   "outputs": [
    {
     "name": "stdout",
     "output_type": "stream",
     "text": [
      "請選擇: a: 附加模式，在檔案的末尾添加資料; w:寫入模式，會清空檔案內容後再寫入有多少筆資料要寫入檔案? 請輸入個數: 'Lily 166 79' is not an integer.\n",
      "有多少筆資料要寫入檔案? 請輸入個數: 請輸入第1筆資料: 姓名 身高 體重 (以空白分開)Jenny 165 66\n",
      "Tom 170 88\n",
      "Vincent 173 85\n",
      "David 178 72\n",
      "Morris 178 80\n",
      "Tracy 165 66\n",
      "Alice 168 70\n",
      "Emily 165 61\n",
      "Lily 168 79\n",
      "\n",
      "資料已成功寫入到 read.txt !\n"
     ]
    }
   ],
   "source": [
    "import pyinputplus as pyip\n",
    "\n",
    "selection=pyip.inputChoice([\"w\", \"a\"],prompt=\"請選擇: a: 附加模式，在檔案的末尾添加資料; w:寫入模式，會清空檔案內容後再寫入\" )\n",
    "with open(\"D:/Python Learning/Python learning/Python-learning/Python_Test_1/datafiles/read.txt\", selection) as file:\n",
    "    n=pyip.inputInt(\"有多少筆資料要寫入檔案? 請輸入個數: \")\n",
    "    for _ in range(n):\n",
    "        input_data=pyip.inputStr(f\"請輸入第{i+1}筆資料: 姓名 身高 體重 (以空白分開)\")\n",
    "        file.write( input_data + \"\\n\")\n",
    "\n",
    "with open(\"D:/Python Learning/Python learning/Python-learning/Python_Test_1/datafiles/read.txt\") as file:\n",
    "    print(file.read())\n",
    "\n",
    "print(\"資料已成功寫入到 read.txt !\")"
   ]
  },
  {
   "cell_type": "code",
   "execution_count": 24,
   "metadata": {},
   "outputs": [
    {
     "name": "stdout",
     "output_type": "stream",
     "text": [
      "Python 904 資料計算 :繼續計算請按'y'; 離開程式請按'q' \n",
      "平均身高: 170.00 公分\n",
      "平均體重: 74.11 公斤\n",
      "\n",
      "最高的人是: David，身高: 178.0 公分\n",
      "最重的人是: Tom，體重: 88.0 公斤\n",
      "Python 904 資料計算 :繼續計算請按'y'; 離開程式請按'q' 程式結束,謝謝使用! \n"
     ]
    }
   ],
   "source": [
    "import pyinputplus as pyip\n",
    "\n",
    "\n",
    "class InputSection:\n",
    "    def __init__(self):\n",
    "        self.name_list=[]\n",
    "        self.height_list=[]\n",
    "        self.weight_list=[] \n",
    "    \n",
    "    def input_method(self):\n",
    "        with open(\"datafiles/read.txt\") as file:           \n",
    "            output_list=file.read().splitlines()\n",
    "\n",
    "            for line in output_list:\n",
    "                name,height,weight=line.split()\n",
    "                self.name_list.append(name)\n",
    "                self.height_list.append( float(height))\n",
    "                self.weight_list.append( float(weight))\n",
    "                \n",
    "        return self.name_list, self.height_list, self.weight_list       \n",
    "            \n",
    "class CalculationSection:\n",
    "    def __init__(self,name_list:list[str], height_list:list[float], weight_list:list[float]):\n",
    "        self.name_list=name_list\n",
    "        self.height_list=height_list\n",
    "        self.weight_list=weight_list\n",
    "        self.average_height=None\n",
    "        self.average_weight=None\n",
    "        self.max_height=None\n",
    "        self.max_weight=None\n",
    "        self.tallest_person=None\n",
    "        self.heaviest_person=None\n",
    "        \n",
    "    def calculation_method(self):\n",
    "        self.average_height=sum(self.height_list)/len(self.height_list)\n",
    "        self.average_weight=sum(self.weight_list)/len(self.weight_list)\n",
    "        self.max_height=max(self.height_list)\n",
    "        self.max_weight=max(self.weight_list)\n",
    "        heightest_index=self.height_list.index(self.max_height)\n",
    "        weightest_index=self.weight_list.index(self.max_weight)\n",
    "        self.tallest_person=self.name_list[heightest_index]\n",
    "        self.heaviest_person=self.name_list[weightest_index]\n",
    "        return self.average_height, self.average_weight, self.max_height, self.max_weight, self.tallest_person,  self.heaviest_person\n",
    "       \n",
    "\n",
    "class DisplaySection:\n",
    "    def __init__( self,average_height:float, average_weight:float, max_height:float, max_weight:float, tallest_person:str, heaviest_person:str):\n",
    "        self.average_height=average_height\n",
    "        self.average_weight=average_weight\n",
    "        self.max_height=max_height\n",
    "        self.max_weight=max_weight\n",
    "        self.tallest_person=tallest_person\n",
    "        self.heaviest_person=heaviest_person\n",
    "        \n",
    "    def output_method(self):\n",
    "        print(f\"\\n平均身高: {self.average_height:.2f} 公分\")\n",
    "        print(f\"平均體重: {self.average_weight:.2f} 公斤\")\n",
    "        print(f\"\\n最高的人是: {self.tallest_person}，身高: {self.max_height} 公分\")\n",
    "        print(f\"最重的人是: {self.heaviest_person}，體重: {self.max_weight} 公斤\")\n",
    "\n",
    "def main():\n",
    "    while True:\n",
    "        try:\n",
    "            selection:str=pyip.inputYesNo(prompt=\"Python 904 資料計算 :繼續計算請按'y'; 離開程式請按'q' \",yesVal=\"y\",noVal=\"q\")            \n",
    "            \n",
    "            if selection=='y':            \n",
    "                input_object=InputSection()\n",
    "                name_list,height_list, weight_list=input_object.input_method()\n",
    "                calculation_object=CalculationSection(name_list,height_list, weight_list)\n",
    "                average_height, average_weight, max_height, max_weight, tallest_person, heaviest_person=calculation_object.calculation_method()\n",
    "                display_object=DisplaySection(average_height, average_weight, max_height, max_weight, tallest_person, heaviest_person)\n",
    "                display_object.output_method()\n",
    "            else:\n",
    "                print(\"程式結束,謝謝使用! \")\n",
    "                break        \n",
    "        \n",
    "        except pyip.RetryLimitException:\n",
    "                print(\"輸入錯誤次數過多，請重新啟動程式。\")\n",
    "                return\n",
    "        except Exception as e:\n",
    "                print(f\"發生無法預期的錯誤: {e}\")\n",
    "                return\n",
    "\n",
    "if __name__==\"__main__\":\n",
    "     main()\n"
   ]
  },
  {
   "cell_type": "markdown",
   "metadata": {},
   "source": [
    "# 905 字串資料刪除\n",
    "請撰寫一程式，要求使用者輸入檔案名稱data.txt和一字串s，顯示該檔案的內容。接著刪除檔案中的字串s，顯示刪除後的檔案內容並存檔。"
   ]
  },
  {
   "cell_type": "code",
   "execution_count": 11,
   "metadata": {},
   "outputs": [
    {
     "name": "stdout",
     "output_type": "stream",
     "text": [
      "1.讀取資料,2.存寫資料,3.刪除資料,4.離開, 請選擇:\n",
      "1. Read Data\n",
      "2. Write Data\n",
      "3. Delete Data\n",
      "4. quit\n",
      "Jenny\n",
      "Tom\n",
      "Vincent\n",
      "David\n",
      "Mary\n",
      "John\n",
      "Morri \n",
      "Tracy\n",
      "Alice\n",
      " \n",
      "Tim\n",
      " \n",
      "\n"
     ]
    }
   ],
   "source": [
    "import pyinputplus as pyip\n",
    "\n",
    "file_name=input(\"請輸入檔案名稱(例如:data.txt)\")\n",
    "file_name=\"D:/Python Learning/Python learning/Python-learning/Python_Test_1/datafiles/data.txt\"\n",
    "main_selection=pyip.inputMenu([\"Read Data\",\"Write Data\",\"Delete Data\", \"quit\"], prompt=\"1.讀取資料,2.存寫資料,3.刪除資料,4.離開, 請選擇:\\n\", numbered=True)\n",
    "\n",
    "if main_selection==\"Read Data\":\n",
    "    with open(file_name,\"r\",encoding='utf-8') as rfile:\n",
    "        read_content=rfile.read()\n",
    "        print(read_content)\n",
    "\n",
    "elif main_selection==\"Write Data\":\n",
    "\n",
    "    n=pyip.inputInt(\"有多少筆資料要存入檔案中? \",min=1)\n",
    "    selection=pyip.inputChoice( [\"a\",\"w\"], prompt=\"請選擇: a: 附加模式，在檔案的末尾添加資料; w:寫入模式，會清空檔案內容後再寫入\" )\n",
    "    with open(file_name, selection, encoding='utf-8' ) as wfile:    \n",
    "        for i in range(n):\n",
    "            input_data=pyip.inputStr(f\"請輸入第{i+1}筆資料: \")\n",
    "            wfile.write(input_data + \"\\n\")\n",
    "    print(f\"資料已成功寫入到 {file_name} !\")   \n",
    "    \n",
    "elif main_selection==\"Delete Data\":\n",
    "    \n",
    "    m=pyip.inputInt(\"有多少筆資料要從檔案刪除?\",min=1)\n",
    "    with open (file_name, \"r\", encoding='utf-8') as file:\n",
    "        content=file.read()\n",
    "    \n",
    "    for j in range(m):\n",
    "        delete_data=pyip.inputStr(f\"請輸入第{j+1}筆要刪除的資料: \")\n",
    "        updat_content=content.replace(delete_data,\" \")\n",
    "            \n",
    "    with open (file_name, \"w\", encoding='utf-8') as dfile:\n",
    "        dfile.write(updat_content)\n",
    "    print(\"\\n檔案已成功更新! \")\n",
    "                \n",
    "else:\n",
    "    print(\"程式離開, 謝謝使用! \")\n",
    "\n"
   ]
  },
  {
   "cell_type": "markdown",
   "metadata": {},
   "source": [
    "# 906 字串資料取代\n",
    "請撰寫一程式，要求使用者輸入檔名data.txt、字串s1和字串s2。程式將檔案中的字串s1以s2取代之。"
   ]
  },
  {
   "cell_type": "code",
   "execution_count": 2,
   "metadata": {},
   "outputs": [
    {
     "name": "stdout",
     "output_type": "stream",
     "text": [
      "1.讀取資料,2.存寫資料,3.刪除資料,4.取代資料 5.離開, 請選擇:\n",
      "1. Read Data\n",
      "2. Write Data\n",
      "3. Delete Data\n",
      "4. Replace Data\n",
      "5. quit\n",
      "Henry\n",
      "Tom\n",
      "Vincent\n",
      "David\n",
      "Mary\n",
      "John\n",
      "Morri \n",
      "Tracy\n",
      "Alice\n",
      " \n",
      "Tim\n",
      " \n",
      "\n"
     ]
    }
   ],
   "source": [
    "import pyinputplus as pyip\n",
    "\n",
    "file_name=input(\"請輸入檔案名稱(例如:data.txt)\")\n",
    "file_name=\"D:/Python Learning/Python learning/Python-learning/Python_Test_1/datafiles/data.txt\"\n",
    "main_selection=pyip.inputMenu([\"Read Data\",\"Write Data\",\"Delete Data\",\"Replace Data\", \"quit\"], prompt=\"1.讀取資料,2.存寫資料,3.刪除資料,4.取代資料 5.離開, 請選擇:\\n\", numbered=True)\n",
    "\n",
    "if main_selection==\"Read Data\":\n",
    "    with open(file_name,\"r\",encoding='utf-8') as rfile:\n",
    "        read_content=rfile.read()\n",
    "        print(read_content)\n",
    "\n",
    "elif main_selection==\"Write Data\":\n",
    "\n",
    "    n=pyip.inputInt(\"有多少筆資料要存入檔案中? \",min=1)\n",
    "    selection=pyip.inputChoice( [\"a\",\"w\"], prompt=\"請選擇: a: 附加模式，在檔案的末尾添加資料; w:寫入模式，會清空檔案內容後再寫入\" )\n",
    "    with open(file_name, selection, encoding='utf-8' ) as wfile:    \n",
    "        for i in range(n):\n",
    "            input_data=pyip.inputStr(f\"請輸入第{i+1}筆資料: \")\n",
    "            wfile.write(input_data + \"\\n\")\n",
    "    print(f\"資料已成功寫入到 {file_name} !\")   \n",
    "    \n",
    "elif main_selection==\"Delete Data\":\n",
    "    \n",
    "    m=pyip.inputInt(\"有多少筆資料要從檔案刪除?\",min=1)\n",
    "    with open (file_name, \"r\", encoding='utf-8') as file:\n",
    "        content=file.read()\n",
    "    \n",
    "    for j in range(m):\n",
    "        delete_data=pyip.inputStr(f\"請輸入第{j+1}筆要刪除的資料: \")\n",
    "        updat_content=content.replace(delete_data,\" \")\n",
    "            \n",
    "    with open (file_name, \"w\", encoding='utf-8') as dfile:\n",
    "        dfile.write(updat_content)\n",
    "    print(\"\\n檔案已成功更新! \")\n",
    "\n",
    "elif main_selection==\"Replace Data\":\n",
    "    with open(file_name, \"r\", encoding='utf-8') as file:\n",
    "        content=file.read()\n",
    "    \n",
    "    s1=pyip.inputStr(\"請輸入檔案資料(要被取代的資料):\")\n",
    "    s2=pyip.inputStr(\"請輸入要被取代的資料:\")\n",
    "    replace_content=content.replace(s1,s2)\n",
    "    \n",
    "    with open(file_name, \"w\",encoding='utf-8') as repfile:\n",
    "        repfile.write(replace_content)\n",
    "    print(\"\\n檔案已成功更新! \")        \n",
    "                \n",
    "else:\n",
    "    print(\"程式離開, 謝謝使用! \")\n",
    "\n"
   ]
  },
  {
   "cell_type": "markdown",
   "metadata": {},
   "source": [
    "# 907 詳細資料顯示\n",
    "請撰寫一程式，要求使用者輸入檔名read.txt，顯示該檔案的行數、單字數（簡單起見，單字以空白隔開即可，忽略其它標點符號）以及字元數（不含空白）。"
   ]
  },
  {
   "cell_type": "code",
   "execution_count": null,
   "metadata": {},
   "outputs": [
    {
     "name": "stdout",
     "output_type": "stream",
     "text": [
      "檔案內的行數: 12\n",
      "檔案內單字數: 10\n",
      "檔案內字元數 (不含空白): 46\n"
     ]
    }
   ],
   "source": [
    "\n",
    "file_name=input(\"請輸入檔案的相對路徑(資料夾名稱/檔案名稱), 例如:datafiles/data.txt\")\n",
    "with open(file_name, \"r\",encoding='utf-8' ) as file:\n",
    "    content=file.read()\n",
    "    \n",
    "    content_line=content.splitlines()\n",
    "    line_count=len(content_line)\n",
    "    print(f\"檔案內的行數: {line_count}\")\n",
    "    \n",
    "    content_word=content.split()\n",
    "    word_count=len(content_word)\n",
    "    print(f\"檔案內單字數: {word_count}\")\n",
    "    \n",
    "    char_count = sum(len(word) for word in content_word)\n",
    "    print(f\"檔案內字元數 (不含空白): {char_count}\")\n",
    "    \n"
   ]
  },
  {
   "cell_type": "markdown",
   "metadata": {},
   "source": [
    "# 908 單字次數計算\n",
    "請撰寫一程式，要求使用者輸入檔名read.txt，以及檔案中某單字出現的次數。輸出符合次數的單字，並依單字的第一個字母大小排序。（單字的判斷以空白隔開即可）"
   ]
  },
  {
   "cell_type": "code",
   "execution_count": 3,
   "metadata": {},
   "outputs": [
    {
     "name": "stdout",
     "output_type": "stream",
     "text": [
      "猜測檔案中某個單字出現的次數? 請輸入一個數字: 出現 1 次的單字有：henry, tom, vincent, david, mary, john, morri, tracy, alice, tim\n"
     ]
    }
   ],
   "source": [
    "import pyinputplus as pyip\n",
    "from collections import Counter\n",
    "\n",
    "file_name=input(\"請輸入檔案的相對路徑(資料夾名稱/檔案名稱), 例如:datafiles/data.txt\")\n",
    "guess_n=pyip.inputInt(\"猜測檔案中某個單字出現的次數? 請輸入一個數字: \")\n",
    "with open(file_name, \"r\",encoding='utf-8' ) as file:\n",
    "    words=file.read().split()\n",
    "    word_counts=Counter( word.lower() for word in words)\n",
    "    matching_words = [word for word, count in word_counts.items() if count == guess_n]\n",
    "    if matching_words:\n",
    "        print(f\"出現 {guess_n} 次的單字有：{', '.join(matching_words)}\")\n",
    "    else:\n",
    "        print(f\"沒有單字出現 {guess_n} 次\")\n",
    "        "
   ]
  },
  {
   "cell_type": "markdown",
   "metadata": {},
   "source": [
    "### [Key Note]:\n",
    "1. 忽略大小寫 全轉成小寫: 先計算檔案內 所有個單字出現的次數: \n",
    ">   word_counts=Counter( word.lower() for word in words)\n",
    "\n",
    "結果為: Counter( {'henry': 1, 'tom': 1, 'vincent': 1, 'david': 1, 'mary': 1} )\n",
    "\n",
    "2. 找出符合猜測次數的單字:\n",
    "> for word, count in word_counts.items()\n",
    "\n",
    "word_counts.items() 是從 Counter 物件取得鍵值對（key-value pairs）的方法，它會返回一個類似這樣的結構：[('單字1', 出現次數1), ('單字2', 出現次數2), ...]\n",
    "\n",
    "3. 使用不同的分隔符\n",
    "\n",
    "> ','.join(matching_words)\n",
    "\n",
    "print(' '.join(matching_words))     # 輸出：henry tom vincent\\\n",
    "print('|'.join(matching_words))     # 輸出：henry|tom|vincent\\\n",
    "print('、'.join(matching_words))    # 輸出：henry、tom、vincent\\\n",
    "print('\\n'.join(matching_words))    # 每個詞換行顯示\n",
    "\n",
    "\n"
   ]
  },
  {
   "cell_type": "markdown",
   "metadata": {},
   "source": [
    "# 909 聯絡人資料\n",
    "請撰寫一程式，將使用者輸入的五個人的資料寫入data.dat檔，每一個人的資料為姓名和電話號碼，以空白分隔。再將檔案加以讀取並顯示檔案內容。"
   ]
  },
  {
   "cell_type": "code",
   "execution_count": null,
   "metadata": {},
   "outputs": [
    {
     "name": "stdout",
     "output_type": "stream",
     "text": [
      "有多少筆資料要存入檔案中? 請選擇: a: 附加模式，在檔案的末尾添加資料; w:寫入模式，會清空檔案內容後再寫入'Vincent' is not a valid choice.\n",
      "請選擇: a: 附加模式，在檔案的末尾添加資料; w:寫入模式，會清空檔案內容後再寫入請輸入第1個姓名: 及Vincent的電話號碼: 請輸入第2個姓名: 及David的電話號碼: 請輸入第3個姓名: 及Mary的電話號碼: 請輸入第4個姓名: 及George的電話號碼: 請輸入第5個姓名: 及Alice的電話號碼: 資料已成功寫入到 datafiles/data.txt !\n",
      "檔案內容為:Vincent 0910858919\n",
      "David 0910878256\n",
      "Mary 0943956786\n",
      "George 0917659642\n",
      "Alice 0918485632\n",
      "\n"
     ]
    }
   ],
   "source": [
    "import pyinputplus as pyip\n",
    "\n",
    "file_name=input(\"資料要存入檔案, 請輸入相對路徑(資料夾名稱/檔案名稱), 例如:datafiles/data.txt\")\n",
    "n=pyip.inputInt(\"有多少筆資料要存入檔案中? \",min=1)\n",
    "selection=pyip.inputChoice( [\"a\",\"w\"], prompt=\"請選擇: a: 附加模式，在檔案的末尾添加資料; w:寫入模式，會清空檔案內容後再寫入\" )\n",
    "with open(file_name, selection, encoding='utf-8' ) as wfile:    \n",
    "    for i in range(n):\n",
    "        input_name=pyip.inputStr(f\"請輸入第{i+1}個姓名: \")\n",
    "        input_phone=pyip.inputStr(f\"及{input_name}的電話號碼: \")\n",
    "        input_data=input_name+\" \"+input_phone    \n",
    "        wfile.write(input_data + \"\\n\")\n",
    "    print(f\"資料已成功寫入到 {file_name} !\")\n",
    "    \n",
    "with open(file_name, \"r\", encoding='utf-8' ) as file:\n",
    "    print(f\"檔案內容為:\\n{ file.read()}\")"
   ]
  },
  {
   "cell_type": "markdown",
   "metadata": {},
   "source": [
    "# Python 910 學生基本資料\n",
    "請撰寫一程式，要求使用者讀入read.dat（以UTF-8編碼格式讀取），第一列為欄位名稱，第二列之後是個人記錄。請輸出檔案內容並顯示男生人數和女生人數（根據\"性別\"欄位，0為女性、1為男性）。"
   ]
  },
  {
   "cell_type": "code",
   "execution_count": 7,
   "metadata": {},
   "outputs": [
    {
     "name": "stdout",
     "output_type": "stream",
     "text": [
      "有多少筆資料要存入檔案中? 請選擇: a: 附加模式，在檔案的末尾添加資料; w:寫入模式，會清空檔案內容後再寫入請輸入第1個學生學號(6位數字):學生的姓名: 請輸入Vincent的性別:1. 男生\n",
      "2. 女生\n",
      "3. 非二元性別\n",
      "請輸入Vincent的就讀系所: 請輸入第2個學生學號(6位數字):'David' is not an integer.\n",
      "請輸入第2個學生學號(6位數字):學生的姓名: 請輸入David的性別:1. 男生\n",
      "2. 女生\n",
      "3. 非二元性別\n",
      "請輸入David的就讀系所: 資料已成功寫入到 datafiles/read.dat !\n",
      "檔案內容為:\n",
      "772224 Vincent 男生 EE\n",
      "873911 David 男生 EE\n",
      "\n"
     ]
    }
   ],
   "source": [
    "import pyinputplus as pyip\n",
    "\n",
    "file_name=input(\"資料要存入檔案, 請輸入相對路徑(資料夾名稱/檔案名稱), 例如:datafiles/read.dat\")\n",
    "n=pyip.inputInt(\"有多少筆資料要存入檔案中? \",min=1)\n",
    "selection=pyip.inputChoice( [\"a\",\"w\"], prompt=\"請選擇: a: 附加模式，在檔案的末尾添加資料; w:寫入模式，會清空檔案內容後再寫入\" )\n",
    "with open(file_name, selection, encoding='utf-8' ) as wfile:    \n",
    "    for i in range(n):\n",
    "        number=pyip.inputInt(f\"請輸入第{i+1}個學生學號(6位數字):\", min=100000, max=999999)\n",
    "        student_number=str(number)\n",
    "        student_name=pyip.inputStr(f\"學生的姓名: \")\n",
    "        student_gender=pyip.inputMenu([\"男生\",\"女生\",\"非二元性別\"], prompt=f\"請輸入{student_name}的性別:\", numbered=True )\n",
    "        student_department=pyip.inputStr(f\"請輸入{student_name}的就讀系所: \")                \n",
    "        student_data=student_number+\" \"+student_name+\" \"+student_gender+\" \"+student_department    \n",
    "        wfile.write(student_data + \"\\n\")\n",
    "    print(f\"資料已成功寫入到 {file_name} !\")\n",
    "    \n",
    "with open(file_name, \"r\", encoding='utf-8' ) as file:\n",
    "    print(f\"檔案內容為:\\n{ file.read()}\")"
   ]
  },
  {
   "cell_type": "markdown",
   "metadata": {},
   "source": [
    "# Python 911 字串資料的讀取,寫入, 刪除和取代\n",
    "讓使用者可以操作檔案內容，包含讀取、寫入、刪除特定字串和取代特定字串等功能"
   ]
  },
  {
   "cell_type": "markdown",
   "metadata": {},
   "source": [
    "##### 程式II-1: 物件導向程式設計（Object-oriented programming，OOP)"
   ]
  },
  {
   "cell_type": "code",
   "execution_count": null,
   "metadata": {},
   "outputs": [],
   "source": [
    "import pyinputplus as pyip\n",
    "\n",
    "class ReadDataSection:\n",
    "    def __init__(self,file_name):\n",
    "        self.file_name=file_name\n",
    "    \n",
    "    def read_method(self):\n",
    "        with open(self.file_name, \"r\",encoding='utf-8' ) as rfile:\n",
    "            read_content=rfile.read()\n",
    "            print(read_content)\n",
    "        \n",
    "        print(f\"資料已成功讀取並顯示 !\")    \n",
    "\n",
    "class WriteDataSection:\n",
    "    def __init__(self,file_name):\n",
    "        self.file_name=file_name\n",
    "        \n",
    "    def write_method(self):\n",
    "        n=pyip.inputInt(\"有多少筆資料要存入檔案中? \",min=1)\n",
    "        selection=pyip.inputChoice( [\"a\",\"w\"], prompt=\"請選擇: a: 附加模式，在檔案的末尾添加資料; w:寫入模式，會清空檔案內容後再寫入\" )\n",
    "        with open(self.file_name, selection, encoding='utf-8' ) as wfile:    \n",
    "            for i in range(n):\n",
    "                input_data=pyip.inputStr(f\"請輸入第{i+1}筆資料: \")\n",
    "                wfile.write(input_data + \"\\n\")\n",
    "        \n",
    "        print(f\"資料已成功寫入到 {self.file_name} !\")    \n",
    "\n",
    "class DeleteDataSection:\n",
    "    def __init__(self,file_name):\n",
    "        self.file_name=file_name\n",
    "        \n",
    "    def delete_method(self):\n",
    "        m=pyip.inputInt(\"有多少筆資料要從檔案刪除?\",min=1)\n",
    "        with open (self.file_name, \"r\", encoding='utf-8') as file:\n",
    "            content=file.read()\n",
    "            delete_content = content \n",
    "            for j in range(m):\n",
    "                delete_data=pyip.inputStr(f\"請輸入第{j+1}筆要刪除的資料: \")\n",
    "                delete_content=content.replace(delete_data,\" \")\n",
    "                \n",
    "        with open (self.file_name, \"w\", encoding='utf-8') as dfile:\n",
    "            dfile.write(delete_content)\n",
    "        \n",
    "        print(f\"\\n檔案 {self.file_name} 已成功更新! \")\n",
    "\n",
    "class ReplaceDataSection:\n",
    "    def __init__(self,file_name):\n",
    "        self.file_name=file_name\n",
    "        \n",
    "    def replace_method(self):\n",
    "        with open(self.file_name, \"r\", encoding='utf-8') as file:\n",
    "            content=file.read()\n",
    "            data1=pyip.inputStr(\"請輸入檔案資料(要被取代的資料):\")\n",
    "            data2=pyip.inputStr(\"請輸入要替換成的資料:\")\n",
    "            replace_content=content.replace(data1,data2)\n",
    "    \n",
    "        with open(self.file_name, \"w\",encoding='utf-8') as repfile:\n",
    "            repfile.write(replace_content)\n",
    "        \n",
    "        print(f\"\\n檔案到 {self.file_name} 已成功更新! \")                        \n",
    "\n",
    "def main():\n",
    "    while True:\n",
    "        try:\n",
    "            option:str=pyip.inputYesNo(prompt=\"Python 911 字串資料讀取,刪除和取代 :繼續計算請按'y'; 離開程式請按'q' \",yesVal=\"y\",noVal=\"q\")            \n",
    "            \n",
    "            if option=='y':\n",
    "                selection=pyip.inputMenu([\"Read Data\",\"Write Data\",\"Delete Data\",\"Replace Data\"], prompt=\"1.讀取資料,2.存寫資料,3.刪除資料,4.取代資料, 請選擇:\\n\", numbered=True)                 \n",
    "                file_name=input(\"請輸入檔案的相對路徑(資料夾名稱/檔案名稱 例如:datafiles/data.txt)\")\n",
    "\n",
    "                if selection==\"Read Data\":\n",
    "                    readdata_object=ReadDataSection(file_name)\n",
    "                    readdata_object.read_method()                    \n",
    "                    \n",
    "                elif selection==\"Write Data\":\n",
    "                    writedata_object=WriteDataSection(file_name)\n",
    "                    writedata_object.write_method()\n",
    "                \n",
    "                elif selection==\"Delete Data\":\n",
    "                    delete_data_object=DeleteDataSection(file_name)\n",
    "                    delete_data_object.delete_method()\n",
    "                    \n",
    "                elif selection==\"Replace Data\":\n",
    "                    replacedata_object=ReplaceDataSection(file_name)\n",
    "                    replacedata_object.replace_method()            \n",
    "\n",
    "            else:\n",
    "                print(\"程式結束,謝謝使用! \")\n",
    "                break        \n",
    "        \n",
    "        except pyip.RetryLimitException:\n",
    "                print(\"輸入錯誤次數過多，請重新啟動程式。\")\n",
    "                return\n",
    "        except Exception as e:\n",
    "                print(f\"發生無法預期的錯誤: {e}\")\n",
    "                return\n",
    "\n",
    "if __name__==\"__main__\":\n",
    "     main()\n"
   ]
  }
 ],
 "metadata": {
  "kernelspec": {
   "display_name": ".venv",
   "language": "python",
   "name": "python3"
  },
  "language_info": {
   "codemirror_mode": {
    "name": "ipython",
    "version": 3
   },
   "file_extension": ".py",
   "mimetype": "text/x-python",
   "name": "python",
   "nbconvert_exporter": "python",
   "pygments_lexer": "ipython3",
   "version": "3.12.3"
  }
 },
 "nbformat": 4,
 "nbformat_minor": 2
}
