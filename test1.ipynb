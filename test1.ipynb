{
 "cells": [
  {
   "cell_type": "markdown",
   "metadata": {},
   "source": [
    "# Python 104 圓形面積計算\n",
    "請撰寫一程式，輸入一圓的半徑，並加以計算此圓之面積和周長，最後請印出此圓的半徑（Radius）、周長（Perimeter）和面積（Area）。"
   ]
  },
  {
   "cell_type": "code",
   "execution_count": 4,
   "metadata": {},
   "outputs": [
    {
     "name": "stdout",
     "output_type": "stream",
     "text": [
      "please input a radius:半徑為10.0的園:其周長62.83 面積314.159 \n"
     ]
    }
   ],
   "source": [
    "import math\n",
    "import pyinputplus as pyip\n",
    "\n",
    "radius:float=pyip.inputFloat(\"please input a radius:\")\n",
    "perimeter:float=math.pi*radius*2\n",
    "area:float=math.pi*radius**2\n",
    "\n",
    "print(f'半徑為{radius}的園:其周長{round(perimeter,ndigits=2)} 面積{round(area,ndigits=3)} ')"
   ]
  },
  {
   "cell_type": "markdown",
   "metadata": {},
   "source": [
    "##### 程式I: 函數式編程(Functional Programming, FP)"
   ]
  },
  {
   "cell_type": "code",
   "execution_count": 1,
   "metadata": {},
   "outputs": [
    {
     "name": "stdout",
     "output_type": "stream",
     "text": [
      "請輸入圓的半徑: 'y' is not a float.\n",
      "請輸入圓的半徑: 請選擇單位: \n",
      "1. 公尺\n",
      "2. 公分\n",
      "半徑為10.0公尺的圓:其周長62.83公尺 面積314.159公尺^2 \n"
     ]
    }
   ],
   "source": [
    "import math\n",
    "import pyinputplus as pyip\n",
    "\n",
    "def compute(radius:float):\n",
    "    perimeter=math.pi*radius*2\n",
    "    area=math.pi*radius**2\n",
    "    return perimeter, area\n",
    "\n",
    "def main():\n",
    "    try:\n",
    "\n",
    "        radius:float=pyip.inputFloat(\"請輸入圓的半徑: \")\n",
    "        unit=pyip.inputMenu([\"公尺\",\"公分\"], prompt=\"請選擇單位: \\n\", numbered=True)\n",
    "        perimeter, area=compute(radius)\n",
    "        print(f'半徑為{radius}{unit}的圓:其周長{round(perimeter,ndigits=2)}{unit} 面積{round(area,ndigits=3)}{unit}^2 ')\n",
    "\n",
    "    except Exception as error:\n",
    "        print(f\"發生無法預期的錯誤, {error}\")\n",
    "\n",
    "if __name__==\"__main__\":\n",
    "    main()"
   ]
  },
  {
   "cell_type": "markdown",
   "metadata": {},
   "source": [
    "##### 程式II: 物件導向程式設計（Object-oriented programming，OOP)"
   ]
  },
  {
   "cell_type": "code",
   "execution_count": 6,
   "metadata": {},
   "outputs": [
    {
     "name": "stdout",
     "output_type": "stream",
     "text": [
      "Python104 圓形面積計算, 請問要執行程式,請按'y'或是離開請按'n':\n",
      "請輸入圓的半徑: 請選擇單位: \n",
      "1. 公尺\n",
      "2. 公分\n",
      "半徑為10.0公尺的圓:其周長62.83公尺, 面積314.159平方公尺\n"
     ]
    }
   ],
   "source": [
    "import math\n",
    "import pyinputplus as pyip\n",
    "\n",
    "class CircleArea:\n",
    "    def __init__(self,radius:float, unit:str) ->None:\n",
    "        self.radius=radius\n",
    "        self.unit=unit\n",
    "        self._perimeter=None\n",
    "        self._area=None\n",
    "    \n",
    "    @property\n",
    "    def perimeter(self):\n",
    "        return self._perimeter\n",
    "    @property\n",
    "    def area(self):\n",
    "        return self._area \n",
    "    \n",
    "    def calculation_method(self) ->None:\n",
    "        if self.unit==\"公尺\":\n",
    "            self._perimeter=math.pi*self.radius*2\n",
    "            self._area=math.pi*self.radius**2\n",
    "        else:\n",
    "            self._perimeter=math.pi*(self.radius/100)*2\n",
    "            self._area=math.pi*(self.radius/100)**2               \n",
    "    \n",
    "    def display_method(self) ->None:\n",
    "        if self.unit==\"公尺\":\n",
    "            print(f'半徑為{self.radius}公尺的圓:其周長{round(self._perimeter,ndigits=2)}公尺, 面積{round(self._area,ndigits=3)}平方公尺')\n",
    "        else:\n",
    "            print(f'半徑為{self.radius}公分的圓:其周長{round(self._perimeter,ndigits=2)}公尺, 面積{round(self._area,ndigits=3)}平方公尺')            \n",
    "    \n",
    "def input_function():\n",
    "    radius:float=pyip.inputFloat(\"請輸入圓的半徑: \",greaterThan=0)\n",
    "    unit=pyip.inputMenu([\"公尺\",\"公分\"], prompt=\"請選擇單位: \\n\", numbered=True)\n",
    "    return radius, unit\n",
    "\n",
    "def main():\n",
    "\n",
    "    try:\n",
    "        selection=pyip.inputYesNo(\"Python104 圓形面積計算, 請問要執行程式,請按'y'或是離開請按'n':\\n\", yesVal=\"y\",noVal=\"n\")\n",
    "        if selection=='y':\n",
    "            radius,unit=input_function()\n",
    "            calculation=CircleArea(radius,unit)\n",
    "            calculation.calculation_method()\n",
    "            calculation.display_method()\n",
    "        \n",
    "        else:\n",
    "            print(\"程序結束，謝謝使用！\")\n",
    "       \n",
    "    except Exception as error:\n",
    "        print(f\"發生無法預期的錯誤, {error}\")\n",
    "              \n",
    "\n",
    "if __name__==\"__main__\":\n",
    "    main()"
   ]
  },
  {
   "cell_type": "markdown",
   "metadata": {},
   "source": [
    "# Python 105 矩形面積計算\n",
    "請撰寫一程式，輸入兩個正數，代表一矩形之寬和高，計算並輸出此矩形之長（Length）、寬（Width）、周長（Perimeter）及面積（Area）。"
   ]
  },
  {
   "cell_type": "code",
   "execution_count": 5,
   "metadata": {},
   "outputs": [
    {
     "name": "stdout",
     "output_type": "stream",
     "text": [
      "please input a Width:Please input a length:長19.0寬23.5的矩形,其周長85.0 面積446.5\n"
     ]
    }
   ],
   "source": [
    "import pyinputplus as pyip\n",
    "import math\n",
    "w:float=pyip.inputFloat(\"please input a Width:\")\n",
    "l:float=pyip.inputFloat(\"Please input a length:\")\n",
    "perimeter=2*w+2*l\n",
    "area=w*l\n",
    "print(f\"長{l}寬{w}的矩形,其周長{round(perimeter,ndigits=3)} 面積{round(area,ndigits=3)}\")"
   ]
  },
  {
   "cell_type": "markdown",
   "metadata": {},
   "source": [
    "##### 程式I: 函數式編程(Functional Programming, FP)"
   ]
  },
  {
   "cell_type": "code",
   "execution_count": 7,
   "metadata": {},
   "outputs": [
    {
     "name": "stdout",
     "output_type": "stream",
     "text": [
      "請輸入寬度: 請輸入長度: 請選擇單位\n",
      "A. 公尺\n",
      "B. 公分\n",
      "長10.0公尺 寬10.0公尺的矩形,其周長40.0公尺 面積100.0公尺^2\n"
     ]
    }
   ],
   "source": [
    "import pyinputplus as pyip\n",
    "\n",
    "def compute(width:float,length:float):\n",
    "    perimeter=2*(width+length)\n",
    "    area=width*length\n",
    "    return perimeter, area\n",
    "\n",
    "def main():\n",
    "    try: \n",
    "        w:float=pyip.inputFloat(\"請輸入寬度: \")\n",
    "        l:float=pyip.inputFloat(\"請輸入長度: \")\n",
    "        unit=pyip.inputMenu([\"公尺\",\"公分\"], prompt=\"請選擇單位\\n\", lettered=True)\n",
    "        perimeter, area=compute(w,l)\n",
    "        print(f\"長{l}{unit} 寬{w}{unit}的矩形,其周長{round(perimeter,ndigits=3)}{unit} 面積{round(area,ndigits=3)}{unit}^2\")\n",
    "        \n",
    "    except Exception as error:\n",
    "        print(f\"發生無法預期的錯誤, {error}\")\n",
    "\n",
    "if __name__==\"__main__\":\n",
    "    main()\n"
   ]
  },
  {
   "cell_type": "markdown",
   "metadata": {},
   "source": [
    "##### 程式II: 物件導向程式設計（Object-oriented programming，OOP)"
   ]
  },
  {
   "cell_type": "code",
   "execution_count": null,
   "metadata": {},
   "outputs": [],
   "source": [
    "import pyinputplus as pyip\n",
    "\n",
    "class RectangularArea:\n",
    "    def __init__(self,unit:str,w:float,l:float):\n",
    "        self.unit=unit\n",
    "        self.width=w\n",
    "        self.length=l\n",
    "        self._perimeter=None\n",
    "        self._area=None\n",
    "    \n",
    "    @property\n",
    "    def perimeter(self)->float:\n",
    "        return self._perimeter\n",
    "    @property\n",
    "    def area(self) ->float:\n",
    "        return self._area\n",
    "        \n",
    "    def calculation_method(self)->None:\n",
    "        if self.unit==\"公尺\":\n",
    "            self._perimeter=2*(self.width+self.length)\n",
    "            self._area=self.width*self.length\n",
    "        else:\n",
    "            self._perimeter=2*(self.width+self.length)/100\n",
    "            self._area=(self.width/100)*(self.length/100)\n",
    "        \n",
    "    def display_method(self) ->None:\n",
    "        if self.unit==\"公尺\":\n",
    "            print(f\"長{self.length}公尺 寬{self.width}公尺的矩形,其周長{round(self._perimeter,ndigits=3)}公尺, 面積{round(self._area,ndigits=3)}平方公尺\")\n",
    "        else:\n",
    "            print(f\"長{self.length/100}公尺 寬{self.width/100}公尺的矩形,其周長{round(self._perimeter,ndigits=3)}公尺, 面積{round(self._area,ndigits=3)}平方公尺\")\n",
    "        \n",
    "    \n",
    "def input_function():\n",
    "    unit=pyip.inputMenu([\"公尺\",\"公分\"], prompt=\"請選擇計算單位\\n\", lettered=True)\n",
    "    w:float=pyip.inputFloat(\"請輸入寬度: \")\n",
    "    l:float=pyip.inputFloat(\"請輸入長度: \")\n",
    "    return unit,w,l\n",
    "\n",
    "def main():\n",
    "    try: \n",
    "        selection=pyip.inputYesNo(\"Python 105 矩形面積計算, 要執行程式請按'y', 結束請按'q':\",yesVal='y',noVal='q')\n",
    "        if selection=='y':\n",
    "            unit,w,l=input_function()\n",
    "            area_calculation=RectangularArea(unit,w,l)\n",
    "            area_calculation.calculation_method()\n",
    "            area_calculation.display_method()\n",
    "        else:\n",
    "            print(\"程序結束，謝謝使用！\")\n",
    "            return\n",
    "               \n",
    "    except Exception as error:\n",
    "        print(f\"發生無法預期的錯誤, {error}\")\n",
    "        return\n",
    "\n",
    "if __name__==\"__main__\":\n",
    "    main()"
   ]
  },
  {
   "cell_type": "markdown",
   "metadata": {},
   "source": [
    "# Python 106 公里英哩換算\n",
    "假設一賽跑選手在x分y秒的時間跑完z公里，請撰寫一程式，輸入x、y、z數值，最後顯示此選手每小時的平均英哩速度（1英哩等於1.6公里）。"
   ]
  },
  {
   "cell_type": "code",
   "execution_count": 25,
   "metadata": {},
   "outputs": [
    {
     "name": "stdout",
     "output_type": "stream",
     "text": [
      "speed=10.8 unit:mile/hour\n"
     ]
    }
   ],
   "source": [
    "min=eval(input(\"How much time in minutes:\"))\n",
    "sec=eval(input(\"How much time in seconds:\"))\n",
    "dis=eval(input(\"How long the distance (km):\"))\n",
    "speed=(dis/1.6)/((60*min+sec)/(60*60))\n",
    "print(f\"speed={speed} unit:mile/hour\")"
   ]
  },
  {
   "cell_type": "markdown",
   "metadata": {},
   "source": [
    "##### 程式I: 函數式編程(Functional Programming, FP)"
   ]
  },
  {
   "cell_type": "code",
   "execution_count": 27,
   "metadata": {},
   "outputs": [
    {
     "name": "stdout",
     "output_type": "stream",
     "text": [
      "請輸入時間（分鐘）:請輸入時間（秒）:請輸入距離:\n",
      "速率=10.8 英里/小時\n"
     ]
    }
   ],
   "source": [
    "import pyinputplus as pyip\n",
    "\n",
    "def compute(x:int,y:int,z:float):\n",
    "    return (z/1.6)/((60*x+y)/(60*60))\n",
    "\n",
    "def main():\n",
    "    try:\n",
    "        min:int=pyip.inputInt(\"請輸入時間(分鐘）:\", greaterThan=0)\n",
    "        sec:int=pyip.inputInt(\"請輸入時間(秒）:\", greaterThan=0)\n",
    "        dis:float=pyip.inputFloat(\"請輸入距離(公里):\\n\", greaterThan=0)\n",
    "        speed=compute(min,sec,dis)\n",
    "        print(f\"速率={round(speed, ndigits=3)} 英里/小時\")\n",
    "\n",
    "    except Exception as error:\n",
    "        print(f\"an unexpected error has occurred: {error}\")\n",
    "\n",
    "if __name__==\"__main__\":\n",
    "    main()"
   ]
  },
  {
   "cell_type": "markdown",
   "metadata": {},
   "source": [
    "##### 程式II: 物件導向程式設計（Object-oriented programming，OOP)"
   ]
  },
  {
   "cell_type": "code",
   "execution_count": null,
   "metadata": {},
   "outputs": [],
   "source": [
    "import pyinputplus as pyip\n",
    "\n",
    "class KilometerToMileConversion():\n",
    "    \n",
    "    def __init__(self,min:int,sec:int,dis:float):\n",
    "        self.minutes=min\n",
    "        self.seconds=sec\n",
    "        self.distances=dis\n",
    "        self._speed=None\n",
    "        \n",
    "    @property\n",
    "    def speed(self):\n",
    "        return self._speed\n",
    "                \n",
    "    def calculation_method(self)->None:\n",
    "        self._speed=(self.distances/1.6)/((60*self.minutes+self.seconds)/(60*60))\n",
    "    def display_method(self)->None:\n",
    "        print(f\"速率={round(self._speed, ndigits=3)} 英里/小時\")\n",
    "\n",
    "def input_function():\n",
    "    min:int=pyip.inputInt(\"請輸入時間(分鐘）:\", greaterThan=0)\n",
    "    sec:int=pyip.inputInt(\"請輸入時間(秒）:\", greaterThan=0)\n",
    "    dis:float=pyip.inputFloat(\"請輸入距離(公里):\\n\", greaterThan=0)\n",
    "    return min,sec,dis\n",
    "\n",
    "\n",
    "def main():\n",
    "    try:\n",
    "        selection=pyip.inputYesNo(\"Python 106 公里英哩換算, 要執行程式請按'y', 結束請按'q':\",yesVal='y',noVal='q')\n",
    "        if selection=='y':\n",
    "            min,sec,dis=input_function()\n",
    "            conversion_calculation=KilometerToMileConversion(min,sec,dis)\n",
    "            conversion_calculation.calculation_method()\n",
    "            conversion_calculation.display_method()\n",
    "        \n",
    "        else:\n",
    "            print(\"程序結束，謝謝使用！\")\n",
    "            return                \n",
    "\n",
    "               \n",
    "    except Exception as error:\n",
    "        print(f\"發生無法預期的錯誤, {error}\")\n",
    "        return\n",
    "\n",
    "if __name__==\"__main__\":\n",
    "    main()"
   ]
  },
  {
   "cell_type": "markdown",
   "metadata": {},
   "source": [
    "# Python 107 數值計算\n",
    "請撰寫一程式，讓使用者輸入五個數字，計算並輸出這五個數字之數值、總和及平均數。"
   ]
  },
  {
   "cell_type": "code",
   "execution_count": 12,
   "metadata": {},
   "outputs": [
    {
     "name": "stdout",
     "output_type": "stream",
     "text": [
      "這五個數字之總和15及平均數3.0\n"
     ]
    }
   ],
   "source": [
    "a=eval(input(\"please input the 1st number:\"))\n",
    "b=eval(input(\"please input the 2nd number:\"))\n",
    "c=eval(input(\"please input the 3rd number:\"))\n",
    "d=eval(input(\"please input the 4th number:\"))\n",
    "e=eval(input(\"please input the 5th number:\"))\n",
    "num=[a,b,c,d,e]\n",
    "total=sum(num)\n",
    "avg=sum(num)/len(num)\n",
    "print(f\"這五個數字之總和{total}及平均數{avg}\")"
   ]
  },
  {
   "cell_type": "code",
   "execution_count": 3,
   "metadata": {},
   "outputs": [
    {
     "name": "stdout",
     "output_type": "stream",
     "text": [
      "總共要輸入幾次? 請輸入第1個數字: 請輸入第2個數字: 請輸入第3個數字: 總和: 60, 平均值: 20.0\n",
      "離開程式! 謝謝使用\n"
     ]
    }
   ],
   "source": [
    "import pyinputplus as pyip\n",
    "while True:\n",
    "    try:\n",
    "        selection:str=input(\"要使用程式計算總合和平均'y' 或是按'q'離開: \")\n",
    "        if selection=='q':\n",
    "            print(\"離開程式! 謝謝使用\")\n",
    "            break\n",
    "        elif selection=='y':\n",
    "            n:int=pyip.inputInt(\"總共要輸入幾次? \",min=1)\n",
    "            lst=[]\n",
    "            for i in range (n):\n",
    "                number=pyip.inputInt(f\"請輸入第{i+1}個數字: \")\n",
    "                lst.append(number)\n",
    "            total=sum(lst)\n",
    "            average=total/len(lst)\n",
    "            print(f\"總和: {total}, 平均值: {average}\")\n",
    "        else:\n",
    "            print(\"請輸入有效的選項 ('y' 計算 或 'q' 離開)\")\n",
    "\n",
    "    except Exception as error:\n",
    "        print(f\"發生未預期的錯誤, {error}\")\n",
    "    "
   ]
  },
  {
   "cell_type": "markdown",
   "metadata": {},
   "source": [
    "##### 程式I: 函數式編程(Functional Programming, FP)"
   ]
  },
  {
   "cell_type": "code",
   "execution_count": 4,
   "metadata": {},
   "outputs": [
    {
     "name": "stdout",
     "output_type": "stream",
     "text": [
      "總共要輸入幾次? 請輸入第1個數字: 請輸入第2個數字: 請輸入第3個數字: 總和: 60, 平均值: 20.0\n",
      "離開程式! 謝謝使用\n"
     ]
    }
   ],
   "source": [
    "import pyinputplus as pyip\n",
    "\n",
    "def compute():\n",
    "    n:int=pyip.inputInt(\"總共要輸入幾次? \",min=1)\n",
    "    lst=[]\n",
    "    for i in range(n):\n",
    "        number:float=pyip.inputFloat(f\"請輸入第{i+1}個數字: \")\n",
    "        lst.append(number)\n",
    "    total=sum(lst)\n",
    "    average=total/len(lst)\n",
    "    return total, average\n",
    "\n",
    "def main():\n",
    "\n",
    "    while True:\n",
    "        try:\n",
    "            selection:str=input(\"要使用程式計算總合和平均'y' 或是按'q'離開: \")\n",
    "\n",
    "            if selection=='y':\n",
    "                total, average=compute()\n",
    "                print(f\"總和: {total}, 平均值: {average}\")\n",
    "\n",
    "            elif selection=='q':\n",
    "                print(\"離開程式! 謝謝使用\")\n",
    "                break\n",
    "\n",
    "            else:\n",
    "                print(\"請輸入有效的選項 ('y' 計算 或 'q' 離開)\")\n",
    "            \n",
    "        except Exception as error:\n",
    "            print(f\"發生未預期的錯誤, {error}\")\n",
    "\n",
    "if __name__ ==\"__main__\":\n",
    "    main()    \n"
   ]
  },
  {
   "cell_type": "markdown",
   "metadata": {},
   "source": [
    "##### 程式II: 物件導向程式設計（Object-oriented programming，OOP)"
   ]
  },
  {
   "cell_type": "code",
   "execution_count": null,
   "metadata": {},
   "outputs": [],
   "source": [
    "import pyinputplus as pyip\n",
    "\n",
    "class NumericalCalculation:\n",
    "    def __init__(self,number:list[int]):\n",
    "        self.numbers=number\n",
    "        self._average=None\n",
    "        self._total=None\n",
    "        \n",
    "    @property\n",
    "    def total(self):\n",
    "        return self._total\n",
    "    @property\n",
    "    def average(self):\n",
    "        return self._average\n",
    "                \n",
    "    def calculation_method(self) -> None:\n",
    "        self._total=sum(self.numbers)\n",
    "        self._average=self._total/len(self.numbers)\n",
    "        \n",
    "    def display_method(self) -> None:\n",
    "        print(f\"{self.numbers} 其總和:{self._total}, 平均值:{self._average}\")\n",
    "               \n",
    "def input_function():\n",
    "    n:int=pyip.inputInt(\"總共要輸入幾次? \",min=1)\n",
    "    number=[]\n",
    "    for i in range (n):\n",
    "        num:float=pyip.inputFloat(f\"請輸入第{i+1}個數字: \")\n",
    "        number.append(num)\n",
    "    return number\n",
    "           \n",
    "\n",
    "def main():\n",
    "\n",
    "    while True:\n",
    "        try:\n",
    "            selection:str=pyip.inputYesNo(\"Python 107 數值計算, 要使用程式請按'y'或是按'q'離開:\", yesVal=\"y\",noVal='q')\n",
    "            if selection=='y':\n",
    "                number=input_function()\n",
    "                numerical_calculation=NumericalCalculation(number)\n",
    "                numerical_calculation.calculation_method()\n",
    "                numerical_calculation.display_method()\n",
    "                  \n",
    "            else:\n",
    "                print(\"離開程式! 謝謝使用\")\n",
    "                break\n",
    "            \n",
    "        except Exception as error:\n",
    "            print(f\"發生未預期的錯誤, {error}\")\n",
    "            break\n",
    "\n",
    "if __name__ ==\"__main__\":\n",
    "    main()    \n",
    "\n"
   ]
  },
  {
   "cell_type": "markdown",
   "metadata": {},
   "source": [
    "### [Key Note]:\n",
    "\n",
    "錯誤1: 變數名衝突：sum 是 Python 內建的函數，用來計算序列的總和。如果用 sum 來作為變數名，就會覆蓋內建的 sum 函數，這會導致程式出錯。因此，我們應該用不同的變數名，比如 total_sum 或 total\\\n",
    "錯誤2：lst.append[number]: 這裡的 append 應該是函數調用，而不是像索引一樣使用中括號，正確的應該是 lst.append(number)。\\\n",
    "錯誤3 \"compute(total, average)\" : 函數直接返回 total 和 average，主程式接收這些值並打印。\n",
    "不再需要將 total 和 average 作為函數參數傳入：因為計算是在函數內完成，這些變數不需要傳遞，僅需要返回"
   ]
  },
  {
   "cell_type": "markdown",
   "metadata": {},
   "source": [
    "# Python 108 座標距離計算\n",
    "設計說明：\n",
    "請撰寫一程式，讓使用者輸入四個數字x1、y1、x2、y2，分別代表兩個點的座標(x1, y1)、(x2, y2)。計算並輸出這兩點的座標與其歐式距離。\n",
    "歐式距離 =√((x1−x2)2+(y1−y2)2)"
   ]
  },
  {
   "cell_type": "code",
   "execution_count": 2,
   "metadata": {},
   "outputs": [
    {
     "name": "stdout",
     "output_type": "stream",
     "text": [
      "The distance between points (2, 1) and (5.5, 8) is 7.8262\n"
     ]
    }
   ],
   "source": [
    "x1=eval(input(\"please input the value of coordinate X1:\"))\n",
    "y1=eval(input(\"please input the value of coordinate Y1:\"))\n",
    "x2=eval(input(\"please input the value of coordinate X2:\"))\n",
    "y2=eval(input(\"please input the value of coordinate Y2:\"))\n",
    "d=((x1-x2)**2+(y1-y2)**2)**(1/2)\n",
    "print(f\"The distance between points {x1, y1} and {x2, y2} is {round(d,ndigits=4)}\")\n"
   ]
  },
  {
   "cell_type": "markdown",
   "metadata": {},
   "source": [
    "### [Key Note]:\n",
    "1. main() 函數\\\n",
    "(A) def 是 Python 中用來定義函數的關鍵字。\\\n",
    "(B) main 是函數的名稱，通常用來作為程序的入口點，這意味著這個函數包含了程式的主要邏輯或功能。\n",
    "2. if __name__ == \"__main__\":\n",
    "這一行的作用是檢查當前執行的模塊是否是主程序。具體來說：\n",
    "__name__ 變數:\\\n",
    "(A) 每個 Python 模塊都有一個內置的 __name__ 屬性。\\\n",
    "(B) 如果這個模塊是被直接執行的，__name__ 的值將是 \"__main__\"。\\\n",
    "(C) 如果這個模塊是被其他模塊導入的，__name__ 將是模塊的名稱。\n"
   ]
  },
  {
   "cell_type": "markdown",
   "metadata": {},
   "source": [
    "##### 程式I: 函數式編程(Functional Programming, FP)"
   ]
  },
  {
   "cell_type": "code",
   "execution_count": 2,
   "metadata": {},
   "outputs": [
    {
     "name": "stdout",
     "output_type": "stream",
     "text": [
      "please input the value of coordinate X1:please input the value of coordinate Y1:please input the value of coordinate X2:please input the value of coordinate Y2:\n",
      "The distance between points (2.0, 1.0) and (5.5, 8.0) is 7.8262\n"
     ]
    }
   ],
   "source": [
    "import pyinputplus as pyip\n",
    "\n",
    "def coordinate(x1:float,y1: float,x2: float,y2: float):\n",
    "    d=((x1-x2)**2+(y1-y2)**2)**(1/2)\n",
    "    return d\n",
    "\n",
    "def main():\n",
    "\n",
    "    try: \n",
    "            \n",
    "        x1:float=pyip.inputFloat(\"please input the value of coordinate X1:\")\n",
    "        y1:float=pyip.inputFloat(\"please input the value of coordinate Y1:\")\n",
    "        x2:float=pyip.inputFloat(\"please input the value of coordinate X2:\")\n",
    "        y2:float=pyip.inputFloat(\"please input the value of coordinate Y2:\")\n",
    "        print()\n",
    "\n",
    "        dist=coordinate(x1,y1,x2,y2)\n",
    "        print(f\"The distance between the points {x1, y1} and {x2, y2} is {round(dist,ndigits=4)}\")\n",
    "    except Exception as error:\n",
    "        print(f\"an unexpected error has occurred: {error}\")\n",
    "\n",
    "if __name__==\"__main__\":\n",
    "    main()\n"
   ]
  },
  {
   "cell_type": "markdown",
   "metadata": {},
   "source": [
    "##### 程式II: 物件導向程式設計（Object-oriented programming，OOP)"
   ]
  },
  {
   "cell_type": "code",
   "execution_count": null,
   "metadata": {},
   "outputs": [],
   "source": [
    "import pyinputplus as pyip\n",
    "\n",
    "class CoordinateDistanceCalculation:\n",
    "\n",
    "    def __init__(self,x1:float,y1:float,x2: float,y2: float) ->None:\n",
    "        self.x1=x1\n",
    "        self.y1=y1\n",
    "        self.x2=x2\n",
    "        self.y2=y2\n",
    "    \n",
    "    @property\n",
    "    def distance(self):\n",
    "        return self._distance\n",
    "\n",
    "    def calculation_method(self) ->None:\n",
    "        self._distance=((self.x1-self.x2)**2+(self.y1-self.y2)**2)**(1/2)\n",
    "    \n",
    "    def display_method(self) ->None:\n",
    "        print(f\"兩點 {self.x1, self.y1} {self.x2, self.y2} 之間的距離是 {round(self._distance,ndigits=4)}\")\n",
    "    \n",
    "def input_function():\n",
    "    x1:float=pyip.inputFloat(\"請輸入第一個座標值 X1:\")\n",
    "    y1:float=pyip.inputFloat(\"請輸入第一個座標值 Y1:\")\n",
    "    x2:float=pyip.inputFloat(\"請輸入第二個座標值 X2:\")\n",
    "    y2:float=pyip.inputFloat(\"請輸入第二個座標值 Y2:\")\n",
    "    return x1,y1,x2,y2    \n",
    "\n",
    "\n",
    "def main():\n",
    "\n",
    "    try:\n",
    "        selection:str=pyip.inputYesNo(\"Python 108 座標距離計算, 要使用程式請按'y'或是按'q'離開:\", yesVal=\"y\",noVal='q')\n",
    "        if selection=='y': \n",
    "            x1,y1,x2,y2=input_function()\n",
    "            distance_calculation=CoordinateDistanceCalculation(x1,y1,x2,y2)\n",
    "            distance_calculation.calculation_method()\n",
    "            distance_calculation.display_method()\n",
    "            \n",
    "        else:\n",
    "            print(\"離開程式! 謝謝使用\")\n",
    "            return\n",
    "            \n",
    "    except Exception as error:\n",
    "            print(f\"發生未預期的錯誤, {error}\")\n",
    "            return\n",
    "\n",
    "if __name__ ==\"__main__\":\n",
    "    main()    "
   ]
  },
  {
   "cell_type": "markdown",
   "metadata": {},
   "source": [
    "# Python 110 正n邊形面積計算\n",
    "請撰寫一程式，讓使用者輸入兩個正數n、s，代表正n邊形之邊長為s，計算並輸出此正n邊形之面積（Area）。\\\n",
    "提示1：建議使用import math模組的math.pow及math.tan\\\n",
    "提示2：正n邊形面積的公式如下：Area = (n * s^2) / (4 * tan(pi/n))\\\n",
    "提示3：輸出浮點數到小數點後第四位"
   ]
  },
  {
   "cell_type": "code",
   "execution_count": 4,
   "metadata": {},
   "outputs": [
    {
     "name": "stdout",
     "output_type": "stream",
     "text": [
      "正5邊形的面積為43.0119\n"
     ]
    }
   ],
   "source": [
    "import math\n",
    "n=int(input(\"請輸入正n邊形, n:\"))\n",
    "s=int(input(f\"請輸入正{n}邊形的邊長,s: \"))\n",
    "area=(n*s**2)/(4*math.tan(math.pi/n))\n",
    "print(f\"正{n}邊形的面積為{round(area,ndigits=4)}\")\n"
   ]
  },
  {
   "cell_type": "markdown",
   "metadata": {},
   "source": [
    "##### 程式I: 函數式編程(Functional Programming, FP)"
   ]
  },
  {
   "cell_type": "code",
   "execution_count": null,
   "metadata": {},
   "outputs": [],
   "source": [
    "import math\n",
    "import pyinputplus as pyip\n",
    "        \n",
    "def compute(n:int,s: float):\n",
    "        area=(n*s**2)/(4*math.tan(math.pi/n))\n",
    "        return area\n",
    "\n",
    "def main():\n",
    "    try:\n",
    "        n:int=pyip.inputInt(\"請輸入正n邊形, n:\",min=3)\n",
    "        s:float=pyip.inputFloat(f\"請輸入正{n}邊形的邊長,s: \")\n",
    "        area=compute(n,s)\n",
    "        print(f\"正{n}邊形的面積為{round(area,ndigits=4)}\")\n",
    "\n",
    "    except Exception as error:\n",
    "        print(f\"發生未預期的錯誤, {error}\")\n",
    "\n",
    "if __name__==\"__main__\":\n",
    "     main()\n",
    "\n"
   ]
  },
  {
   "cell_type": "markdown",
   "metadata": {},
   "source": [
    "##### 程式II: 物件導向程式設計（Object-oriented programming，OOP)"
   ]
  },
  {
   "cell_type": "code",
   "execution_count": null,
   "metadata": {},
   "outputs": [],
   "source": [
    "import math\n",
    "import pyinputplus as pyip\n",
    "\n",
    "class CalculationOfArea():\n",
    "    def __init__(self,n:int,s: float) ->None:\n",
    "        self.n_gon=n\n",
    "        self.length=s\n",
    "        self._area=None\n",
    "        \n",
    "    @property\n",
    "    def area(self):\n",
    "        return self._area\n",
    "    \n",
    "    def calculation_method(self) ->None:\n",
    "        self._area=(self.n_gon*self.length**2)/(4*math.tan(math.pi/self.n_gon))\n",
    "    \n",
    "    def display_method(self) ->None:\n",
    "        print(f\"正{self.n_gon}邊形的面積為{round(self._area,ndigits=4)}\")\n",
    "    \n",
    "def input_function():\n",
    "    n:int=pyip.inputInt(\"請輸入正n邊形, n:\",min=3)\n",
    "    s:float=pyip.inputFloat(f\"請輸入正{n}邊形的邊長,s: \")\n",
    "    return n,s\n",
    "\n",
    "def main():\n",
    "    try:\n",
    "        selection:str=pyip.inputYesNo(\"Python 110 正n邊形面積計算, 要使用程式請按'y'或是按'q'離開:\", yesVal=\"y\",noVal='q')\n",
    "        if selection=='y':\n",
    "            n,s=input_function()\n",
    "            n_gon_area=CalculationOfArea(n,s)\n",
    "            n_gon_area.calculation_method()\n",
    "            n_gon_area.display_method()   \n",
    "        else:\n",
    "            print(\"離開程式! 謝謝使用\")\n",
    "            return\n",
    "            \n",
    "    except Exception as error:\n",
    "            print(f\"發生未預期的錯誤, {error}\")\n",
    "            return\n",
    "\n",
    "if __name__ ==\"__main__\":\n",
    "    main()    "
   ]
  }
 ],
 "metadata": {
  "kernelspec": {
   "display_name": ".venv",
   "language": "python",
   "name": "python3"
  },
  "language_info": {
   "codemirror_mode": {
    "name": "ipython",
    "version": 3
   },
   "file_extension": ".py",
   "mimetype": "text/x-python",
   "name": "python",
   "nbconvert_exporter": "python",
   "pygments_lexer": "ipython3",
   "version": "3.12.3"
  }
 },
 "nbformat": 4,
 "nbformat_minor": 2
}
